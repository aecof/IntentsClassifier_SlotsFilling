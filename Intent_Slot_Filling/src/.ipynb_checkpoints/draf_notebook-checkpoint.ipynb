{
 "cells": [
  {
   "cell_type": "code",
   "execution_count": 3,
   "id": "d6dfd869-8ea6-4b97-8a9b-d5463500310e",
   "metadata": {
    "id": "d6dfd869-8ea6-4b97-8a9b-d5463500310e"
   },
   "outputs": [],
   "source": [
    "import json\n",
    "import torch\n",
    "import pandas as pd\n",
    "import re\n",
    "import numpy as np\n",
    "import os\n",
    "#import category_encoders as ce\n",
    "import pandas as pd\n",
    "import seaborn as sns\n",
    "import torch\n",
    "import matplotlib.pyplot as plt\n",
    "import torch\n",
    "#import torchnlp\n",
    "from torch import nn\n",
    "from torch.nn.utils.rnn import pad_sequence, pad_packed_sequence, pack_padded_sequence\n",
    "from sklearn.preprocessing import LabelEncoder, OneHotEncoder\n",
    "import torch\n",
    "import torch.nn as nn\n",
    "import torch.nn.functional as F\n",
    "import torch.optim as optim\n",
    "from prettytable import PrettyTable\n",
    "from tqdm import tqdm\n",
    "import shutil\n",
    "import json\n",
    "import itertools\n",
    "from torch.utils.data import DataLoader, Dataset, TensorDataset\n",
    "from torch.utils.data._utils.collate import default_convert\n"
   ]
  },
  {
   "cell_type": "code",
   "execution_count": 82,
   "id": "919f5ff4-c069-47a3-9ca5-a65dbcf90231",
   "metadata": {
    "id": "919f5ff4-c069-47a3-9ca5-a65dbcf90231"
   },
   "outputs": [],
   "source": [
    "def save_ckp(state, is_best, checkpoint_path, best_model_path):\n",
    "    \"\"\"\n",
    "    state: checkpoint we want to save\n",
    "    is_best: is this the best checkpoint; min validation loss\n",
    "    checkpoint_path: path to save checkpoint\n",
    "    best_model_path: path to save best model\n",
    "    \"\"\"\n",
    "    f_path = checkpoint_path\n",
    "    # save checkpoint data to the path given, checkpoint_path\n",
    "    torch.save(state, f_path)\n",
    "    # if it is a best model, min validation loss\n",
    "    if is_best:\n",
    "        best_fpath = best_model_path\n",
    "        # copy that checkpoint file to best path given, best_model_path\n",
    "        shutil.copyfile(f_path, best_fpath)"
   ]
  },
  {
   "cell_type": "code",
   "execution_count": 83,
   "id": "c20a1f93-cdc6-40fa-a05e-38a4b32ad0f6",
   "metadata": {
    "id": "c20a1f93-cdc6-40fa-a05e-38a4b32ad0f6"
   },
   "outputs": [],
   "source": [
    "def load_ckp(checkpoint_fpath, model, optimizer):\n",
    "    \"\"\"\n",
    "    checkpoint_path: path to save checkpoint\n",
    "    model: model that we want to load checkpoint parameters into\n",
    "    optimizer: optimizer we defined in previous training\n",
    "    \"\"\"\n",
    "    # load check point\n",
    "    checkpoint = torch.load(checkpoint_fpath)\n",
    "    # initialize state_dict from checkpoint to model\n",
    "    model.load_state_dict(checkpoint[\"state_dict\"])\n",
    "    # initialize optimizer from checkpoint to optimizer\n",
    "    optimizer.load_state_dict(checkpoint[\"optimizer\"])\n",
    "    # initialize valid_loss_min from checkpoint to valid_loss_min\n",
    "    valid_loss_min = checkpoint[\"valid_loss_min\"]\n",
    "    # return model, optimizer, epoch value, min validation loss\n",
    "    return model, optimizer, checkpoint[\"epoch\"], valid_loss_min.item()"
   ]
  },
  {
   "cell_type": "code",
   "execution_count": 84,
   "id": "077862d0-6f9b-4e58-8b10-96cea7dced4c",
   "metadata": {
    "colab": {
     "base_uri": "https://localhost:8080/"
    },
    "id": "077862d0-6f9b-4e58-8b10-96cea7dced4c",
    "outputId": "0fd230a7-9c52-4721-939a-4ab052b00233"
   },
   "outputs": [
    {
     "name": "stderr",
     "output_type": "stream",
     "text": [
      "[nltk_data] Downloading package wordnet to\n",
      "[nltk_data]     C:\\Users\\arthu\\AppData\\Roaming\\nltk_data...\n",
      "[nltk_data]   Package wordnet is already up-to-date!\n"
     ]
    }
   ],
   "source": [
    "import numpy as np\n",
    "import nltk\n",
    "nltk.download('wordnet')\n",
    "from nltk.stem.wordnet import WordNetLemmatizer \n",
    "wn_lemmatiser = WordNetLemmatizer()\n",
    "\n",
    "def tokenise(sentence):\n",
    "  tokens = ''.join([char if ord('a') <= ord(char.lower()) <= ord('z') or char.isdigit() else ' ' for char in f'{sentence} '.replace(':','').replace(\"`\",\"'\").replace('pm ',' pm ')])\n",
    "  ts = []\n",
    "  for token in tokens.split():\n",
    "    if \"am \" in f'{token} ' and len(token) > 2 and token[-3].isdigit(): #avoid splitting words like ham, spam, sam, etc\n",
    "      ts.extend([token[:-2],\"am\"])\n",
    "    else:\n",
    "      ts.append(token)\n",
    "  return ts\n",
    "\n",
    "def normalise(sentence): \n",
    "  return [\"*\" * len(token) if token.isdigit() else wn_lemmatiser.lemmatize(token.lower(),'v') for token in tokenise(sentence)] "
   ]
  },
  {
   "cell_type": "code",
   "execution_count": 85,
   "id": "f2dd9f44-166e-4ddd-aff0-408ede17ef02",
   "metadata": {
    "id": "f2dd9f44-166e-4ddd-aff0-408ede17ef02"
   },
   "outputs": [],
   "source": [
    "dataf = pd.read_csv('./data_dir/train.tsv',sep='\\t')"
   ]
  },
  {
   "cell_type": "code",
   "execution_count": 86,
   "id": "HvmW7kQ7RPiU",
   "metadata": {
    "id": "HvmW7kQ7RPiU"
   },
   "outputs": [],
   "source": [
    "dict_slots_df = pd.read_csv('./data_dir/dict.slots.csv',header=None)"
   ]
  },
  {
   "cell_type": "code",
   "execution_count": 87,
   "id": "Fb8ivopz3liW",
   "metadata": {
    "colab": {
     "base_uri": "https://localhost:8080/"
    },
    "id": "Fb8ivopz3liW",
    "outputId": "f176e21c-9419-4366-bd3e-1db1e63d59ff"
   },
   "outputs": [
    {
     "data": {
      "text/plain": [
       "53"
      ]
     },
     "execution_count": 87,
     "metadata": {},
     "output_type": "execute_result"
    }
   ],
   "source": [
    "list(dict_slots_df[0]).index('O')"
   ]
  },
  {
   "cell_type": "code",
   "execution_count": 88,
   "id": "d6c58879-d48a-4866-95af-afc58f8aaffe",
   "metadata": {
    "id": "d6c58879-d48a-4866-95af-afc58f8aaffe"
   },
   "outputs": [],
   "source": [
    "dataf['normalised'] = (dataf['sentence'].apply(lambda x : normalise(x)))\n"
   ]
  },
  {
   "cell_type": "code",
   "execution_count": 89,
   "id": "9d91301a-52cf-411c-83a2-dc9e56edd714",
   "metadata": {
    "colab": {
     "base_uri": "https://localhost:8080/",
     "height": 423
    },
    "id": "9d91301a-52cf-411c-83a2-dc9e56edd714",
    "outputId": "89c37169-edec-42d7-f215-f418b76c2ea1"
   },
   "outputs": [
    {
     "data": {
      "text/html": [
       "<div>\n",
       "<style scoped>\n",
       "    .dataframe tbody tr th:only-of-type {\n",
       "        vertical-align: middle;\n",
       "    }\n",
       "\n",
       "    .dataframe tbody tr th {\n",
       "        vertical-align: top;\n",
       "    }\n",
       "\n",
       "    .dataframe thead th {\n",
       "        text-align: right;\n",
       "    }\n",
       "</style>\n",
       "<table border=\"1\" class=\"dataframe\">\n",
       "  <thead>\n",
       "    <tr style=\"text-align: right;\">\n",
       "      <th></th>\n",
       "      <th>sentence</th>\n",
       "      <th>label</th>\n",
       "      <th>normalised</th>\n",
       "    </tr>\n",
       "  </thead>\n",
       "  <tbody>\n",
       "    <tr>\n",
       "      <th>0</th>\n",
       "      <td>add blue feather to the nature noise playlist</td>\n",
       "      <td>3</td>\n",
       "      <td>[add, blue, feather, to, the, nature, noise, p...</td>\n",
       "    </tr>\n",
       "    <tr>\n",
       "      <th>1</th>\n",
       "      <td>add song to my pure rock &amp; roll</td>\n",
       "      <td>3</td>\n",
       "      <td>[add, song, to, my, pure, rock, roll]</td>\n",
       "    </tr>\n",
       "    <tr>\n",
       "      <th>2</th>\n",
       "      <td>add track to kickass metal</td>\n",
       "      <td>3</td>\n",
       "      <td>[add, track, to, kickass, metal]</td>\n",
       "    </tr>\n",
       "    <tr>\n",
       "      <th>3</th>\n",
       "      <td>add no more sorrow to ultra metal</td>\n",
       "      <td>3</td>\n",
       "      <td>[add, no, more, sorrow, to, ultra, metal]</td>\n",
       "    </tr>\n",
       "    <tr>\n",
       "      <th>4</th>\n",
       "      <td>add the trey gunn tune to my french n' heavy p...</td>\n",
       "      <td>3</td>\n",
       "      <td>[add, the, trey, gunn, tune, to, my, french, n...</td>\n",
       "    </tr>\n",
       "    <tr>\n",
       "      <th>...</th>\n",
       "      <td>...</td>\n",
       "      <td>...</td>\n",
       "      <td>...</td>\n",
       "    </tr>\n",
       "    <tr>\n",
       "      <th>6995</th>\n",
       "      <td>i'd like to watch in high places</td>\n",
       "      <td>5</td>\n",
       "      <td>[i, d, like, to, watch, in, high, place]</td>\n",
       "    </tr>\n",
       "    <tr>\n",
       "      <th>6996</th>\n",
       "      <td>find the schedule for movies at star theatres.</td>\n",
       "      <td>5</td>\n",
       "      <td>[find, the, schedule, for, movies, at, star, t...</td>\n",
       "    </tr>\n",
       "    <tr>\n",
       "      <th>6997</th>\n",
       "      <td>show me movie schedules for today.</td>\n",
       "      <td>5</td>\n",
       "      <td>[show, me, movie, schedule, for, today]</td>\n",
       "    </tr>\n",
       "    <tr>\n",
       "      <th>6998</th>\n",
       "      <td>can i get showtimes for films in the neighborh...</td>\n",
       "      <td>5</td>\n",
       "      <td>[can, i, get, showtimes, for, film, in, the, n...</td>\n",
       "    </tr>\n",
       "    <tr>\n",
       "      <th>6999</th>\n",
       "      <td>find movie schedules at loews cineplex enterta...</td>\n",
       "      <td>5</td>\n",
       "      <td>[find, movie, schedule, at, loews, cineplex, e...</td>\n",
       "    </tr>\n",
       "  </tbody>\n",
       "</table>\n",
       "<p>7000 rows × 3 columns</p>\n",
       "</div>"
      ],
      "text/plain": [
       "                                               sentence  label  \\\n",
       "0         add blue feather to the nature noise playlist      3   \n",
       "1                       add song to my pure rock & roll      3   \n",
       "2                            add track to kickass metal      3   \n",
       "3                     add no more sorrow to ultra metal      3   \n",
       "4     add the trey gunn tune to my french n' heavy p...      3   \n",
       "...                                                 ...    ...   \n",
       "6995                   i'd like to watch in high places      5   \n",
       "6996     find the schedule for movies at star theatres.      5   \n",
       "6997                 show me movie schedules for today.      5   \n",
       "6998  can i get showtimes for films in the neighborh...      5   \n",
       "6999  find movie schedules at loews cineplex enterta...      5   \n",
       "\n",
       "                                             normalised  \n",
       "0     [add, blue, feather, to, the, nature, noise, p...  \n",
       "1                 [add, song, to, my, pure, rock, roll]  \n",
       "2                      [add, track, to, kickass, metal]  \n",
       "3             [add, no, more, sorrow, to, ultra, metal]  \n",
       "4     [add, the, trey, gunn, tune, to, my, french, n...  \n",
       "...                                                 ...  \n",
       "6995           [i, d, like, to, watch, in, high, place]  \n",
       "6996  [find, the, schedule, for, movies, at, star, t...  \n",
       "6997            [show, me, movie, schedule, for, today]  \n",
       "6998  [can, i, get, showtimes, for, film, in, the, n...  \n",
       "6999  [find, movie, schedule, at, loews, cineplex, e...  \n",
       "\n",
       "[7000 rows x 3 columns]"
      ]
     },
     "execution_count": 89,
     "metadata": {},
     "output_type": "execute_result"
    }
   ],
   "source": [
    "dataf"
   ]
  },
  {
   "cell_type": "code",
   "execution_count": 90,
   "id": "3756301d-2d91-4967-a79d-8350e29b0a12",
   "metadata": {
    "id": "3756301d-2d91-4967-a79d-8350e29b0a12"
   },
   "outputs": [],
   "source": [
    "df_test = pd.read_csv('./data_dir/test.tsv',sep='\\t')"
   ]
  },
  {
   "cell_type": "code",
   "execution_count": 91,
   "id": "2532348c-a40c-44c4-8faa-bfe81744c36c",
   "metadata": {
    "id": "2532348c-a40c-44c4-8faa-bfe81744c36c"
   },
   "outputs": [],
   "source": [
    "df_test['normalised'] = df_test['sentence'].apply(lambda x : normalise(x))"
   ]
  },
  {
   "cell_type": "code",
   "execution_count": 92,
   "id": "6b581d53-0bbc-4c5b-8dd2-e3dfa60f55af",
   "metadata": {
    "colab": {
     "base_uri": "https://localhost:8080/",
     "height": 423
    },
    "id": "6b581d53-0bbc-4c5b-8dd2-e3dfa60f55af",
    "outputId": "21e73ea7-62c7-4884-c196-c640ce155429"
   },
   "outputs": [
    {
     "data": {
      "text/html": [
       "<div>\n",
       "<style scoped>\n",
       "    .dataframe tbody tr th:only-of-type {\n",
       "        vertical-align: middle;\n",
       "    }\n",
       "\n",
       "    .dataframe tbody tr th {\n",
       "        vertical-align: top;\n",
       "    }\n",
       "\n",
       "    .dataframe thead th {\n",
       "        text-align: right;\n",
       "    }\n",
       "</style>\n",
       "<table border=\"1\" class=\"dataframe\">\n",
       "  <thead>\n",
       "    <tr style=\"text-align: right;\">\n",
       "      <th></th>\n",
       "      <th>sentence</th>\n",
       "      <th>label</th>\n",
       "      <th>normalised</th>\n",
       "    </tr>\n",
       "  </thead>\n",
       "  <tbody>\n",
       "    <tr>\n",
       "      <th>0</th>\n",
       "      <td>i'd like to have this track onto my classical ...</td>\n",
       "      <td>3</td>\n",
       "      <td>[i, d, like, to, have, this, track, onto, my, ...</td>\n",
       "    </tr>\n",
       "    <tr>\n",
       "      <th>1</th>\n",
       "      <td>add the album to my flow español playlist.</td>\n",
       "      <td>3</td>\n",
       "      <td>[add, the, album, to, my, flow, espa, ol, play...</td>\n",
       "    </tr>\n",
       "    <tr>\n",
       "      <th>2</th>\n",
       "      <td>add digging now to my young at heart playlist</td>\n",
       "      <td>3</td>\n",
       "      <td>[add, dig, now, to, my, young, at, heart, play...</td>\n",
       "    </tr>\n",
       "    <tr>\n",
       "      <th>3</th>\n",
       "      <td>add this song by too poetic to my piano ballad...</td>\n",
       "      <td>3</td>\n",
       "      <td>[add, this, song, by, too, poetic, to, my, pia...</td>\n",
       "    </tr>\n",
       "    <tr>\n",
       "      <th>4</th>\n",
       "      <td>add this album to old school death metal</td>\n",
       "      <td>3</td>\n",
       "      <td>[add, this, album, to, old, school, death, metal]</td>\n",
       "    </tr>\n",
       "    <tr>\n",
       "      <th>...</th>\n",
       "      <td>...</td>\n",
       "      <td>...</td>\n",
       "      <td>...</td>\n",
       "    </tr>\n",
       "    <tr>\n",
       "      <th>695</th>\n",
       "      <td>is any cinema playing the spirit of youth</td>\n",
       "      <td>5</td>\n",
       "      <td>[be, any, cinema, play, the, spirit, of, youth]</td>\n",
       "    </tr>\n",
       "    <tr>\n",
       "      <th>696</th>\n",
       "      <td>what are the movie times for animated movies i...</td>\n",
       "      <td>5</td>\n",
       "      <td>[what, be, the, movie, time, for, animate, mov...</td>\n",
       "    </tr>\n",
       "    <tr>\n",
       "      <th>697</th>\n",
       "      <td>what's the movie schedule at great escape thea...</td>\n",
       "      <td>5</td>\n",
       "      <td>[what, s, the, movie, schedule, at, great, esc...</td>\n",
       "    </tr>\n",
       "    <tr>\n",
       "      <th>698</th>\n",
       "      <td>show the times for cheers for miss bishop at d...</td>\n",
       "      <td>5</td>\n",
       "      <td>[show, the, time, for, cheer, for, miss, bisho...</td>\n",
       "    </tr>\n",
       "    <tr>\n",
       "      <th>699</th>\n",
       "      <td>i want to see married to the enemy 2 at a cinema.</td>\n",
       "      <td>5</td>\n",
       "      <td>[i, want, to, see, marry, to, the, enemy, *, a...</td>\n",
       "    </tr>\n",
       "  </tbody>\n",
       "</table>\n",
       "<p>700 rows × 3 columns</p>\n",
       "</div>"
      ],
      "text/plain": [
       "                                              sentence  label  \\\n",
       "0    i'd like to have this track onto my classical ...      3   \n",
       "1           add the album to my flow español playlist.      3   \n",
       "2        add digging now to my young at heart playlist      3   \n",
       "3    add this song by too poetic to my piano ballad...      3   \n",
       "4             add this album to old school death metal      3   \n",
       "..                                                 ...    ...   \n",
       "695          is any cinema playing the spirit of youth      5   \n",
       "696  what are the movie times for animated movies i...      5   \n",
       "697  what's the movie schedule at great escape thea...      5   \n",
       "698  show the times for cheers for miss bishop at d...      5   \n",
       "699  i want to see married to the enemy 2 at a cinema.      5   \n",
       "\n",
       "                                            normalised  \n",
       "0    [i, d, like, to, have, this, track, onto, my, ...  \n",
       "1    [add, the, album, to, my, flow, espa, ol, play...  \n",
       "2    [add, dig, now, to, my, young, at, heart, play...  \n",
       "3    [add, this, song, by, too, poetic, to, my, pia...  \n",
       "4    [add, this, album, to, old, school, death, metal]  \n",
       "..                                                 ...  \n",
       "695    [be, any, cinema, play, the, spirit, of, youth]  \n",
       "696  [what, be, the, movie, time, for, animate, mov...  \n",
       "697  [what, s, the, movie, schedule, at, great, esc...  \n",
       "698  [show, the, time, for, cheer, for, miss, bisho...  \n",
       "699  [i, want, to, see, marry, to, the, enemy, *, a...  \n",
       "\n",
       "[700 rows x 3 columns]"
      ]
     },
     "execution_count": 92,
     "metadata": {},
     "output_type": "execute_result"
    }
   ],
   "source": [
    "df_test"
   ]
  },
  {
   "cell_type": "code",
   "execution_count": 93,
   "id": "Gpf6_HhCZl8e",
   "metadata": {
    "id": "Gpf6_HhCZl8e"
   },
   "outputs": [],
   "source": [
    "with open('my_corpus','a') as f:\n",
    "  for elm in dataf['normalised'] :\n",
    "    f.write(' '.join(elm)+'\\n')\n",
    "  for elm in df_test['normalised']:\n",
    "    f.write(' '.join(elm)+'\\n')"
   ]
  },
  {
   "cell_type": "code",
   "execution_count": 94,
   "id": "d10225aa-5d6e-4146-a5d9-1ea725b9d222",
   "metadata": {
    "id": "d10225aa-5d6e-4146-a5d9-1ea725b9d222"
   },
   "outputs": [],
   "source": [
    "test = set()\n",
    "for list_str in df_test['normalised']:\n",
    "    test.update(list_str)"
   ]
  },
  {
   "cell_type": "code",
   "execution_count": 95,
   "id": "93ed5f6f-92dc-4a6e-8beb-4371672df0fe",
   "metadata": {
    "id": "93ed5f6f-92dc-4a6e-8beb-4371672df0fe"
   },
   "outputs": [],
   "source": [
    "train = set()\n",
    "for list_str in dataf['normalised']:\n",
    "    train.update(list_str)"
   ]
  },
  {
   "cell_type": "code",
   "execution_count": 96,
   "id": "528a4fdc-375e-4bde-9661-585cc7d78ad7",
   "metadata": {
    "id": "528a4fdc-375e-4bde-9661-585cc7d78ad7"
   },
   "outputs": [],
   "source": [
    "train.update(test)\n"
   ]
  },
  {
   "cell_type": "code",
   "execution_count": 97,
   "id": "dPrNGCZzfJUh",
   "metadata": {
    "id": "dPrNGCZzfJUh"
   },
   "outputs": [],
   "source": [
    "train.update(set(['<unk>']))"
   ]
  },
  {
   "cell_type": "code",
   "execution_count": 98,
   "id": "a08d37e9-e343-4ae5-a144-45e5ac854ebb",
   "metadata": {
    "id": "a08d37e9-e343-4ae5-a144-45e5ac854ebb"
   },
   "outputs": [],
   "source": [
    "slots_train = pd.read_csv('data_dir/train_slots.tsv',sep='\\t', header = None)"
   ]
  },
  {
   "cell_type": "code",
   "execution_count": 99,
   "id": "mdiXLGT32FGx",
   "metadata": {
    "colab": {
     "base_uri": "https://localhost:8080/",
     "height": 423
    },
    "id": "mdiXLGT32FGx",
    "outputId": "55032e31-8aa2-49bc-c138-3ac6511c6c6e"
   },
   "outputs": [
    {
     "data": {
      "text/html": [
       "<div>\n",
       "<style scoped>\n",
       "    .dataframe tbody tr th:only-of-type {\n",
       "        vertical-align: middle;\n",
       "    }\n",
       "\n",
       "    .dataframe tbody tr th {\n",
       "        vertical-align: top;\n",
       "    }\n",
       "\n",
       "    .dataframe thead th {\n",
       "        text-align: right;\n",
       "    }\n",
       "</style>\n",
       "<table border=\"1\" class=\"dataframe\">\n",
       "  <thead>\n",
       "    <tr style=\"text-align: right;\">\n",
       "      <th></th>\n",
       "      <th>0</th>\n",
       "    </tr>\n",
       "  </thead>\n",
       "  <tbody>\n",
       "    <tr>\n",
       "      <th>0</th>\n",
       "      <td>53 53 42 42 53 53 53 53 41 41 53 53</td>\n",
       "    </tr>\n",
       "    <tr>\n",
       "      <th>1</th>\n",
       "      <td>53 53 43 53 53 53 40 53 53 41 41 41 41</td>\n",
       "    </tr>\n",
       "    <tr>\n",
       "      <th>2</th>\n",
       "      <td>53 53 43 53 53 53 41 41</td>\n",
       "    </tr>\n",
       "    <tr>\n",
       "      <th>3</th>\n",
       "      <td>53 53 42 42 42 53 53 53 41 41</td>\n",
       "    </tr>\n",
       "    <tr>\n",
       "      <th>4</th>\n",
       "      <td>53 53 53 39 39 53 53 43 53 53 53 40 53 53 41 4...</td>\n",
       "    </tr>\n",
       "    <tr>\n",
       "      <th>...</th>\n",
       "      <td>...</td>\n",
       "    </tr>\n",
       "    <tr>\n",
       "      <th>6995</th>\n",
       "      <td>53 53 53 53 53 6 6 6</td>\n",
       "    </tr>\n",
       "    <tr>\n",
       "      <th>6996</th>\n",
       "      <td>53 53 53 8 53 53 53 7 53 53 53 5 5 53</td>\n",
       "    </tr>\n",
       "    <tr>\n",
       "      <th>6997</th>\n",
       "      <td>53 53 53 8 8 53 53 53</td>\n",
       "    </tr>\n",
       "    <tr>\n",
       "      <th>6998</th>\n",
       "      <td>53 53 53 53 53 53 7 53 53 3 3 3 53</td>\n",
       "    </tr>\n",
       "    <tr>\n",
       "      <th>6999</th>\n",
       "      <td>53 53 8 8 53 53 53 5 5 5</td>\n",
       "    </tr>\n",
       "  </tbody>\n",
       "</table>\n",
       "<p>7000 rows × 1 columns</p>\n",
       "</div>"
      ],
      "text/plain": [
       "                                                      0\n",
       "0                   53 53 42 42 53 53 53 53 41 41 53 53\n",
       "1                53 53 43 53 53 53 40 53 53 41 41 41 41\n",
       "2                               53 53 43 53 53 53 41 41\n",
       "3                         53 53 42 42 42 53 53 53 41 41\n",
       "4     53 53 53 39 39 53 53 43 53 53 53 40 53 53 41 4...\n",
       "...                                                 ...\n",
       "6995                               53 53 53 53 53 6 6 6\n",
       "6996              53 53 53 8 53 53 53 7 53 53 53 5 5 53\n",
       "6997                              53 53 53 8 8 53 53 53\n",
       "6998                 53 53 53 53 53 53 7 53 53 3 3 3 53\n",
       "6999                           53 53 8 8 53 53 53 5 5 5\n",
       "\n",
       "[7000 rows x 1 columns]"
      ]
     },
     "execution_count": 99,
     "metadata": {},
     "output_type": "execute_result"
    }
   ],
   "source": [
    "slots_train"
   ]
  },
  {
   "cell_type": "code",
   "execution_count": 100,
   "id": "bd601c81-f5d2-41c7-bc7a-c95f3677b047",
   "metadata": {
    "id": "bd601c81-f5d2-41c7-bc7a-c95f3677b047"
   },
   "outputs": [],
   "source": [
    "itos = list(train)"
   ]
  },
  {
   "cell_type": "code",
   "execution_count": null,
   "id": "DyC549qXf6wz",
   "metadata": {
    "id": "DyC549qXf6wz"
   },
   "outputs": [],
   "source": []
  },
  {
   "cell_type": "code",
   "execution_count": 101,
   "id": "7a1fcc53-6b10-4036-8731-cc75819b8c3f",
   "metadata": {
    "id": "7a1fcc53-6b10-4036-8731-cc75819b8c3f"
   },
   "outputs": [],
   "source": [
    "stoi = {elm : i+1 for i,elm in enumerate(itos)}"
   ]
  },
  {
   "cell_type": "code",
   "execution_count": 102,
   "id": "86f36322-c615-4a1c-bdce-fc0be7a2b081",
   "metadata": {
    "id": "86f36322-c615-4a1c-bdce-fc0be7a2b081"
   },
   "outputs": [],
   "source": [
    "dataf['i_split']=dataf['normalised'].apply(lambda x : [stoi[elm] for elm in x])"
   ]
  },
  {
   "cell_type": "code",
   "execution_count": 103,
   "id": "-Z2hTNY12KBg",
   "metadata": {
    "id": "-Z2hTNY12KBg"
   },
   "outputs": [],
   "source": [
    "dataf['slots'] = slots_train[0]"
   ]
  },
  {
   "cell_type": "code",
   "execution_count": 106,
   "id": "9bdb73f7-21bb-4d12-b5a6-536d9638f1b9",
   "metadata": {
    "id": "9bdb73f7-21bb-4d12-b5a6-536d9638f1b9"
   },
   "outputs": [],
   "source": [
    "df_test['i_split']=df_test['normalised'].apply(lambda x : [stoi[elm] for elm in x])"
   ]
  },
  {
   "cell_type": "code",
   "execution_count": 107,
   "id": "10fef754-b6ee-4269-9fd2-ae1e8e353a70",
   "metadata": {
    "colab": {
     "base_uri": "https://localhost:8080/"
    },
    "id": "10fef754-b6ee-4269-9fd2-ae1e8e353a70",
    "outputId": "4e874e77-577e-4723-dc8d-b98ef7a0b478"
   },
   "outputs": [
    {
     "data": {
      "text/plain": [
       "31"
      ]
     },
     "execution_count": 107,
     "metadata": {},
     "output_type": "execute_result"
    }
   ],
   "source": [
    "max(dataf['normalised'].apply(lambda x : len(x)))"
   ]
  },
  {
   "cell_type": "code",
   "execution_count": 75,
   "id": "cad4f435-6e6f-4f3b-9d77-85f87e464c13",
   "metadata": {},
   "outputs": [],
   "source": [
    "def word2idx(x, stoi):\n",
    "    res = []\n",
    "    for word in x :\n",
    "        if stoi.get(word):\n",
    "            idx = stoi.get(word)\n",
    "        else :\n",
    "            idx = stoi.get('<unk>')\n",
    "        res.append(idx)\n",
    "    return res"
   ]
  },
  {
   "cell_type": "code",
   "execution_count": 79,
   "id": "3c2d0046-c45c-46c8-a0b6-5a2d95c7e1a8",
   "metadata": {},
   "outputs": [],
   "source": [
    "def preprocess_sentences(df, stoi, max_len):\n",
    "    tmp = df['sentence'].apply(lambda x : word2idx(x, stoi))\n",
    "    tmp = tmp.apply(lambda x : clip_pad(x, max_len))\n",
    "    return tmp"
   ]
  },
  {
   "cell_type": "code",
   "execution_count": 80,
   "id": "d59eed4f-f15f-4a0e-928a-7848b4f6b6e5",
   "metadata": {},
   "outputs": [],
   "source": [
    "tmp_df = pd.DataFrame()\n",
    "tmp_df['sentence'] = dataf['normalised']"
   ]
  },
  {
   "cell_type": "code",
   "execution_count": 81,
   "id": "acfb2663-3ff7-4c6f-8341-f25937b0ab87",
   "metadata": {},
   "outputs": [
    {
     "data": {
      "text/plain": [
       "0       [7109, 4009, 3662, 83, 2887, 2940, 2069, 943, ...\n",
       "1       [7109, 7033, 83, 6084, 4394, 2645, 3758, 0, 0,...\n",
       "3       [7109, 1444, 1748, 7313, 83, 6196, 3879, 0, 0,...\n",
       "5       [272, 6755, 7109, 6293, 83, 3747, 955, 5964, 0...\n",
       "7       [7109, 2911, 3750, 83, 6084, 943, 3410, 4272, ...\n",
       "                              ...                        \n",
       "6993    [5848, 306, 5245, 6737, 4442, 6876, 2887, 4533...\n",
       "6995    [3878, 2487, 1676, 83, 5437, 5245, 4952, 6145,...\n",
       "6996    [5848, 2887, 6499, 1003, 1968, 6876, 5853, 697...\n",
       "6997    [4255, 4980, 6899, 6499, 1003, 4919, 0, 0, 0, ...\n",
       "6998    [272, 3878, 6313, 1098, 1003, 306, 5245, 2887,...\n",
       "Name: sentence, Length: 5600, dtype: object"
      ]
     },
     "execution_count": 81,
     "metadata": {},
     "output_type": "execute_result"
    }
   ],
   "source": [
    "preprocess_sentences(tmp_df,stoi, 12)"
   ]
  },
  {
   "cell_type": "code",
   "execution_count": null,
   "id": "1d227b4d-5c8b-4497-9760-49802a2e459f",
   "metadata": {},
   "outputs": [],
   "source": []
  },
  {
   "cell_type": "code",
   "execution_count": 28,
   "id": "e1f602c4-c2a6-4214-87e1-1068c4b27109",
   "metadata": {
    "id": "e1f602c4-c2a6-4214-87e1-1068c4b27109"
   },
   "outputs": [],
   "source": [
    "vocab_len = len(stoi)"
   ]
  },
  {
   "cell_type": "code",
   "execution_count": 29,
   "id": "d905d796-bb10-405b-bf3c-a90d8edc05cd",
   "metadata": {
    "id": "d905d796-bb10-405b-bf3c-a90d8edc05cd"
   },
   "outputs": [],
   "source": [
    "sentence_len = 12"
   ]
  },
  {
   "cell_type": "code",
   "execution_count": 30,
   "id": "a2176a77-91d4-4155-8785-1a418c74a410",
   "metadata": {
    "id": "a2176a77-91d4-4155-8785-1a418c74a410"
   },
   "outputs": [],
   "source": [
    "def one_hot_encoding(x, dimensions):\n",
    "    res = np.zeros(dimensions, dtype = int)\n",
    "    res[x] = 1\n",
    "    return res"
   ]
  },
  {
   "cell_type": "code",
   "execution_count": 31,
   "id": "bf95d01b-36d2-405d-b650-7c72ad02e024",
   "metadata": {
    "id": "bf95d01b-36d2-405d-b650-7c72ad02e024"
   },
   "outputs": [],
   "source": [
    "def clip_pad(xs,length,pad=[0]):\n",
    "  xs = [x[:length] for x in xs]  #clips it if too long\n",
    "  xs = [x + pad * (length - len(x)) for x in xs] #pads it if too short\n",
    "  return xs"
   ]
  },
  {
   "cell_type": "code",
   "execution_count": 32,
   "id": "f99a153e-2f27-4908-aba5-45eeab9234de",
   "metadata": {
    "id": "f99a153e-2f27-4908-aba5-45eeab9234de"
   },
   "outputs": [],
   "source": [
    "dataf['padded_seq'] = clip_pad(dataf['i_split'],sentence_len)"
   ]
  },
  {
   "cell_type": "code",
   "execution_count": 33,
   "id": "hoqN8QBa8Dur",
   "metadata": {
    "id": "hoqN8QBa8Dur"
   },
   "outputs": [],
   "source": [
    "dataf['split_slots'] = dataf['slots'].apply(lambda x : x.split(' '))"
   ]
  },
  {
   "cell_type": "code",
   "execution_count": 34,
   "id": "h8iIzzl-4F_J",
   "metadata": {
    "id": "h8iIzzl-4F_J"
   },
   "outputs": [],
   "source": [
    "dataf['padded_slots'] = clip_pad(dataf['split_slots'], sentence_len, [list(dict_slots_df[0]).index('O')])"
   ]
  },
  {
   "cell_type": "code",
   "execution_count": 35,
   "id": "8ae00caf-2e2b-49f5-a673-f3ffd17d5618",
   "metadata": {
    "id": "8ae00caf-2e2b-49f5-a673-f3ffd17d5618"
   },
   "outputs": [],
   "source": [
    "dataf['oh_intent'] = dataf['label'].apply(lambda x : one_hot_encoding(x,max(dataf['label'])+1))"
   ]
  },
  {
   "cell_type": "code",
   "execution_count": 36,
   "id": "9e771af8-ee9a-43d8-ae45-83f607402e8a",
   "metadata": {
    "id": "9e771af8-ee9a-43d8-ae45-83f607402e8a"
   },
   "outputs": [],
   "source": [
    "df_test['oh_intent'] = df_test['label'].apply(lambda x : one_hot_encoding(x,max(dataf['label'])+1))"
   ]
  },
  {
   "cell_type": "code",
   "execution_count": 37,
   "id": "e1b82187-b441-4678-9645-ffbef3cbae57",
   "metadata": {
    "id": "e1b82187-b441-4678-9645-ffbef3cbae57"
   },
   "outputs": [],
   "source": [
    "df_val = dataf.sample(frac = 0.2)"
   ]
  },
  {
   "cell_type": "code",
   "execution_count": 38,
   "id": "7ca8fa8d-8d11-4f6f-9ea9-612d47cd1bec",
   "metadata": {
    "id": "7ca8fa8d-8d11-4f6f-9ea9-612d47cd1bec"
   },
   "outputs": [],
   "source": [
    "dataf = dataf.drop(df_val.index)"
   ]
  },
  {
   "cell_type": "code",
   "execution_count": 39,
   "id": "z3_QAVLp2Rox",
   "metadata": {
    "colab": {
     "base_uri": "https://localhost:8080/",
     "height": 970
    },
    "id": "z3_QAVLp2Rox",
    "outputId": "3167a78c-3dc7-48c5-d2f6-1217e412ecd8"
   },
   "outputs": [
    {
     "data": {
      "text/html": [
       "<div>\n",
       "<style scoped>\n",
       "    .dataframe tbody tr th:only-of-type {\n",
       "        vertical-align: middle;\n",
       "    }\n",
       "\n",
       "    .dataframe tbody tr th {\n",
       "        vertical-align: top;\n",
       "    }\n",
       "\n",
       "    .dataframe thead th {\n",
       "        text-align: right;\n",
       "    }\n",
       "</style>\n",
       "<table border=\"1\" class=\"dataframe\">\n",
       "  <thead>\n",
       "    <tr style=\"text-align: right;\">\n",
       "      <th></th>\n",
       "      <th>sentence</th>\n",
       "      <th>label</th>\n",
       "      <th>normalised</th>\n",
       "      <th>i_split</th>\n",
       "      <th>slots</th>\n",
       "      <th>padded_seq</th>\n",
       "      <th>split_slots</th>\n",
       "      <th>padded_slots</th>\n",
       "      <th>oh_intent</th>\n",
       "    </tr>\n",
       "  </thead>\n",
       "  <tbody>\n",
       "    <tr>\n",
       "      <th>0</th>\n",
       "      <td>add blue feather to the nature noise playlist</td>\n",
       "      <td>3</td>\n",
       "      <td>[add, blue, feather, to, the, nature, noise, p...</td>\n",
       "      <td>[7109, 4009, 3662, 83, 2887, 2940, 2069, 943]</td>\n",
       "      <td>53 53 42 42 53 53 53 53 41 41 53 53</td>\n",
       "      <td>[7109, 4009, 3662, 83, 2887, 2940, 2069, 943, ...</td>\n",
       "      <td>[53, 53, 42, 42, 53, 53, 53, 53, 41, 41, 53, 53]</td>\n",
       "      <td>[53, 53, 42, 42, 53, 53, 53, 53, 41, 41, 53, 53]</td>\n",
       "      <td>[0, 0, 0, 1, 0, 0, 0]</td>\n",
       "    </tr>\n",
       "    <tr>\n",
       "      <th>1</th>\n",
       "      <td>add song to my pure rock &amp; roll</td>\n",
       "      <td>3</td>\n",
       "      <td>[add, song, to, my, pure, rock, roll]</td>\n",
       "      <td>[7109, 7033, 83, 6084, 4394, 2645, 3758]</td>\n",
       "      <td>53 53 43 53 53 53 40 53 53 41 41 41 41</td>\n",
       "      <td>[7109, 7033, 83, 6084, 4394, 2645, 3758, 0, 0,...</td>\n",
       "      <td>[53, 53, 43, 53, 53, 53, 40, 53, 53, 41, 41, 4...</td>\n",
       "      <td>[53, 53, 43, 53, 53, 53, 40, 53, 53, 41, 41, 41]</td>\n",
       "      <td>[0, 0, 0, 1, 0, 0, 0]</td>\n",
       "    </tr>\n",
       "    <tr>\n",
       "      <th>3</th>\n",
       "      <td>add no more sorrow to ultra metal</td>\n",
       "      <td>3</td>\n",
       "      <td>[add, no, more, sorrow, to, ultra, metal]</td>\n",
       "      <td>[7109, 1444, 1748, 7313, 83, 6196, 3879]</td>\n",
       "      <td>53 53 42 42 42 53 53 53 41 41</td>\n",
       "      <td>[7109, 1444, 1748, 7313, 83, 6196, 3879, 0, 0,...</td>\n",
       "      <td>[53, 53, 42, 42, 42, 53, 53, 53, 41, 41]</td>\n",
       "      <td>[53, 53, 42, 42, 42, 53, 53, 53, 41, 41, 53, 53]</td>\n",
       "      <td>[0, 0, 0, 1, 0, 0, 0]</td>\n",
       "    </tr>\n",
       "    <tr>\n",
       "      <th>5</th>\n",
       "      <td>can you add xanadu to latin alternative music</td>\n",
       "      <td>3</td>\n",
       "      <td>[can, you, add, xanadu, to, latin, alternative...</td>\n",
       "      <td>[272, 6755, 7109, 6293, 83, 3747, 955, 5964]</td>\n",
       "      <td>53 53 53 53 42 53 53 53 41 41 41</td>\n",
       "      <td>[272, 6755, 7109, 6293, 83, 3747, 955, 5964, 0...</td>\n",
       "      <td>[53, 53, 53, 53, 42, 53, 53, 53, 41, 41, 41]</td>\n",
       "      <td>[53, 53, 53, 53, 42, 53, 53, 53, 41, 41, 41, 53]</td>\n",
       "      <td>[0, 0, 0, 1, 0, 0, 0]</td>\n",
       "    </tr>\n",
       "    <tr>\n",
       "      <th>7</th>\n",
       "      <td>add jonny buckland to my playlist weekly buzz</td>\n",
       "      <td>3</td>\n",
       "      <td>[add, jonny, buckland, to, my, playlist, weekl...</td>\n",
       "      <td>[7109, 2911, 3750, 83, 6084, 943, 3410, 4272]</td>\n",
       "      <td>53 53 39 39 53 53 53 40 53 53 53 41 41</td>\n",
       "      <td>[7109, 2911, 3750, 83, 6084, 943, 3410, 4272, ...</td>\n",
       "      <td>[53, 53, 39, 39, 53, 53, 53, 40, 53, 53, 53, 4...</td>\n",
       "      <td>[53, 53, 39, 39, 53, 53, 53, 40, 53, 53, 53, 41]</td>\n",
       "      <td>[0, 0, 0, 1, 0, 0, 0]</td>\n",
       "    </tr>\n",
       "    <tr>\n",
       "      <th>...</th>\n",
       "      <td>...</td>\n",
       "      <td>...</td>\n",
       "      <td>...</td>\n",
       "      <td>...</td>\n",
       "      <td>...</td>\n",
       "      <td>...</td>\n",
       "      <td>...</td>\n",
       "      <td>...</td>\n",
       "      <td>...</td>\n",
       "    </tr>\n",
       "    <tr>\n",
       "      <th>6993</th>\n",
       "      <td>find films in 12 hours at the nearest movie th...</td>\n",
       "      <td>5</td>\n",
       "      <td>[find, film, in, **, hours, at, the, nearest, ...</td>\n",
       "      <td>[5848, 306, 5245, 6737, 4442, 6876, 2887, 4533...</td>\n",
       "      <td>53 53 7 53 53 53 53 53 53 53 53 53 3 53 53 4 4</td>\n",
       "      <td>[5848, 306, 5245, 6737, 4442, 6876, 2887, 4533...</td>\n",
       "      <td>[53, 53, 7, 53, 53, 53, 53, 53, 53, 53, 53, 53...</td>\n",
       "      <td>[53, 53, 7, 53, 53, 53, 53, 53, 53, 53, 53, 53]</td>\n",
       "      <td>[0, 0, 0, 0, 0, 1, 0]</td>\n",
       "    </tr>\n",
       "    <tr>\n",
       "      <th>6995</th>\n",
       "      <td>i'd like to watch in high places</td>\n",
       "      <td>5</td>\n",
       "      <td>[i, d, like, to, watch, in, high, place]</td>\n",
       "      <td>[3878, 2487, 1676, 83, 5437, 5245, 4952, 6145]</td>\n",
       "      <td>53 53 53 53 53 6 6 6</td>\n",
       "      <td>[3878, 2487, 1676, 83, 5437, 5245, 4952, 6145,...</td>\n",
       "      <td>[53, 53, 53, 53, 53, 6, 6, 6]</td>\n",
       "      <td>[53, 53, 53, 53, 53, 6, 6, 6, 53, 53, 53, 53]</td>\n",
       "      <td>[0, 0, 0, 0, 0, 1, 0]</td>\n",
       "    </tr>\n",
       "    <tr>\n",
       "      <th>6996</th>\n",
       "      <td>find the schedule for movies at star theatres.</td>\n",
       "      <td>5</td>\n",
       "      <td>[find, the, schedule, for, movies, at, star, t...</td>\n",
       "      <td>[5848, 2887, 6499, 1003, 1968, 6876, 5853, 6977]</td>\n",
       "      <td>53 53 53 8 53 53 53 7 53 53 53 5 5 53</td>\n",
       "      <td>[5848, 2887, 6499, 1003, 1968, 6876, 5853, 697...</td>\n",
       "      <td>[53, 53, 53, 8, 53, 53, 53, 7, 53, 53, 53, 5, ...</td>\n",
       "      <td>[53, 53, 53, 8, 53, 53, 53, 7, 53, 53, 53, 5]</td>\n",
       "      <td>[0, 0, 0, 0, 0, 1, 0]</td>\n",
       "    </tr>\n",
       "    <tr>\n",
       "      <th>6997</th>\n",
       "      <td>show me movie schedules for today.</td>\n",
       "      <td>5</td>\n",
       "      <td>[show, me, movie, schedule, for, today]</td>\n",
       "      <td>[4255, 4980, 6899, 6499, 1003, 4919]</td>\n",
       "      <td>53 53 53 8 8 53 53 53</td>\n",
       "      <td>[4255, 4980, 6899, 6499, 1003, 4919, 0, 0, 0, ...</td>\n",
       "      <td>[53, 53, 53, 8, 8, 53, 53, 53]</td>\n",
       "      <td>[53, 53, 53, 8, 8, 53, 53, 53, 53, 53, 53, 53]</td>\n",
       "      <td>[0, 0, 0, 0, 0, 1, 0]</td>\n",
       "    </tr>\n",
       "    <tr>\n",
       "      <th>6998</th>\n",
       "      <td>can i get showtimes for films in the neighborh...</td>\n",
       "      <td>5</td>\n",
       "      <td>[can, i, get, showtimes, for, film, in, the, n...</td>\n",
       "      <td>[272, 3878, 6313, 1098, 1003, 306, 5245, 2887,...</td>\n",
       "      <td>53 53 53 53 53 53 7 53 53 3 3 3 53</td>\n",
       "      <td>[272, 3878, 6313, 1098, 1003, 306, 5245, 2887,...</td>\n",
       "      <td>[53, 53, 53, 53, 53, 53, 7, 53, 53, 3, 3, 3, 53]</td>\n",
       "      <td>[53, 53, 53, 53, 53, 53, 7, 53, 53, 3, 3, 3]</td>\n",
       "      <td>[0, 0, 0, 0, 0, 1, 0]</td>\n",
       "    </tr>\n",
       "  </tbody>\n",
       "</table>\n",
       "<p>5600 rows × 9 columns</p>\n",
       "</div>"
      ],
      "text/plain": [
       "                                               sentence  label  \\\n",
       "0         add blue feather to the nature noise playlist      3   \n",
       "1                       add song to my pure rock & roll      3   \n",
       "3                     add no more sorrow to ultra metal      3   \n",
       "5         can you add xanadu to latin alternative music      3   \n",
       "7         add jonny buckland to my playlist weekly buzz      3   \n",
       "...                                                 ...    ...   \n",
       "6993  find films in 12 hours at the nearest movie th...      5   \n",
       "6995                   i'd like to watch in high places      5   \n",
       "6996     find the schedule for movies at star theatres.      5   \n",
       "6997                 show me movie schedules for today.      5   \n",
       "6998  can i get showtimes for films in the neighborh...      5   \n",
       "\n",
       "                                             normalised  \\\n",
       "0     [add, blue, feather, to, the, nature, noise, p...   \n",
       "1                 [add, song, to, my, pure, rock, roll]   \n",
       "3             [add, no, more, sorrow, to, ultra, metal]   \n",
       "5     [can, you, add, xanadu, to, latin, alternative...   \n",
       "7     [add, jonny, buckland, to, my, playlist, weekl...   \n",
       "...                                                 ...   \n",
       "6993  [find, film, in, **, hours, at, the, nearest, ...   \n",
       "6995           [i, d, like, to, watch, in, high, place]   \n",
       "6996  [find, the, schedule, for, movies, at, star, t...   \n",
       "6997            [show, me, movie, schedule, for, today]   \n",
       "6998  [can, i, get, showtimes, for, film, in, the, n...   \n",
       "\n",
       "                                                i_split  \\\n",
       "0         [7109, 4009, 3662, 83, 2887, 2940, 2069, 943]   \n",
       "1              [7109, 7033, 83, 6084, 4394, 2645, 3758]   \n",
       "3              [7109, 1444, 1748, 7313, 83, 6196, 3879]   \n",
       "5          [272, 6755, 7109, 6293, 83, 3747, 955, 5964]   \n",
       "7         [7109, 2911, 3750, 83, 6084, 943, 3410, 4272]   \n",
       "...                                                 ...   \n",
       "6993  [5848, 306, 5245, 6737, 4442, 6876, 2887, 4533...   \n",
       "6995     [3878, 2487, 1676, 83, 5437, 5245, 4952, 6145]   \n",
       "6996   [5848, 2887, 6499, 1003, 1968, 6876, 5853, 6977]   \n",
       "6997               [4255, 4980, 6899, 6499, 1003, 4919]   \n",
       "6998  [272, 3878, 6313, 1098, 1003, 306, 5245, 2887,...   \n",
       "\n",
       "                                               slots  \\\n",
       "0                53 53 42 42 53 53 53 53 41 41 53 53   \n",
       "1             53 53 43 53 53 53 40 53 53 41 41 41 41   \n",
       "3                      53 53 42 42 42 53 53 53 41 41   \n",
       "5                   53 53 53 53 42 53 53 53 41 41 41   \n",
       "7             53 53 39 39 53 53 53 40 53 53 53 41 41   \n",
       "...                                              ...   \n",
       "6993  53 53 7 53 53 53 53 53 53 53 53 53 3 53 53 4 4   \n",
       "6995                            53 53 53 53 53 6 6 6   \n",
       "6996           53 53 53 8 53 53 53 7 53 53 53 5 5 53   \n",
       "6997                           53 53 53 8 8 53 53 53   \n",
       "6998              53 53 53 53 53 53 7 53 53 3 3 3 53   \n",
       "\n",
       "                                             padded_seq  \\\n",
       "0     [7109, 4009, 3662, 83, 2887, 2940, 2069, 943, ...   \n",
       "1     [7109, 7033, 83, 6084, 4394, 2645, 3758, 0, 0,...   \n",
       "3     [7109, 1444, 1748, 7313, 83, 6196, 3879, 0, 0,...   \n",
       "5     [272, 6755, 7109, 6293, 83, 3747, 955, 5964, 0...   \n",
       "7     [7109, 2911, 3750, 83, 6084, 943, 3410, 4272, ...   \n",
       "...                                                 ...   \n",
       "6993  [5848, 306, 5245, 6737, 4442, 6876, 2887, 4533...   \n",
       "6995  [3878, 2487, 1676, 83, 5437, 5245, 4952, 6145,...   \n",
       "6996  [5848, 2887, 6499, 1003, 1968, 6876, 5853, 697...   \n",
       "6997  [4255, 4980, 6899, 6499, 1003, 4919, 0, 0, 0, ...   \n",
       "6998  [272, 3878, 6313, 1098, 1003, 306, 5245, 2887,...   \n",
       "\n",
       "                                            split_slots  \\\n",
       "0      [53, 53, 42, 42, 53, 53, 53, 53, 41, 41, 53, 53]   \n",
       "1     [53, 53, 43, 53, 53, 53, 40, 53, 53, 41, 41, 4...   \n",
       "3              [53, 53, 42, 42, 42, 53, 53, 53, 41, 41]   \n",
       "5          [53, 53, 53, 53, 42, 53, 53, 53, 41, 41, 41]   \n",
       "7     [53, 53, 39, 39, 53, 53, 53, 40, 53, 53, 53, 4...   \n",
       "...                                                 ...   \n",
       "6993  [53, 53, 7, 53, 53, 53, 53, 53, 53, 53, 53, 53...   \n",
       "6995                      [53, 53, 53, 53, 53, 6, 6, 6]   \n",
       "6996  [53, 53, 53, 8, 53, 53, 53, 7, 53, 53, 53, 5, ...   \n",
       "6997                     [53, 53, 53, 8, 8, 53, 53, 53]   \n",
       "6998   [53, 53, 53, 53, 53, 53, 7, 53, 53, 3, 3, 3, 53]   \n",
       "\n",
       "                                          padded_slots              oh_intent  \n",
       "0     [53, 53, 42, 42, 53, 53, 53, 53, 41, 41, 53, 53]  [0, 0, 0, 1, 0, 0, 0]  \n",
       "1     [53, 53, 43, 53, 53, 53, 40, 53, 53, 41, 41, 41]  [0, 0, 0, 1, 0, 0, 0]  \n",
       "3     [53, 53, 42, 42, 42, 53, 53, 53, 41, 41, 53, 53]  [0, 0, 0, 1, 0, 0, 0]  \n",
       "5     [53, 53, 53, 53, 42, 53, 53, 53, 41, 41, 41, 53]  [0, 0, 0, 1, 0, 0, 0]  \n",
       "7     [53, 53, 39, 39, 53, 53, 53, 40, 53, 53, 53, 41]  [0, 0, 0, 1, 0, 0, 0]  \n",
       "...                                                ...                    ...  \n",
       "6993   [53, 53, 7, 53, 53, 53, 53, 53, 53, 53, 53, 53]  [0, 0, 0, 0, 0, 1, 0]  \n",
       "6995     [53, 53, 53, 53, 53, 6, 6, 6, 53, 53, 53, 53]  [0, 0, 0, 0, 0, 1, 0]  \n",
       "6996     [53, 53, 53, 8, 53, 53, 53, 7, 53, 53, 53, 5]  [0, 0, 0, 0, 0, 1, 0]  \n",
       "6997    [53, 53, 53, 8, 8, 53, 53, 53, 53, 53, 53, 53]  [0, 0, 0, 0, 0, 1, 0]  \n",
       "6998      [53, 53, 53, 53, 53, 53, 7, 53, 53, 3, 3, 3]  [0, 0, 0, 0, 0, 1, 0]  \n",
       "\n",
       "[5600 rows x 9 columns]"
      ]
     },
     "execution_count": 39,
     "metadata": {},
     "output_type": "execute_result"
    }
   ],
   "source": [
    "dataf"
   ]
  },
  {
   "cell_type": "code",
   "execution_count": 60,
   "id": "d99fe7bd-82c0-4bec-84e6-3637413a4366",
   "metadata": {
    "id": "d99fe7bd-82c0-4bec-84e6-3637413a4366"
   },
   "outputs": [],
   "source": [
    "class SentenceDataset(Dataset):\n",
    "    def __init__(self, df, transform, target_transform, slots_transform):\n",
    "        self.x = df[\"padded_seq\"].to_numpy()\n",
    "        self.intent = df[\"oh_intent\"].to_numpy()\n",
    "        self.slots = df[\"padded_slots\"].to_numpy()\n",
    "        self.transform = transform\n",
    "        self.target_transform = target_transform\n",
    "        self.slots_transform = slots_transform\n",
    "\n",
    "    def __len__(self):\n",
    "        return len(self.intent)\n",
    "\n",
    "    def __getitem__(self, idx):\n",
    "\n",
    "        return torch.IntTensor(self.transform(self.x[idx])), torch.LongTensor(\n",
    "            self.target_transform(self.intent[idx])), torch.LongTensor(self.slots_transform(self.slots[idx])).transpose(0,1)\n",
    "        "
   ]
  },
  {
   "cell_type": "code",
   "execution_count": 41,
   "id": "bf9e665c-cd39-43bc-8cda-632ab5c17d7c",
   "metadata": {
    "id": "bf9e665c-cd39-43bc-8cda-632ab5c17d7c"
   },
   "outputs": [],
   "source": [
    "class IntentClassifier(nn.Module):\n",
    "    def __init__(\n",
    "        self,\n",
    "        vocab_size,\n",
    "        output_size,\n",
    "        num_slots,\n",
    "        embedding_dim,\n",
    "        embedding_matrix,\n",
    "        hidden_size,\n",
    "        num_layers,\n",
    "        drop_prob=0.5,\n",
    "    ):\n",
    "        super(IntentClassifier, self).__init__()\n",
    "        self.embedding = nn.Embedding(vocab_size, embedding_dim)\n",
    "        self.embedding.weights = nn.Parameter(torch.from_numpy(embedding_matrix))\n",
    "        self.hidden_size = hidden_size\n",
    "        self.num_layers = num_layers\n",
    "        self.lstm = nn.LSTM(\n",
    "            embedding_dim, hidden_size, num_layers, batch_first=True, bidirectional=True\n",
    "        )\n",
    "        self.fc = nn.Linear(hidden_size * 2, output_size)  # 2 for bidirection\n",
    "        self.fc_slot = nn.Linear(hidden_size * 2, num_slots)\n",
    "        self.dropout = nn.Dropout(drop_prob)\n",
    "        \n",
    "\n",
    "    #### A very simple network composed of an embedding layer, a stack of (num_layers) LSTMs with dropout and finally a fully connected layer ####\n",
    "    def forward(self, x):\n",
    "        decode = []\n",
    "        h0 = torch.zeros(self.num_layers * 2, x.size(0), self.hidden_size).to(\n",
    "            device\n",
    "        )  # 2 for bidirection\n",
    "        c0 = torch.zeros(self.num_layers * 2, x.size(0), self.hidden_size).to(device)\n",
    "\n",
    "        # Forward propagate LSTM\n",
    "        length = x.size(1)\n",
    "        out = self.embedding(x)\n",
    "        out, _ = self.lstm(\n",
    "            out, (h0, c0)\n",
    "        )  # out: tensor of shape (batch_size, seq_length, hidden_size*2)\n",
    "        out = self.dropout(out)\n",
    "\n",
    "        for i in range(length):\n",
    "          score = self.fc_slot(out[:,i,:])\n",
    "          decode.append(score)\n",
    "\n",
    "        # Decode the hidden state of the last time step\n",
    "        intent = self.fc(out[:, -1, :])\n",
    "\n",
    "        decode = torch.cat(decode, 1)\n",
    "        \n",
    "        return intent,decode.view(x.size(0), num_slots, length)"
   ]
  },
  {
   "cell_type": "code",
   "execution_count": 61,
   "id": "f63aed57-02eb-4499-89b4-b57f53cc312d",
   "metadata": {},
   "outputs": [
    {
     "ename": "TypeError",
     "evalue": "__main__.<lambda> is not a Module subclass",
     "output_type": "error",
     "traceback": [
      "\u001b[1;31m---------------------------------------------------------------------------\u001b[0m",
      "\u001b[1;31mTypeError\u001b[0m                                 Traceback (most recent call last)",
      "\u001b[1;32m~\\AppData\\Local\\Temp/ipykernel_23172/881921510.py\u001b[0m in \u001b[0;36m<module>\u001b[1;34m\u001b[0m\n\u001b[1;32m----> 1\u001b[1;33m \u001b[0msentence_transform\u001b[0m \u001b[1;33m=\u001b[0m \u001b[0mtorch\u001b[0m\u001b[1;33m.\u001b[0m\u001b[0mnn\u001b[0m\u001b[1;33m.\u001b[0m\u001b[0mSequential\u001b[0m\u001b[1;33m(\u001b[0m\u001b[1;32mlambda\u001b[0m \u001b[0mx\u001b[0m \u001b[1;33m:\u001b[0m \u001b[0mword2idx\u001b[0m\u001b[1;33m(\u001b[0m\u001b[0mx\u001b[0m\u001b[1;33m,\u001b[0m\u001b[0mstoi\u001b[0m\u001b[1;33m)\u001b[0m\u001b[1;33m,\u001b[0m \u001b[1;32mlambda\u001b[0m \u001b[0mx\u001b[0m \u001b[1;33m:\u001b[0m \u001b[0mclip_pad\u001b[0m\u001b[1;33m(\u001b[0m\u001b[0mx\u001b[0m\u001b[1;33m,\u001b[0m\u001b[1;36m12\u001b[0m\u001b[1;33m)\u001b[0m\u001b[1;33m)\u001b[0m\u001b[1;33m\u001b[0m\u001b[1;33m\u001b[0m\u001b[0m\n\u001b[0m",
      "\u001b[1;32m~\\anaconda3\\lib\\site-packages\\torch\\nn\\modules\\container.py\u001b[0m in \u001b[0;36m__init__\u001b[1;34m(self, *args)\u001b[0m\n\u001b[0;32m     89\u001b[0m         \u001b[1;32melse\u001b[0m\u001b[1;33m:\u001b[0m\u001b[1;33m\u001b[0m\u001b[1;33m\u001b[0m\u001b[0m\n\u001b[0;32m     90\u001b[0m             \u001b[1;32mfor\u001b[0m \u001b[0midx\u001b[0m\u001b[1;33m,\u001b[0m \u001b[0mmodule\u001b[0m \u001b[1;32min\u001b[0m \u001b[0menumerate\u001b[0m\u001b[1;33m(\u001b[0m\u001b[0margs\u001b[0m\u001b[1;33m)\u001b[0m\u001b[1;33m:\u001b[0m\u001b[1;33m\u001b[0m\u001b[1;33m\u001b[0m\u001b[0m\n\u001b[1;32m---> 91\u001b[1;33m                 \u001b[0mself\u001b[0m\u001b[1;33m.\u001b[0m\u001b[0madd_module\u001b[0m\u001b[1;33m(\u001b[0m\u001b[0mstr\u001b[0m\u001b[1;33m(\u001b[0m\u001b[0midx\u001b[0m\u001b[1;33m)\u001b[0m\u001b[1;33m,\u001b[0m \u001b[0mmodule\u001b[0m\u001b[1;33m)\u001b[0m\u001b[1;33m\u001b[0m\u001b[1;33m\u001b[0m\u001b[0m\n\u001b[0m\u001b[0;32m     92\u001b[0m \u001b[1;33m\u001b[0m\u001b[0m\n\u001b[0;32m     93\u001b[0m     \u001b[1;32mdef\u001b[0m \u001b[0m_get_item_by_idx\u001b[0m\u001b[1;33m(\u001b[0m\u001b[0mself\u001b[0m\u001b[1;33m,\u001b[0m \u001b[0miterator\u001b[0m\u001b[1;33m,\u001b[0m \u001b[0midx\u001b[0m\u001b[1;33m)\u001b[0m \u001b[1;33m->\u001b[0m \u001b[0mT\u001b[0m\u001b[1;33m:\u001b[0m\u001b[1;33m\u001b[0m\u001b[1;33m\u001b[0m\u001b[0m\n",
      "\u001b[1;32m~\\anaconda3\\lib\\site-packages\\torch\\nn\\modules\\module.py\u001b[0m in \u001b[0;36madd_module\u001b[1;34m(self, name, module)\u001b[0m\n\u001b[0;32m    375\u001b[0m         \"\"\"\n\u001b[0;32m    376\u001b[0m         \u001b[1;32mif\u001b[0m \u001b[1;32mnot\u001b[0m \u001b[0misinstance\u001b[0m\u001b[1;33m(\u001b[0m\u001b[0mmodule\u001b[0m\u001b[1;33m,\u001b[0m \u001b[0mModule\u001b[0m\u001b[1;33m)\u001b[0m \u001b[1;32mand\u001b[0m \u001b[0mmodule\u001b[0m \u001b[1;32mis\u001b[0m \u001b[1;32mnot\u001b[0m \u001b[1;32mNone\u001b[0m\u001b[1;33m:\u001b[0m\u001b[1;33m\u001b[0m\u001b[1;33m\u001b[0m\u001b[0m\n\u001b[1;32m--> 377\u001b[1;33m             raise TypeError(\"{} is not a Module subclass\".format(\n\u001b[0m\u001b[0;32m    378\u001b[0m                 torch.typename(module)))\n\u001b[0;32m    379\u001b[0m         \u001b[1;32melif\u001b[0m \u001b[1;32mnot\u001b[0m \u001b[0misinstance\u001b[0m\u001b[1;33m(\u001b[0m\u001b[0mname\u001b[0m\u001b[1;33m,\u001b[0m \u001b[0mtorch\u001b[0m\u001b[1;33m.\u001b[0m\u001b[0m_six\u001b[0m\u001b[1;33m.\u001b[0m\u001b[0mstring_classes\u001b[0m\u001b[1;33m)\u001b[0m\u001b[1;33m:\u001b[0m\u001b[1;33m\u001b[0m\u001b[1;33m\u001b[0m\u001b[0m\n",
      "\u001b[1;31mTypeError\u001b[0m: __main__.<lambda> is not a Module subclass"
     ]
    }
   ],
   "source": []
  },
  {
   "cell_type": "markdown",
   "id": "m04wSbgikmxZ",
   "metadata": {
    "id": "m04wSbgikmxZ"
   },
   "source": []
  },
  {
   "cell_type": "code",
   "execution_count": 42,
   "id": "yKuIpHN62HhQ",
   "metadata": {
    "id": "yKuIpHN62HhQ"
   },
   "outputs": [],
   "source": [
    "num_slots = 54"
   ]
  },
  {
   "cell_type": "code",
   "execution_count": 43,
   "id": "76fb7d38-4e90-412d-90c0-148cb232e1eb",
   "metadata": {
    "id": "76fb7d38-4e90-412d-90c0-148cb232e1eb"
   },
   "outputs": [],
   "source": [
    "batch_size = 32\n",
    "train_dataset = SentenceDataset(\n",
    "    dataf, lambda x: x, lambda x: x, lambda x : [one_hot_encoding(int(xs), num_slots) for xs in x]\n",
    ")\n",
    "train_loader = DataLoader(train_dataset, batch_size=batch_size, shuffle=True)\n",
    "\n",
    "val_dataset = SentenceDataset(\n",
    "    df_val, lambda x: x, lambda x: x, lambda x : [one_hot_encoding(int(xs), num_slots) for xs in x]\n",
    ")\n",
    "val_loader = DataLoader(val_dataset, batch_size=batch_size, shuffle=True)"
   ]
  },
  {
   "cell_type": "code",
   "execution_count": null,
   "id": "9f2528b0-6d7f-44f9-9e31-f3902577fca4",
   "metadata": {
    "id": "9f2528b0-6d7f-44f9-9e31-f3902577fca4"
   },
   "outputs": [],
   "source": []
  },
  {
   "cell_type": "code",
   "execution_count": 44,
   "id": "8b8bae06-d091-44e7-8b40-c44c9f53f4da",
   "metadata": {
    "id": "8b8bae06-d091-44e7-8b40-c44c9f53f4da"
   },
   "outputs": [],
   "source": [
    "use_cuda = torch.cuda.is_available()\n",
    "device = torch.device(\"cuda:0\" if use_cuda else \"cpu\")\n",
    "torch.backends.cudnn.benchmark = True"
   ]
  },
  {
   "cell_type": "code",
   "execution_count": 45,
   "id": "e7fabcd9-9ea4-4be4-97d5-ac0774afe618",
   "metadata": {
    "colab": {
     "base_uri": "https://localhost:8080/"
    },
    "id": "e7fabcd9-9ea4-4be4-97d5-ac0774afe618",
    "outputId": "1eda6644-be30-44ad-d2cc-0cb6a68df761"
   },
   "outputs": [
    {
     "data": {
      "text/plain": [
       "device(type='cuda', index=0)"
      ]
     },
     "execution_count": 45,
     "metadata": {},
     "output_type": "execute_result"
    }
   ],
   "source": [
    "device"
   ]
  },
  {
   "cell_type": "code",
   "execution_count": 52,
   "id": "4154a2c6-71f1-4b9a-9fd9-2224e25c1ec0",
   "metadata": {
    "id": "4154a2c6-71f1-4b9a-9fd9-2224e25c1ec0"
   },
   "outputs": [],
   "source": [
    "#### Defining HyperParameters\n",
    "vocab_size = vocab_len+1  # Number of AA\n",
    "output_size = max(dataf['label'])+1  # Number of targets\n",
    "\n",
    "#### HyperParameters we could optimize over if we had more time\n",
    "embedding_dim = 50\n",
    "hidden_dim = 128\n",
    "n_layers = 1\n",
    "\n",
    "#### Instanciate the model\n",
    "model = IntentClassifier(\n",
    "    vocab_size, output_size,num_slots, embedding_dim, embedding_matrix, hidden_dim, n_layers, drop_prob=0.0\n",
    ")\n",
    "model.to(device)\n",
    "\n",
    "#### Define learning rate, could\n",
    "learning_rate = 0.001\n",
    "criterion = nn.CrossEntropyLoss()\n",
    "criterion2 = nn.CrossEntropyLoss()\n",
    "optimizer = torch.optim.Adam(model.parameters(), lr=learning_rate)"
   ]
  },
  {
   "cell_type": "code",
   "execution_count": 53,
   "id": "c26cb379-c57e-40b7-a37f-45f0a50e9acb",
   "metadata": {
    "id": "c26cb379-c57e-40b7-a37f-45f0a50e9acb"
   },
   "outputs": [],
   "source": [
    "num_epochs = 60\n",
    "sequence_length = sentence_len\n",
    "input_size = vocab_size"
   ]
  },
  {
   "cell_type": "code",
   "execution_count": 54,
   "id": "0ba01e5c-d4ce-4f71-9cf7-a8729afd38f3",
   "metadata": {
    "id": "0ba01e5c-d4ce-4f71-9cf7-a8729afd38f3"
   },
   "outputs": [],
   "source": [
    "torch.cuda.empty_cache()"
   ]
  },
  {
   "cell_type": "code",
   "execution_count": 55,
   "id": "nQA9lDYz4McS",
   "metadata": {
    "colab": {
     "base_uri": "https://localhost:8080/"
    },
    "id": "nQA9lDYz4McS",
    "outputId": "db8d0db8-8e8c-4046-9cf3-0627a82ffd70"
   },
   "outputs": [
    {
     "data": {
      "text/plain": [
       "device(type='cuda', index=0)"
      ]
     },
     "execution_count": 55,
     "metadata": {},
     "output_type": "execute_result"
    }
   ],
   "source": [
    "device"
   ]
  },
  {
   "cell_type": "code",
   "execution_count": 109,
   "id": "40d9ecec-4dcf-41b6-98c7-a03a5bc52408",
   "metadata": {
    "colab": {
     "base_uri": "https://localhost:8080/"
    },
    "id": "40d9ecec-4dcf-41b6-98c7-a03a5bc52408",
    "outputId": "7385110e-3f68-4273-ce1b-77c74ad39550"
   },
   "outputs": [
    {
     "name": "stderr",
     "output_type": "stream",
     "text": [
      "Epoch 0:   3%|▌              | 6/175 [00:00<00:02, 56.76batch/s, accuracy_intent=100, accuracy_slots=98.7, loss=0.0553]"
     ]
    },
    {
     "name": "stdout",
     "output_type": "stream",
     "text": [
      "32 32 1.0\n",
      "32 32 1.0\n",
      "32 32 1.0\n",
      "32 32 1.0\n",
      "32 32 1.0\n",
      "32 32 1.0\n",
      "32 32 1.0\n",
      "32 32 1.0\n",
      "32 32 1.0\n",
      "32 32 1.0\n",
      "32 32 1.0\n",
      "32 32 1.0\n"
     ]
    },
    {
     "name": "stderr",
     "output_type": "stream",
     "text": [
      "Epoch 0:  13%|█▊            | 22/175 [00:00<00:02, 70.26batch/s, accuracy_intent=100, accuracy_slots=99.7, loss=0.0274]"
     ]
    },
    {
     "name": "stdout",
     "output_type": "stream",
     "text": [
      "32 32 1.0\n",
      "32 32 1.0\n",
      "32 32 1.0\n",
      "32 32 1.0\n",
      "32 32 1.0\n",
      "32 32 1.0\n",
      "32 32 1.0\n",
      "32 32 1.0\n",
      "32 32 1.0\n",
      "32 32 1.0\n",
      "32 32 1.0\n",
      "32 32 1.0\n",
      "32 32 1.0\n",
      "32 32 1.0\n"
     ]
    },
    {
     "name": "stderr",
     "output_type": "stream",
     "text": [
      "Epoch 0:  22%|███▎           | 38/175 [00:00<00:01, 73.75batch/s, accuracy_intent=100, accuracy_slots=99.5, loss=0.055]"
     ]
    },
    {
     "name": "stdout",
     "output_type": "stream",
     "text": [
      "32 32 1.0\n",
      "32 32 1.0\n",
      "32 32 1.0\n",
      "32 32 1.0\n",
      "32 32 1.0\n",
      "32 32 1.0\n",
      "32 32 1.0\n",
      "32 32 1.0\n",
      "32 32 1.0\n",
      "32 32 1.0\n",
      "32 32 1.0\n",
      "32 32 1.0\n",
      "32 32 1.0\n",
      "32 32 1.0\n",
      "32 32 1.0\n"
     ]
    },
    {
     "name": "stderr",
     "output_type": "stream",
     "text": [
      "Epoch 0:  31%|████▎         | 54/175 [00:00<00:01, 75.21batch/s, accuracy_intent=100, accuracy_slots=99.2, loss=0.0608]"
     ]
    },
    {
     "name": "stdout",
     "output_type": "stream",
     "text": [
      "32 32 1.0\n",
      "32 32 1.0\n",
      "32 32 1.0\n",
      "32 32 1.0\n",
      "32 32 1.0\n",
      "32 32 1.0\n",
      "32 32 1.0\n",
      "32 32 1.0\n",
      "32 32 1.0\n",
      "32 32 1.0\n",
      "32 32 1.0\n",
      "32 32 1.0\n",
      "32 32 1.0\n",
      "32 32 1.0\n"
     ]
    },
    {
     "name": "stderr",
     "output_type": "stream",
     "text": [
      "Epoch 0:  35%|█████▎         | 62/175 [00:00<00:01, 76.28batch/s, accuracy_intent=100, accuracy_slots=99.7, loss=0.044]"
     ]
    },
    {
     "name": "stdout",
     "output_type": "stream",
     "text": [
      "32 32 1.0\n",
      "32 32 1.0\n",
      "32 32 1.0\n",
      "32 32 1.0\n",
      "32 32 1.0\n",
      "32 32 1.0\n",
      "32 32 1.0\n",
      "32 32 1.0\n",
      "32 32 1.0\n",
      "32 32 1.0\n",
      "32 32 1.0\n",
      "32 32 1.0\n",
      "32 32 1.0\n",
      "32 32 1.0\n",
      "32 32 1.0\n"
     ]
    },
    {
     "name": "stderr",
     "output_type": "stream",
     "text": [
      "Epoch 0:  45%|██████▏       | 78/175 [00:01<00:01, 76.88batch/s, accuracy_intent=100, accuracy_slots=99.2, loss=0.0489]"
     ]
    },
    {
     "name": "stdout",
     "output_type": "stream",
     "text": [
      "32 32 1.0\n",
      "32 32 1.0\n",
      "32 32 1.0\n",
      "31 32 0.96875\n",
      "32 32 1.0\n",
      "32 32 1.0\n",
      "32 32 1.0\n",
      "32 32 1.0\n",
      "32 32 1.0\n",
      "32 32 1.0\n",
      "32 32 1.0\n",
      "32 32 1.0\n",
      "32 32 1.0\n",
      "32 32 1.0\n"
     ]
    },
    {
     "name": "stderr",
     "output_type": "stream",
     "text": [
      "Epoch 0:  54%|████████▌       | 94/175 [00:01<00:01, 74.67batch/s, accuracy_intent=100, accuracy_slots=99, loss=0.0346]"
     ]
    },
    {
     "name": "stdout",
     "output_type": "stream",
     "text": [
      "32 32 1.0\n",
      "32 32 1.0\n",
      "32 32 1.0\n",
      "32 32 1.0\n",
      "32 32 1.0\n",
      "32 32 1.0\n",
      "32 32 1.0\n",
      "31 32 0.96875\n",
      "32 32 1.0\n",
      "32 32 1.0\n",
      "32 32 1.0\n",
      "32 32 1.0\n",
      "32 32 1.0\n",
      "32 32 1.0\n"
     ]
    },
    {
     "name": "stderr",
     "output_type": "stream",
     "text": [
      "Epoch 0:  63%|████████▏    | 110/175 [00:01<00:00, 76.20batch/s, accuracy_intent=100, accuracy_slots=99.5, loss=0.0456]"
     ]
    },
    {
     "name": "stdout",
     "output_type": "stream",
     "text": [
      "32 32 1.0\n",
      "32 32 1.0\n",
      "32 32 1.0\n",
      "32 32 1.0\n",
      "32 32 1.0\n",
      "32 32 1.0\n",
      "32 32 1.0\n",
      "32 32 1.0\n",
      "32 32 1.0\n",
      "31 32 0.96875\n",
      "32 32 1.0\n",
      "32 32 1.0\n",
      "32 32 1.0\n",
      "32 32 1.0\n",
      "32 32 1.0\n"
     ]
    },
    {
     "name": "stderr",
     "output_type": "stream",
     "text": [
      "Epoch 0:  72%|█████████▎   | 126/175 [00:01<00:00, 77.12batch/s, accuracy_intent=100, accuracy_slots=99.5, loss=0.0393]"
     ]
    },
    {
     "name": "stdout",
     "output_type": "stream",
     "text": [
      "32 32 1.0\n",
      "32 32 1.0\n",
      "32 32 1.0\n",
      "32 32 1.0\n",
      "32 32 1.0\n",
      "32 32 1.0\n",
      "31 32 0.96875\n",
      "32 32 1.0\n",
      "32 32 1.0\n",
      "32 32 1.0\n",
      "32 32 1.0\n",
      "32 32 1.0\n",
      "32 32 1.0\n",
      "32 32 1.0\n"
     ]
    },
    {
     "name": "stderr",
     "output_type": "stream",
     "text": [
      "Epoch 0:  77%|█████████▉   | 134/175 [00:01<00:00, 76.02batch/s, accuracy_intent=100, accuracy_slots=98.7, loss=0.0473]"
     ]
    },
    {
     "name": "stdout",
     "output_type": "stream",
     "text": [
      "32 32 1.0\n",
      "32 32 1.0\n",
      "32 32 1.0\n",
      "32 32 1.0\n",
      "32 32 1.0\n",
      "32 32 1.0\n",
      "32 32 1.0\n",
      "32 32 1.0\n",
      "32 32 1.0\n",
      "32 32 1.0\n",
      "32 32 1.0\n",
      "32 32 1.0\n",
      "32 32 1.0\n"
     ]
    },
    {
     "name": "stderr",
     "output_type": "stream",
     "text": [
      "Epoch 0:  86%|████████████▊  | 150/175 [00:02<00:00, 65.24batch/s, accuracy_intent=100, accuracy_slots=99.7, loss=0.04]"
     ]
    },
    {
     "name": "stdout",
     "output_type": "stream",
     "text": [
      "32 32 1.0\n",
      "32 32 1.0\n",
      "32 32 1.0\n",
      "32 32 1.0\n",
      "32 32 1.0\n",
      "32 32 1.0\n",
      "32 32 1.0\n",
      "32 32 1.0\n",
      "32 32 1.0\n",
      "32 32 1.0\n",
      "32 32 1.0\n"
     ]
    },
    {
     "name": "stderr",
     "output_type": "stream",
     "text": [
      "Epoch 0:  90%|███████████▋ | 157/175 [00:02<00:00, 64.68batch/s, accuracy_intent=100, accuracy_slots=99.5, loss=0.0393]"
     ]
    },
    {
     "name": "stdout",
     "output_type": "stream",
     "text": [
      "32 32 1.0\n",
      "32 32 1.0\n",
      "32 32 1.0\n",
      "32 32 1.0\n",
      "32 32 1.0\n",
      "32 32 1.0\n",
      "32 32 1.0\n",
      "32 32 1.0\n",
      "32 32 1.0\n",
      "32 32 1.0\n",
      "32 32 1.0\n",
      "32 32 1.0\n"
     ]
    },
    {
     "name": "stderr",
     "output_type": "stream",
     "text": [
      "Epoch 0: 100%|██████████████| 175/175 [00:02<00:00, 71.95batch/s, accuracy_intent=100, accuracy_slots=100, loss=0.0251]\n"
     ]
    },
    {
     "name": "stdout",
     "output_type": "stream",
     "text": [
      "32 32 1.0\n",
      "32 32 1.0\n",
      "32 32 1.0\n",
      "32 32 1.0\n",
      "32 32 1.0\n",
      "32 32 1.0\n",
      "32 32 1.0\n",
      "32 32 1.0\n",
      "32 32 1.0\n",
      "32 32 1.0\n",
      "32 32 1.0\n",
      "32 32 1.0\n",
      "Epoch 0/60, train_loss = 0.025094, train_accuracy = 100.000000, val_loss = 1.253878, val_accuracy = 96.714286, val_accuracy_slots = 80.660714\n",
      "Validation loss decreased (inf --> 1.253878).  Saving model ...\n"
     ]
    },
    {
     "name": "stderr",
     "output_type": "stream",
     "text": [
      "Epoch 1:   4%|▌              | 7/175 [00:00<00:02, 64.99batch/s, accuracy_intent=100, accuracy_slots=99.2, loss=0.0606]"
     ]
    },
    {
     "name": "stdout",
     "output_type": "stream",
     "text": [
      "32 32 1.0\n",
      "32 32 1.0\n",
      "32 32 1.0\n",
      "32 32 1.0\n",
      "32 32 1.0\n",
      "32 32 1.0\n",
      "32 32 1.0\n",
      "32 32 1.0\n"
     ]
    },
    {
     "name": "stderr",
     "output_type": "stream",
     "text": [
      "Epoch 1:   4%|▌              | 7/175 [00:00<00:02, 64.99batch/s, accuracy_intent=100, accuracy_slots=99.7, loss=0.0306]"
     ]
    },
    {
     "name": "stdout",
     "output_type": "stream",
     "text": [
      "32 32 1.0\n",
      "32 32 1.0\n",
      "32 32 1.0\n",
      "32 32 1.0\n",
      "32 32 1.0\n"
     ]
    },
    {
     "name": "stderr",
     "output_type": "stream",
     "text": [
      "Epoch 1:   8%|█             | 14/175 [00:00<00:02, 66.44batch/s, accuracy_intent=100, accuracy_slots=99.7, loss=0.0339]"
     ]
    },
    {
     "name": "stdout",
     "output_type": "stream",
     "text": [
      "32 32 1.0\n",
      "32 32 1.0\n",
      "32 32 1.0\n",
      "32 32 1.0\n",
      "32 32 1.0\n",
      "32 32 1.0\n",
      "32 32 1.0\n",
      "32 32 1.0\n"
     ]
    },
    {
     "name": "stderr",
     "output_type": "stream",
     "text": [
      "Epoch 1:  13%|█▉             | 22/175 [00:00<00:02, 68.88batch/s, accuracy_intent=100, accuracy_slots=100, loss=0.0209]"
     ]
    },
    {
     "name": "stdout",
     "output_type": "stream",
     "text": [
      "32 32 1.0\n",
      "32 32 1.0\n",
      "32 32 1.0\n",
      "32 32 1.0\n",
      "32 32 1.0\n",
      "32 32 1.0\n",
      "32 32 1.0\n"
     ]
    },
    {
     "name": "stderr",
     "output_type": "stream",
     "text": [
      "Epoch 1:  17%|██▋             | 30/175 [00:00<00:01, 72.86batch/s, accuracy_intent=100, accuracy_slots=99, loss=0.0656]"
     ]
    },
    {
     "name": "stdout",
     "output_type": "stream",
     "text": [
      "32 32 1.0\n",
      "32 32 1.0\n",
      "32 32 1.0\n",
      "32 32 1.0\n",
      "32 32 1.0\n",
      "32 32 1.0\n",
      "32 32 1.0\n",
      "32 32 1.0\n"
     ]
    },
    {
     "name": "stderr",
     "output_type": "stream",
     "text": [
      "Epoch 1:  22%|███           | 38/175 [00:00<00:01, 74.13batch/s, accuracy_intent=100, accuracy_slots=99.7, loss=0.0347]"
     ]
    },
    {
     "name": "stdout",
     "output_type": "stream",
     "text": [
      "32 32 1.0\n",
      "32 32 1.0\n",
      "32 32 1.0\n",
      "32 32 1.0\n",
      "32 32 1.0\n"
     ]
    },
    {
     "name": "stderr",
     "output_type": "stream",
     "text": [
      "Epoch 1:  26%|███▋          | 46/175 [00:00<00:01, 72.10batch/s, accuracy_intent=100, accuracy_slots=99.7, loss=0.0357]"
     ]
    },
    {
     "name": "stdout",
     "output_type": "stream",
     "text": [
      "32 32 1.0\n",
      "32 32 1.0\n",
      "32 32 1.0\n",
      "32 32 1.0\n",
      "32 32 1.0\n",
      "32 32 1.0\n",
      "32 32 1.0\n",
      "32 32 1.0\n",
      "32 32 1.0\n"
     ]
    },
    {
     "name": "stderr",
     "output_type": "stream",
     "text": [
      "Epoch 1:  31%|████▋          | 54/175 [00:00<00:01, 71.31batch/s, accuracy_intent=100, accuracy_slots=99.2, loss=0.033]"
     ]
    },
    {
     "name": "stdout",
     "output_type": "stream",
     "text": [
      "32 32 1.0\n",
      "32 32 1.0\n",
      "32 32 1.0\n",
      "32 32 1.0\n",
      "32 32 1.0\n"
     ]
    },
    {
     "name": "stderr",
     "output_type": "stream",
     "text": [
      "Epoch 1:  35%|████▉         | 62/175 [00:00<00:01, 69.23batch/s, accuracy_intent=100, accuracy_slots=99.5, loss=0.0543]"
     ]
    },
    {
     "name": "stdout",
     "output_type": "stream",
     "text": [
      "32 32 1.0\n",
      "32 32 1.0\n",
      "32 32 1.0\n",
      "32 32 1.0\n",
      "32 32 1.0\n",
      "32 32 1.0\n",
      "32 32 1.0\n",
      "32 32 1.0\n"
     ]
    },
    {
     "name": "stderr",
     "output_type": "stream",
     "text": [
      "Epoch 1:  35%|█████▎         | 62/175 [00:00<00:01, 69.23batch/s, accuracy_intent=100, accuracy_slots=100, loss=0.0249]"
     ]
    },
    {
     "name": "stdout",
     "output_type": "stream",
     "text": [
      "32 32 1.0\n",
      "32 32 1.0\n",
      "32 32 1.0\n",
      "32 32 1.0\n",
      "32 32 1.0\n"
     ]
    },
    {
     "name": "stderr",
     "output_type": "stream",
     "text": [
      "Epoch 1:  44%|██████▏       | 77/175 [00:01<00:01, 71.74batch/s, accuracy_intent=100, accuracy_slots=99.7, loss=0.0298]"
     ]
    },
    {
     "name": "stdout",
     "output_type": "stream",
     "text": [
      "32 32 1.0\n",
      "32 32 1.0\n",
      "32 32 1.0\n",
      "32 32 1.0\n",
      "32 32 1.0\n",
      "32 32 1.0\n",
      "32 32 1.0\n",
      "32 32 1.0\n",
      "32 32 1.0\n",
      "32 32 1.0\n"
     ]
    },
    {
     "name": "stderr",
     "output_type": "stream",
     "text": [
      "Epoch 1:  44%|██████▏       | 77/175 [00:01<00:01, 71.74batch/s, accuracy_intent=100, accuracy_slots=99.7, loss=0.0332]"
     ]
    },
    {
     "name": "stdout",
     "output_type": "stream",
     "text": [
      "32 32 1.0\n",
      "32 32 1.0\n",
      "32 32 1.0\n",
      "32 32 1.0\n"
     ]
    },
    {
     "name": "stderr",
     "output_type": "stream",
     "text": [
      "Epoch 1:  49%|███████▊        | 85/175 [00:01<00:01, 73.13batch/s, accuracy_intent=100, accuracy_slots=99, loss=0.0611]"
     ]
    },
    {
     "name": "stdout",
     "output_type": "stream",
     "text": [
      "32 32 1.0\n",
      "32 32 1.0\n",
      "32 32 1.0\n",
      "32 32 1.0\n",
      "32 32 1.0\n",
      "32 32 1.0\n",
      "32 32 1.0\n",
      "32 32 1.0\n",
      "32 32 1.0\n",
      "32 32 1.0\n"
     ]
    },
    {
     "name": "stderr",
     "output_type": "stream",
     "text": [
      "Epoch 1:  53%|███████▉       | 93/175 [00:01<00:01, 74.11batch/s, accuracy_intent=100, accuracy_slots=100, loss=0.0367]"
     ]
    },
    {
     "name": "stdout",
     "output_type": "stream",
     "text": [
      "32 32 1.0\n",
      "32 32 1.0\n",
      "32 32 1.0\n",
      "32 32 1.0\n",
      "32 32 1.0\n"
     ]
    },
    {
     "name": "stderr",
     "output_type": "stream",
     "text": [
      "Epoch 1:  58%|███████▌     | 101/175 [00:01<00:00, 74.16batch/s, accuracy_intent=100, accuracy_slots=99.2, loss=0.0542]"
     ]
    },
    {
     "name": "stdout",
     "output_type": "stream",
     "text": [
      "32 32 1.0\n",
      "32 32 1.0\n",
      "32 32 1.0\n",
      "32 32 1.0\n",
      "32 32 1.0\n",
      "32 32 1.0\n",
      "32 32 1.0\n",
      "32 32 1.0\n",
      "32 32 1.0\n"
     ]
    },
    {
     "name": "stderr",
     "output_type": "stream",
     "text": [
      "Epoch 1:  62%|████████     | 109/175 [00:01<00:00, 72.16batch/s, accuracy_intent=100, accuracy_slots=99.7, loss=0.0256]"
     ]
    },
    {
     "name": "stdout",
     "output_type": "stream",
     "text": [
      "32 32 1.0\n",
      "32 32 1.0\n",
      "32 32 1.0\n",
      "32 32 1.0\n"
     ]
    },
    {
     "name": "stderr",
     "output_type": "stream",
     "text": [
      "Epoch 1:  67%|█████████▎    | 117/175 [00:01<00:00, 68.28batch/s, accuracy_intent=100, accuracy_slots=100, loss=0.0234]"
     ]
    },
    {
     "name": "stdout",
     "output_type": "stream",
     "text": [
      "32 32 1.0\n",
      "32 32 1.0\n",
      "32 32 1.0\n",
      "32 32 1.0\n",
      "32 32 1.0\n",
      "32 32 1.0\n",
      "32 32 1.0\n"
     ]
    },
    {
     "name": "stderr",
     "output_type": "stream",
     "text": [
      "Epoch 1:  67%|████████▋    | 117/175 [00:01<00:00, 68.28batch/s, accuracy_intent=100, accuracy_slots=99.7, loss=0.0344]"
     ]
    },
    {
     "name": "stdout",
     "output_type": "stream",
     "text": [
      "32 32 1.0\n",
      "32 32 1.0\n",
      "32 32 1.0\n",
      "32 32 1.0\n"
     ]
    },
    {
     "name": "stderr",
     "output_type": "stream",
     "text": [
      "Epoch 1:  71%|█████████▏   | 124/175 [00:01<00:00, 67.52batch/s, accuracy_intent=100, accuracy_slots=99.2, loss=0.0421]"
     ]
    },
    {
     "name": "stdout",
     "output_type": "stream",
     "text": [
      "32 32 1.0\n",
      "32 32 1.0\n",
      "32 32 1.0\n",
      "32 32 1.0\n",
      "32 32 1.0\n",
      "32 32 1.0\n",
      "32 32 1.0\n",
      "32 32 1.0\n",
      "32 32 1.0\n"
     ]
    },
    {
     "name": "stderr",
     "output_type": "stream",
     "text": [
      "Epoch 1:  75%|█████████▊   | 132/175 [00:01<00:00, 68.92batch/s, accuracy_intent=100, accuracy_slots=99.5, loss=0.0273]"
     ]
    },
    {
     "name": "stdout",
     "output_type": "stream",
     "text": [
      "32 32 1.0\n",
      "32 32 1.0\n",
      "32 32 1.0\n",
      "32 32 1.0\n",
      "32 32 1.0\n"
     ]
    },
    {
     "name": "stderr",
     "output_type": "stream",
     "text": [
      "Epoch 1:  80%|██████████▍  | 140/175 [00:02<00:00, 70.86batch/s, accuracy_intent=100, accuracy_slots=99.2, loss=0.0331]"
     ]
    },
    {
     "name": "stdout",
     "output_type": "stream",
     "text": [
      "32 32 1.0\n",
      "32 32 1.0\n",
      "32 32 1.0\n",
      "32 32 1.0\n",
      "32 32 1.0\n",
      "32 32 1.0\n",
      "32 32 1.0\n",
      "32 32 1.0\n",
      "32 32 1.0\n"
     ]
    },
    {
     "name": "stderr",
     "output_type": "stream",
     "text": [
      "Epoch 1:  85%|███████████▊  | 148/175 [00:02<00:00, 72.86batch/s, accuracy_intent=100, accuracy_slots=100, loss=0.0269]"
     ]
    },
    {
     "name": "stdout",
     "output_type": "stream",
     "text": [
      "32 32 1.0\n",
      "32 32 1.0\n",
      "32 32 1.0\n",
      "32 32 1.0\n",
      "32 32 1.0\n"
     ]
    },
    {
     "name": "stderr",
     "output_type": "stream",
     "text": [
      "Epoch 1:  89%|█████████████▎ | 156/175 [00:02<00:00, 74.49batch/s, accuracy_intent=100, accuracy_slots=99, loss=0.0522]"
     ]
    },
    {
     "name": "stdout",
     "output_type": "stream",
     "text": [
      "32 32 1.0\n",
      "32 32 1.0\n",
      "32 32 1.0\n",
      "32 32 1.0\n",
      "32 32 1.0\n",
      "32 32 1.0\n",
      "32 32 1.0\n",
      "32 32 1.0\n",
      "32 32 1.0\n",
      "32 32 1.0\n"
     ]
    },
    {
     "name": "stderr",
     "output_type": "stream",
     "text": [
      "Epoch 1:  89%|████████████▍ | 156/175 [00:02<00:00, 74.49batch/s, accuracy_intent=100, accuracy_slots=100, loss=0.0318]"
     ]
    },
    {
     "name": "stdout",
     "output_type": "stream",
     "text": [
      "32 32 1.0\n",
      "32 32 1.0\n",
      "32 32 1.0\n",
      "32 32 1.0\n"
     ]
    },
    {
     "name": "stderr",
     "output_type": "stream",
     "text": [
      "Epoch 1:  94%|████████████▏| 164/175 [00:02<00:00, 73.40batch/s, accuracy_intent=100, accuracy_slots=99.7, loss=0.0321]"
     ]
    },
    {
     "name": "stdout",
     "output_type": "stream",
     "text": [
      "32 32 1.0\n",
      "32 32 1.0\n",
      "32 32 1.0\n",
      "32 32 1.0\n",
      "32 32 1.0\n",
      "32 32 1.0\n",
      "32 32 1.0\n",
      "32 32 1.0\n",
      "32 32 1.0\n"
     ]
    },
    {
     "name": "stderr",
     "output_type": "stream",
     "text": [
      "Epoch 1: 100%|█████████████| 175/175 [00:02<00:00, 71.44batch/s, accuracy_intent=100, accuracy_slots=99.7, loss=0.0297]\n"
     ]
    },
    {
     "name": "stdout",
     "output_type": "stream",
     "text": [
      "32 32 1.0\n",
      "32 32 1.0\n",
      "32 32 1.0\n",
      "Epoch 1/60, train_loss = 0.029694, train_accuracy = 100.000000, val_loss = 1.276321, val_accuracy = 96.857143, val_accuracy_slots = 80.750000\n"
     ]
    },
    {
     "name": "stderr",
     "output_type": "stream",
     "text": [
      "Epoch 2:   4%|▌              | 7/175 [00:00<00:02, 63.81batch/s, accuracy_intent=100, accuracy_slots=99.5, loss=0.0278]"
     ]
    },
    {
     "name": "stdout",
     "output_type": "stream",
     "text": [
      "32 32 1.0\n",
      "32 32 1.0\n",
      "32 32 1.0\n",
      "32 32 1.0\n",
      "32 32 1.0\n",
      "32 32 1.0\n",
      "32 32 1.0\n",
      "32 32 1.0\n",
      "32 32 1.0\n",
      "32 32 1.0\n",
      "32 32 1.0\n"
     ]
    },
    {
     "name": "stderr",
     "output_type": "stream",
     "text": [
      "Epoch 2:   4%|▋               | 7/175 [00:00<00:02, 63.81batch/s, accuracy_intent=100, accuracy_slots=100, loss=0.0228]"
     ]
    },
    {
     "name": "stdout",
     "output_type": "stream",
     "text": [
      "32 32 1.0\n",
      "32 32 1.0\n",
      "32 32 1.0\n"
     ]
    },
    {
     "name": "stderr",
     "output_type": "stream",
     "text": [
      "Epoch 2:  13%|█▊            | 23/175 [00:00<00:02, 73.57batch/s, accuracy_intent=100, accuracy_slots=99.7, loss=0.0267]"
     ]
    },
    {
     "name": "stdout",
     "output_type": "stream",
     "text": [
      "32 32 1.0\n",
      "32 32 1.0\n",
      "32 32 1.0\n",
      "32 32 1.0\n",
      "32 32 1.0\n",
      "32 32 1.0\n",
      "32 32 1.0\n",
      "32 32 1.0\n",
      "32 32 1.0\n",
      "32 32 1.0\n",
      "32 32 1.0\n",
      "32 32 1.0\n"
     ]
    },
    {
     "name": "stderr",
     "output_type": "stream",
     "text": [
      "Epoch 2:  13%|█▊            | 23/175 [00:00<00:02, 73.57batch/s, accuracy_intent=100, accuracy_slots=99.5, loss=0.0324]"
     ]
    },
    {
     "name": "stdout",
     "output_type": "stream",
     "text": [
      "32 32 1.0\n",
      "32 32 1.0\n"
     ]
    },
    {
     "name": "stderr",
     "output_type": "stream",
     "text": [
      "Epoch 2:  23%|███▍           | 40/175 [00:00<00:01, 76.20batch/s, accuracy_intent=100, accuracy_slots=100, loss=0.0211]"
     ]
    },
    {
     "name": "stdout",
     "output_type": "stream",
     "text": [
      "32 32 1.0\n",
      "32 32 1.0\n",
      "32 32 1.0\n",
      "32 32 1.0\n",
      "32 32 1.0\n",
      "32 32 1.0\n",
      "32 32 1.0\n",
      "32 32 1.0\n",
      "32 32 1.0\n",
      "32 32 1.0\n",
      "32 32 1.0\n",
      "32 32 1.0\n"
     ]
    },
    {
     "name": "stderr",
     "output_type": "stream",
     "text": [
      "Epoch 2:  23%|███▏          | 40/175 [00:00<00:01, 76.20batch/s, accuracy_intent=100, accuracy_slots=99.5, loss=0.0308]"
     ]
    },
    {
     "name": "stdout",
     "output_type": "stream",
     "text": [
      "32 32 1.0\n",
      "32 32 1.0\n",
      "32 32 1.0\n"
     ]
    },
    {
     "name": "stderr",
     "output_type": "stream",
     "text": [
      "Epoch 2:  27%|████           | 48/175 [00:00<00:01, 75.79batch/s, accuracy_intent=100, accuracy_slots=100, loss=0.0186]"
     ]
    },
    {
     "name": "stdout",
     "output_type": "stream",
     "text": [
      "32 32 1.0\n",
      "32 32 1.0\n",
      "32 32 1.0\n",
      "32 32 1.0\n",
      "32 32 1.0\n",
      "32 32 1.0\n",
      "32 32 1.0\n",
      "32 32 1.0\n",
      "32 32 1.0\n",
      "32 32 1.0\n",
      "32 32 1.0\n"
     ]
    },
    {
     "name": "stderr",
     "output_type": "stream",
     "text": [
      "Epoch 2:  32%|████▊          | 56/175 [00:00<00:01, 75.98batch/s, accuracy_intent=100, accuracy_slots=100, loss=0.0248]"
     ]
    },
    {
     "name": "stdout",
     "output_type": "stream",
     "text": [
      "32 32 1.0\n",
      "32 32 1.0\n",
      "32 32 1.0\n"
     ]
    },
    {
     "name": "stderr",
     "output_type": "stream",
     "text": [
      "Epoch 2:  37%|█████         | 64/175 [00:00<00:01, 74.99batch/s, accuracy_intent=100, accuracy_slots=99.5, loss=0.0315]"
     ]
    },
    {
     "name": "stdout",
     "output_type": "stream",
     "text": [
      "32 32 1.0\n",
      "32 32 1.0\n",
      "32 32 1.0\n",
      "32 32 1.0\n",
      "32 32 1.0\n",
      "32 32 1.0\n",
      "32 32 1.0\n",
      "32 32 1.0\n",
      "32 32 1.0\n",
      "32 32 1.0\n",
      "32 32 1.0\n",
      "32 32 1.0\n"
     ]
    },
    {
     "name": "stderr",
     "output_type": "stream",
     "text": [
      "Epoch 2:  37%|█████▍         | 64/175 [00:00<00:01, 74.99batch/s, accuracy_intent=100, accuracy_slots=100, loss=0.0223]"
     ]
    },
    {
     "name": "stdout",
     "output_type": "stream",
     "text": [
      "32 32 1.0\n",
      "32 32 1.0\n"
     ]
    },
    {
     "name": "stderr",
     "output_type": "stream",
     "text": [
      "Epoch 2:  46%|██████▊        | 80/175 [00:01<00:01, 75.48batch/s, accuracy_intent=100, accuracy_slots=99.5, loss=0.031]"
     ]
    },
    {
     "name": "stdout",
     "output_type": "stream",
     "text": [
      "32 32 1.0\n",
      "32 32 1.0\n",
      "32 32 1.0\n",
      "32 32 1.0\n",
      "32 32 1.0\n",
      "32 32 1.0\n",
      "32 32 1.0\n",
      "32 32 1.0\n",
      "32 32 1.0\n",
      "32 32 1.0\n",
      "32 32 1.0\n",
      "32 32 1.0\n",
      "32 32 1.0\n"
     ]
    },
    {
     "name": "stderr",
     "output_type": "stream",
     "text": [
      "Epoch 2:  55%|███████▋      | 96/175 [00:01<00:01, 74.31batch/s, accuracy_intent=100, accuracy_slots=99.2, loss=0.0322]"
     ]
    },
    {
     "name": "stdout",
     "output_type": "stream",
     "text": [
      "32 32 1.0\n",
      "32 32 1.0\n",
      "32 32 1.0\n",
      "32 32 1.0\n",
      "32 32 1.0\n",
      "32 32 1.0\n",
      "32 32 1.0\n",
      "32 32 1.0\n",
      "32 32 1.0\n",
      "32 32 1.0\n",
      "32 32 1.0\n",
      "32 32 1.0\n",
      "32 32 1.0\n",
      "32 32 1.0\n"
     ]
    },
    {
     "name": "stderr",
     "output_type": "stream",
     "text": [
      "Epoch 2:  59%|████████▎     | 104/175 [00:01<00:00, 74.71batch/s, accuracy_intent=100, accuracy_slots=100, loss=0.0172]"
     ]
    },
    {
     "name": "stdout",
     "output_type": "stream",
     "text": [
      "32 32 1.0\n",
      "32 32 1.0\n",
      "32 32 1.0\n",
      "32 32 1.0\n",
      "32 32 1.0\n",
      "32 32 1.0\n",
      "32 32 1.0\n",
      "32 32 1.0\n",
      "32 32 1.0\n",
      "32 32 1.0\n",
      "32 32 1.0\n",
      "32 32 1.0\n",
      "32 32 1.0\n",
      "32 32 1.0\n"
     ]
    },
    {
     "name": "stderr",
     "output_type": "stream",
     "text": [
      "Epoch 2:  69%|██████████▎    | 120/175 [00:01<00:00, 71.77batch/s, accuracy_intent=100, accuracy_slots=100, loss=0.014]"
     ]
    },
    {
     "name": "stdout",
     "output_type": "stream",
     "text": [
      "32 32 1.0\n",
      "32 32 1.0\n",
      "32 32 1.0\n",
      "32 32 1.0\n",
      "32 32 1.0\n",
      "32 32 1.0\n",
      "32 32 1.0\n",
      "32 32 1.0\n",
      "32 32 1.0\n",
      "32 32 1.0\n",
      "32 32 1.0\n",
      "32 32 1.0\n"
     ]
    },
    {
     "name": "stderr",
     "output_type": "stream",
     "text": [
      "Epoch 2:  78%|██████████   | 136/175 [00:01<00:00, 71.33batch/s, accuracy_intent=100, accuracy_slots=99.5, loss=0.0339]"
     ]
    },
    {
     "name": "stdout",
     "output_type": "stream",
     "text": [
      "32 32 1.0\n",
      "32 32 1.0\n",
      "32 32 1.0\n",
      "32 32 1.0\n",
      "32 32 1.0\n",
      "32 32 1.0\n",
      "32 32 1.0\n",
      "32 32 1.0\n",
      "32 32 1.0\n",
      "32 32 1.0\n",
      "32 32 1.0\n",
      "32 32 1.0\n",
      "32 32 1.0\n",
      "32 32 1.0\n"
     ]
    },
    {
     "name": "stderr",
     "output_type": "stream",
     "text": [
      "Epoch 2:  87%|███████████▎ | 152/175 [00:02<00:00, 74.88batch/s, accuracy_intent=100, accuracy_slots=99.7, loss=0.0347]"
     ]
    },
    {
     "name": "stdout",
     "output_type": "stream",
     "text": [
      "32 32 1.0\n",
      "32 32 1.0\n",
      "32 32 1.0\n",
      "32 32 1.0\n",
      "32 32 1.0\n",
      "32 32 1.0\n",
      "32 32 1.0\n",
      "32 32 1.0\n",
      "32 32 1.0\n",
      "32 32 1.0\n",
      "32 32 1.0\n",
      "32 32 1.0\n",
      "32 32 1.0\n",
      "32 32 1.0\n",
      "32 32 1.0\n"
     ]
    },
    {
     "name": "stderr",
     "output_type": "stream",
     "text": [
      "Epoch 2:  91%|███████████▉ | 160/175 [00:02<00:00, 70.37batch/s, accuracy_intent=100, accuracy_slots=99.7, loss=0.0245]"
     ]
    },
    {
     "name": "stdout",
     "output_type": "stream",
     "text": [
      "32 32 1.0\n",
      "32 32 1.0\n",
      "32 32 1.0\n",
      "32 32 1.0\n",
      "32 32 1.0\n",
      "32 32 1.0\n",
      "32 32 1.0\n",
      "32 32 1.0\n",
      "32 32 1.0\n",
      "32 32 1.0\n",
      "32 32 1.0\n",
      "32 32 "
     ]
    },
    {
     "name": "stderr",
     "output_type": "stream",
     "text": [
      "Epoch 2: 100%|██████████████| 175/175 [00:02<00:00, 72.90batch/s, accuracy_intent=100, accuracy_slots=100, loss=0.0288]\n"
     ]
    },
    {
     "name": "stdout",
     "output_type": "stream",
     "text": [
      "1.0\n",
      "32 32 1.0\n",
      "32 32 1.0\n",
      "32 32 1.0\n",
      "32 32 1.0\n",
      "32 32 1.0\n",
      "32 32 1.0\n",
      "32 32 1.0\n",
      "32 32 1.0\n",
      "32 32 1.0\n",
      "32 32 1.0\n",
      "Epoch 2/60, train_loss = 0.028788, train_accuracy = 100.000000, val_loss = 1.291221, val_accuracy = 96.785714, val_accuracy_slots = 80.744048\n"
     ]
    },
    {
     "name": "stderr",
     "output_type": "stream",
     "text": [
      "Epoch 3:   5%|▋              | 8/175 [00:00<00:02, 74.97batch/s, accuracy_intent=100, accuracy_slots=99.7, loss=0.0227]"
     ]
    },
    {
     "name": "stdout",
     "output_type": "stream",
     "text": [
      "32 32 1.0\n",
      "32 32 1.0\n",
      "32 32 1.0\n",
      "32 32 1.0\n",
      "32 32 1.0\n",
      "32 32 1.0\n",
      "32 32 1.0\n",
      "32 32 1.0\n",
      "32 32 1.0\n",
      "32 32 1.0\n",
      "32 32 1.0\n",
      "32 32 1.0\n",
      "32 32 1.0\n"
     ]
    },
    {
     "name": "stderr",
     "output_type": "stream",
     "text": [
      "Epoch 3:   5%|▋               | 8/175 [00:00<00:02, 74.97batch/s, accuracy_intent=100, accuracy_slots=100, loss=0.0143]"
     ]
    },
    {
     "name": "stdout",
     "output_type": "stream",
     "text": [
      "32 32 1.0\n"
     ]
    },
    {
     "name": "stderr",
     "output_type": "stream",
     "text": [
      "Epoch 3:  14%|██▏            | 25/175 [00:00<00:01, 77.83batch/s, accuracy_intent=100, accuracy_slots=100, loss=0.0192]"
     ]
    },
    {
     "name": "stdout",
     "output_type": "stream",
     "text": [
      "32 32 1.0\n",
      "32 32 1.0\n",
      "32 32 1.0\n",
      "32 32 1.0\n",
      "32 32 1.0\n",
      "32 32 1.0\n",
      "32 32 1.0\n",
      "32 32 1.0\n",
      "32 32 1.0\n",
      "32 32 1.0\n",
      "32 32 1.0\n",
      "32 32 1.0\n",
      "32 32 1.0\n"
     ]
    },
    {
     "name": "stderr",
     "output_type": "stream",
     "text": [
      "Epoch 3:  14%|██▏            | 25/175 [00:00<00:01, 77.83batch/s, accuracy_intent=100, accuracy_slots=99.5, loss=0.039]"
     ]
    },
    {
     "name": "stdout",
     "output_type": "stream",
     "text": [
      "32 32 1.0\n",
      "32 32 1.0\n"
     ]
    },
    {
     "name": "stderr",
     "output_type": "stream",
     "text": [
      "Epoch 3:  23%|███▌           | 41/175 [00:00<00:01, 78.47batch/s, accuracy_intent=100, accuracy_slots=100, loss=0.0178]"
     ]
    },
    {
     "name": "stdout",
     "output_type": "stream",
     "text": [
      "32 32 1.0\n",
      "32 32 1.0\n",
      "32 32 1.0\n",
      "32 32 1.0\n",
      "32 32 1.0\n",
      "32 32 1.0\n",
      "32 32 1.0\n",
      "32 32 1.0\n",
      "32 32 1.0\n",
      "32 32 1.0\n",
      "32 32 1.0\n",
      "32 32 1.0\n",
      "32 32 1.0\n"
     ]
    },
    {
     "name": "stderr",
     "output_type": "stream",
     "text": [
      "Epoch 3:  23%|███▎          | 41/175 [00:00<00:01, 78.47batch/s, accuracy_intent=100, accuracy_slots=99.5, loss=0.0349]"
     ]
    },
    {
     "name": "stdout",
     "output_type": "stream",
     "text": [
      "32 32 1.0\n",
      "32 32 1.0\n",
      "32 32 1.0\n"
     ]
    },
    {
     "name": "stderr",
     "output_type": "stream",
     "text": [
      "Epoch 3:  28%|████▏          | 49/175 [00:00<00:01, 76.26batch/s, accuracy_intent=100, accuracy_slots=100, loss=0.0238]"
     ]
    },
    {
     "name": "stdout",
     "output_type": "stream",
     "text": [
      "32 32 1.0\n",
      "32 32 1.0\n",
      "32 32 1.0\n",
      "32 32 1.0\n",
      "32 32 1.0\n",
      "32 32 1.0\n",
      "32 32 1.0\n",
      "32 32 1.0\n",
      "32 32 1.0\n",
      "32 32 1.0\n",
      "32 32 1.0\n"
     ]
    },
    {
     "name": "stderr",
     "output_type": "stream",
     "text": [
      "Epoch 3:  33%|████▌         | 57/175 [00:00<00:01, 76.54batch/s, accuracy_intent=100, accuracy_slots=99.2, loss=0.0396]"
     ]
    },
    {
     "name": "stdout",
     "output_type": "stream",
     "text": [
      "32 32 1.0\n",
      "32 32 1.0\n"
     ]
    },
    {
     "name": "stderr",
     "output_type": "stream",
     "text": [
      "Epoch 3:  37%|█████▌         | 65/175 [00:00<00:01, 76.73batch/s, accuracy_intent=100, accuracy_slots=100, loss=0.0146]"
     ]
    },
    {
     "name": "stdout",
     "output_type": "stream",
     "text": [
      "32 32 1.0\n",
      "32 32 1.0\n",
      "32 32 1.0\n",
      "32 32 1.0\n",
      "32 32 1.0\n",
      "32 32 1.0\n",
      "32 32 1.0\n",
      "32 32 1.0\n",
      "32 32 1.0\n",
      "32 32 1.0\n",
      "32 32 1.0\n",
      "32 32 1.0\n",
      "32 32 1.0\n"
     ]
    },
    {
     "name": "stderr",
     "output_type": "stream",
     "text": [
      "Epoch 3:  37%|█████▌         | 65/175 [00:00<00:01, 76.73batch/s, accuracy_intent=100, accuracy_slots=100, loss=0.0162]"
     ]
    },
    {
     "name": "stdout",
     "output_type": "stream",
     "text": [
      "32 32 1.0\n",
      "32 32 1.0\n"
     ]
    },
    {
     "name": "stderr",
     "output_type": "stream",
     "text": [
      "Epoch 3:  47%|███████        | 82/175 [00:01<00:01, 78.10batch/s, accuracy_intent=100, accuracy_slots=100, loss=0.0177]"
     ]
    },
    {
     "name": "stdout",
     "output_type": "stream",
     "text": [
      "32 32 1.0\n",
      "32 32 1.0\n",
      "32 32 1.0\n",
      "32 32 1.0\n",
      "32 32 1.0\n",
      "32 32 1.0\n",
      "32 32 1.0\n",
      "32 32 1.0\n",
      "32 32 1.0\n",
      "32 32 1.0\n",
      "32 32 1.0\n",
      "32 32 1.0\n"
     ]
    },
    {
     "name": "stderr",
     "output_type": "stream",
     "text": [
      "Epoch 3:  47%|███████        | 82/175 [00:01<00:01, 78.10batch/s, accuracy_intent=100, accuracy_slots=100, loss=0.0175]"
     ]
    },
    {
     "name": "stdout",
     "output_type": "stream",
     "text": [
      "32 32 1.0\n",
      "32 32 1.0\n",
      "32 32 1.0\n"
     ]
    },
    {
     "name": "stderr",
     "output_type": "stream",
     "text": [
      "Epoch 3:  56%|████████▍      | 98/175 [00:01<00:00, 77.32batch/s, accuracy_intent=100, accuracy_slots=100, loss=0.0202]"
     ]
    },
    {
     "name": "stdout",
     "output_type": "stream",
     "text": [
      "32 32 1.0\n",
      "32 32 1.0\n",
      "32 32 1.0\n",
      "32 32 1.0\n",
      "32 32 1.0\n",
      "32 32 1.0\n",
      "32 32 1.0\n",
      "32 32 1.0\n",
      "32 32 1.0\n",
      "32 32 1.0\n",
      "32 32 1.0\n",
      "32 32 1.0\n"
     ]
    },
    {
     "name": "stderr",
     "output_type": "stream",
     "text": [
      "Epoch 3:  56%|███████▊      | 98/175 [00:01<00:00, 77.32batch/s, accuracy_intent=100, accuracy_slots=99.7, loss=0.0171]"
     ]
    },
    {
     "name": "stdout",
     "output_type": "stream",
     "text": [
      "32 32 1.0\n",
      "32 32 1.0\n"
     ]
    },
    {
     "name": "stderr",
     "output_type": "stream",
     "text": [
      "Epoch 3:  61%|████████▍     | 106/175 [00:01<00:00, 77.26batch/s, accuracy_intent=100, accuracy_slots=100, loss=0.0188]"
     ]
    },
    {
     "name": "stdout",
     "output_type": "stream",
     "text": [
      "32 32 1.0\n",
      "32 32 1.0\n",
      "32 32 1.0\n",
      "32 32 1.0\n",
      "32 32 1.0\n",
      "32 32 1.0\n",
      "32 32 1.0\n",
      "32 32 1.0\n",
      "32 32 1.0\n",
      "32 32 1.0\n",
      "32 32 1.0\n",
      "32 32 1.0\n"
     ]
    },
    {
     "name": "stderr",
     "output_type": "stream",
     "text": [
      "Epoch 3:  66%|████████▌    | 115/175 [00:01<00:00, 78.08batch/s, accuracy_intent=100, accuracy_slots=99.7, loss=0.0379]"
     ]
    },
    {
     "name": "stdout",
     "output_type": "stream",
     "text": [
      "32 32 1.0\n",
      "32 32 1.0\n",
      "32 32 1.0\n"
     ]
    },
    {
     "name": "stderr",
     "output_type": "stream",
     "text": [
      "Epoch 3:  70%|█████████▏   | 123/175 [00:01<00:00, 76.94batch/s, accuracy_intent=100, accuracy_slots=99.5, loss=0.0309]"
     ]
    },
    {
     "name": "stdout",
     "output_type": "stream",
     "text": [
      "32 32 1.0\n",
      "32 32 1.0\n",
      "32 32 1.0\n",
      "32 32 1.0\n",
      "32 32 1.0\n",
      "32 32 1.0\n",
      "32 32 1.0\n",
      "32 32 1.0\n",
      "32 32 1.0\n",
      "32 32 1.0\n",
      "32 32 1.0\n"
     ]
    },
    {
     "name": "stderr",
     "output_type": "stream",
     "text": [
      "Epoch 3:  70%|█████████▊    | 123/175 [00:01<00:00, 76.94batch/s, accuracy_intent=100, accuracy_slots=100, loss=0.0174]"
     ]
    },
    {
     "name": "stdout",
     "output_type": "stream",
     "text": [
      "32 32 1.0\n",
      "32 32 1.0\n",
      "32 "
     ]
    },
    {
     "name": "stderr",
     "output_type": "stream",
     "text": [
      "Epoch 3:  79%|██████████▎  | 139/175 [00:01<00:00, 75.82batch/s, accuracy_intent=100, accuracy_slots=99.7, loss=0.0258]"
     ]
    },
    {
     "name": "stdout",
     "output_type": "stream",
     "text": [
      "32 1.0\n",
      "32 32 1.0\n",
      "32 32 1.0\n",
      "32 32 1.0\n",
      "32 32 1.0\n",
      "32 32 1.0\n",
      "32 32 1.0\n",
      "32 32 1.0\n",
      "32 32 1.0\n",
      "32 32 1.0\n",
      "32 32 1.0\n",
      "32 32 1.0\n",
      "32 32 1.0\n"
     ]
    },
    {
     "name": "stderr",
     "output_type": "stream",
     "text": [
      "Epoch 3:  79%|███████████   | 139/175 [00:01<00:00, 75.82batch/s, accuracy_intent=100, accuracy_slots=99.7, loss=0.026]"
     ]
    },
    {
     "name": "stdout",
     "output_type": "stream",
     "text": [
      "32 32 1.0\n",
      "32 32 1.0\n"
     ]
    },
    {
     "name": "stderr",
     "output_type": "stream",
     "text": [
      "Epoch 3:  89%|███████████▌ | 155/175 [00:02<00:00, 77.38batch/s, accuracy_intent=100, accuracy_slots=99.5, loss=0.0247]"
     ]
    },
    {
     "name": "stdout",
     "output_type": "stream",
     "text": [
      "32 32 1.0\n",
      "32 32 1.0\n",
      "32 32 1.0\n",
      "32 32 1.0\n",
      "32 32 1.0\n",
      "32 32 1.0\n",
      "32 32 1.0\n",
      "32 32 1.0\n",
      "32 32 1.0\n",
      "32 32 1.0\n",
      "32 32 1.0\n",
      "32 32 1.0\n"
     ]
    },
    {
     "name": "stderr",
     "output_type": "stream",
     "text": [
      "Epoch 3:  89%|███████████▌ | 155/175 [00:02<00:00, 77.38batch/s, accuracy_intent=100, accuracy_slots=99.7, loss=0.0269]"
     ]
    },
    {
     "name": "stdout",
     "output_type": "stream",
     "text": [
      "32 32 1.0\n",
      "32 32 1.0\n",
      "32 32 1.0\n"
     ]
    },
    {
     "name": "stderr",
     "output_type": "stream",
     "text": [
      "Epoch 3:  98%|██████████████▋| 172/175 [00:02<00:00, 78.49batch/s, accuracy_intent=100, accuracy_slots=100, loss=0.018]"
     ]
    },
    {
     "name": "stdout",
     "output_type": "stream",
     "text": [
      "32 32 1.0\n",
      "32 32 1.0\n",
      "32 32 1.0\n",
      "32 32 1.0\n",
      "32 32 1.0\n",
      "32 32 1.0\n",
      "32 32 1.0\n",
      "32 32 1.0\n",
      "32 32 1.0\n",
      "32 32 1.0\n",
      "32 32 1.0\n",
      "32 32 1.0\n"
     ]
    },
    {
     "name": "stderr",
     "output_type": "stream",
     "text": [
      "Epoch 3:  98%|█████████████▊| 172/175 [00:02<00:00, 78.49batch/s, accuracy_intent=100, accuracy_slots=100, loss=0.0118]"
     ]
    },
    {
     "name": "stdout",
     "output_type": "stream",
     "text": [
      "32 32 1.0\n",
      "32 32 1.0\n",
      "32 32 1.0\n"
     ]
    },
    {
     "name": "stderr",
     "output_type": "stream",
     "text": [
      "Epoch 3: 100%|██████████████| 175/175 [00:02<00:00, 77.37batch/s, accuracy_intent=100, accuracy_slots=100, loss=0.0118]\n"
     ]
    },
    {
     "name": "stdout",
     "output_type": "stream",
     "text": [
      "Epoch 3/60, train_loss = 0.011801, train_accuracy = 100.000000, val_loss = 1.302327, val_accuracy = 97.000000, val_accuracy_slots = 80.559524\n"
     ]
    },
    {
     "name": "stderr",
     "output_type": "stream",
     "text": [
      "Epoch 4:   4%|▋               | 7/175 [00:00<00:02, 66.21batch/s, accuracy_intent=100, accuracy_slots=100, loss=0.0129]"
     ]
    },
    {
     "name": "stdout",
     "output_type": "stream",
     "text": [
      "32 32 1.0\n",
      "32 32 1.0\n",
      "32 32 1.0\n",
      "32 32 1.0\n",
      "32 32 1.0\n",
      "32 32 1.0\n",
      "32 32 1.0\n",
      "32 32 1.0\n",
      "32 32 1.0\n",
      "32 32 1.0\n",
      "32 32 1.0\n"
     ]
    },
    {
     "name": "stderr",
     "output_type": "stream",
     "text": [
      "Epoch 4:   4%|▌              | 7/175 [00:00<00:02, 66.21batch/s, accuracy_intent=100, accuracy_slots=99.2, loss=0.0732]"
     ]
    },
    {
     "name": "stdout",
     "output_type": "stream",
     "text": [
      "32 32 1.0\n",
      "32 32 1.0\n",
      "32 32 1.0\n"
     ]
    },
    {
     "name": "stderr",
     "output_type": "stream",
     "text": [
      "Epoch 4:   9%|█▎             | 15/175 [00:00<00:02, 70.99batch/s, accuracy_intent=100, accuracy_slots=100, loss=0.0149]"
     ]
    },
    {
     "name": "stdout",
     "output_type": "stream",
     "text": [
      "32 32 1.0\n",
      "32 32 1.0\n",
      "32 32 1.0\n"
     ]
    },
    {
     "name": "stderr",
     "output_type": "stream",
     "text": [
      "Epoch 4:  13%|█▉             | 23/175 [00:00<00:02, 66.56batch/s, accuracy_intent=100, accuracy_slots=100, loss=0.0158]"
     ]
    },
    {
     "name": "stdout",
     "output_type": "stream",
     "text": [
      "32 32 1.0\n",
      "32 32 1.0\n",
      "32 32 1.0\n",
      "32 32 1.0\n",
      "32 32 1.0\n",
      "32 32 1.0\n",
      "32 32 1.0\n"
     ]
    },
    {
     "name": "stderr",
     "output_type": "stream",
     "text": [
      "Epoch 4:  13%|█▉             | 23/175 [00:00<00:02, 66.56batch/s, accuracy_intent=100, accuracy_slots=100, loss=0.0179]"
     ]
    },
    {
     "name": "stdout",
     "output_type": "stream",
     "text": [
      "32 32 1.0\n",
      "32 32 1.0\n"
     ]
    },
    {
     "name": "stderr",
     "output_type": "stream",
     "text": [
      "Epoch 4:  13%|█▉             | 23/175 [00:00<00:02, 66.56batch/s, accuracy_intent=100, accuracy_slots=100, loss=0.0206]"
     ]
    },
    {
     "name": "stdout",
     "output_type": "stream",
     "text": [
      "32 32 1.0\n"
     ]
    },
    {
     "name": "stderr",
     "output_type": "stream",
     "text": [
      "Epoch 4:  13%|██▏              | 23/175 [00:00<00:02, 66.56batch/s, accuracy_intent=100, accuracy_slots=100, loss=0.02]"
     ]
    },
    {
     "name": "stdout",
     "output_type": "stream",
     "text": [
      "32 32 1.0\n",
      "32 32 1.0\n",
      "32 32 1.0\n"
     ]
    },
    {
     "name": "stderr",
     "output_type": "stream",
     "text": [
      "Epoch 4:  17%|██▌            | 30/175 [00:00<00:02, 66.43batch/s, accuracy_intent=100, accuracy_slots=100, loss=0.0145]"
     ]
    },
    {
     "name": "stdout",
     "output_type": "stream",
     "text": [
      "32 32 1.0\n",
      "32 32 1.0\n"
     ]
    },
    {
     "name": "stderr",
     "output_type": "stream",
     "text": [
      "Epoch 4:  17%|██▌            | 30/175 [00:00<00:02, 66.43batch/s, accuracy_intent=100, accuracy_slots=100, loss=0.0214]"
     ]
    },
    {
     "name": "stdout",
     "output_type": "stream",
     "text": [
      "32 32 1.0\n",
      "32 32 1.0\n",
      "32 32 1.0\n",
      "32 32 1.0\n"
     ]
    },
    {
     "name": "stderr",
     "output_type": "stream",
     "text": [
      "Epoch 4:  21%|██▉           | 37/175 [00:00<00:02, 66.57batch/s, accuracy_intent=100, accuracy_slots=99.5, loss=0.0411]"
     ]
    },
    {
     "name": "stdout",
     "output_type": "stream",
     "text": [
      "32 32 1.0\n",
      "32 32 1.0\n"
     ]
    },
    {
     "name": "stderr",
     "output_type": "stream",
     "text": [
      "Epoch 4:  21%|███▏           | 37/175 [00:00<00:02, 66.57batch/s, accuracy_intent=100, accuracy_slots=100, loss=0.0144]"
     ]
    },
    {
     "name": "stdout",
     "output_type": "stream",
     "text": [
      "32 32 1.0\n"
     ]
    },
    {
     "name": "stderr",
     "output_type": "stream",
     "text": [
      "Epoch 4:  21%|███▏           | 37/175 [00:00<00:02, 66.57batch/s, accuracy_intent=100, accuracy_slots=100, loss=0.0144]"
     ]
    },
    {
     "name": "stdout",
     "output_type": "stream",
     "text": [
      "32 32 1.0\n",
      "32 32 1.0\n",
      "32 32 1.0\n",
      "32 32 1.0\n",
      "32 32 1.0\n"
     ]
    },
    {
     "name": "stderr",
     "output_type": "stream",
     "text": [
      "Epoch 4:  26%|███▌          | 45/175 [00:00<00:01, 68.10batch/s, accuracy_intent=100, accuracy_slots=99.5, loss=0.0271]"
     ]
    },
    {
     "name": "stdout",
     "output_type": "stream",
     "text": [
      "32 32 1.0\n",
      "32 32 1.0\n"
     ]
    },
    {
     "name": "stderr",
     "output_type": "stream",
     "text": [
      "Epoch 4:  26%|████            | 45/175 [00:00<00:01, 68.10batch/s, accuracy_intent=100, accuracy_slots=100, loss=0.029]"
     ]
    },
    {
     "name": "stdout",
     "output_type": "stream",
     "text": [
      "32 32 1.0\n",
      "32 32 1.0\n",
      "32 32 1.0\n"
     ]
    },
    {
     "name": "stderr",
     "output_type": "stream",
     "text": [
      "Epoch 4:  26%|███▊           | 45/175 [00:00<00:01, 68.10batch/s, accuracy_intent=100, accuracy_slots=100, loss=0.0162]"
     ]
    },
    {
     "name": "stdout",
     "output_type": "stream",
     "text": [
      "32 32 1.0\n",
      "32 32 1.0\n"
     ]
    },
    {
     "name": "stderr",
     "output_type": "stream",
     "text": [
      "Epoch 4:  26%|████            | 45/175 [00:00<00:01, 68.10batch/s, accuracy_intent=100, accuracy_slots=100, loss=0.019]"
     ]
    },
    {
     "name": "stdout",
     "output_type": "stream",
     "text": [
      "32 32 1.0\n",
      "32 32 1.0\n"
     ]
    },
    {
     "name": "stderr",
     "output_type": "stream",
     "text": [
      "Epoch 4:  30%|████▏         | 53/175 [00:00<00:01, 69.06batch/s, accuracy_intent=100, accuracy_slots=99.7, loss=0.0224]"
     ]
    },
    {
     "name": "stdout",
     "output_type": "stream",
     "text": [
      "32 32 1.0\n",
      "32 32 1.0\n",
      "32 32 1.0\n",
      "32 32 1.0\n"
     ]
    },
    {
     "name": "stderr",
     "output_type": "stream",
     "text": [
      "Epoch 4:  30%|████▊           | 53/175 [00:00<00:01, 69.06batch/s, accuracy_intent=100, accuracy_slots=100, loss=0.011]"
     ]
    },
    {
     "name": "stdout",
     "output_type": "stream",
     "text": [
      "32 32 1.0\n",
      "32 32 1.0\n"
     ]
    },
    {
     "name": "stderr",
     "output_type": "stream",
     "text": [
      "Epoch 4:  35%|█████▏         | 61/175 [00:00<00:01, 70.68batch/s, accuracy_intent=100, accuracy_slots=100, loss=0.0164]"
     ]
    },
    {
     "name": "stdout",
     "output_type": "stream",
     "text": [
      "32 32 1.0\n",
      "32 32 1.0\n",
      "32 32 1.0\n",
      "32 32 1.0\n"
     ]
    },
    {
     "name": "stderr",
     "output_type": "stream",
     "text": [
      "Epoch 4:  35%|█████▏         | 61/175 [00:00<00:01, 70.68batch/s, accuracy_intent=100, accuracy_slots=100, loss=0.0154]"
     ]
    },
    {
     "name": "stdout",
     "output_type": "stream",
     "text": [
      "32 32 1.0\n",
      "32 32 1.0\n"
     ]
    },
    {
     "name": "stderr",
     "output_type": "stream",
     "text": [
      "Epoch 4:  35%|█████▏         | 61/175 [00:00<00:01, 70.68batch/s, accuracy_intent=100, accuracy_slots=99.5, loss=0.028]"
     ]
    },
    {
     "name": "stdout",
     "output_type": "stream",
     "text": [
      "32 32 1.0\n",
      "32 32 1.0\n",
      "32 32 1.0\n"
     ]
    },
    {
     "name": "stderr",
     "output_type": "stream",
     "text": [
      "Epoch 4:  39%|█████▌        | 69/175 [00:01<00:01, 72.40batch/s, accuracy_intent=100, accuracy_slots=99.5, loss=0.0209]"
     ]
    },
    {
     "name": "stdout",
     "output_type": "stream",
     "text": [
      "32 32 1.0\n",
      "32 32 1.0\n",
      "32 32 1.0\n"
     ]
    },
    {
     "name": "stderr",
     "output_type": "stream",
     "text": [
      "Epoch 4:  39%|██████▋          | 69/175 [00:01<00:01, 72.40batch/s, accuracy_intent=100, accuracy_slots=100, loss=0.02]"
     ]
    },
    {
     "name": "stdout",
     "output_type": "stream",
     "text": [
      "32 32 1.0\n",
      "32 32 1.0\n",
      "32 32 1.0\n"
     ]
    },
    {
     "name": "stderr",
     "output_type": "stream",
     "text": [
      "Epoch 4:  39%|█████▌        | 69/175 [00:01<00:01, 72.40batch/s, accuracy_intent=100, accuracy_slots=99.7, loss=0.0162]"
     ]
    },
    {
     "name": "stdout",
     "output_type": "stream",
     "text": [
      "32 32 1.0\n",
      "32 32 1.0\n",
      "32 32 1.0\n"
     ]
    },
    {
     "name": "stderr",
     "output_type": "stream",
     "text": [
      "Epoch 4:  44%|██████▏       | 77/175 [00:01<00:01, 71.75batch/s, accuracy_intent=100, accuracy_slots=99.5, loss=0.0302]"
     ]
    },
    {
     "name": "stdout",
     "output_type": "stream",
     "text": [
      "32 32 1.0\n",
      "32 32 1.0\n"
     ]
    },
    {
     "name": "stderr",
     "output_type": "stream",
     "text": [
      "Epoch 4:  44%|██████▌        | 77/175 [00:01<00:01, 71.75batch/s, accuracy_intent=100, accuracy_slots=100, loss=0.0163]"
     ]
    },
    {
     "name": "stdout",
     "output_type": "stream",
     "text": [
      "32 32 1.0\n",
      "32 32 1.0\n"
     ]
    },
    {
     "name": "stderr",
     "output_type": "stream",
     "text": [
      "Epoch 4:  44%|██████▏       | 77/175 [00:01<00:01, 71.75batch/s, accuracy_intent=100, accuracy_slots=99.5, loss=0.0284]"
     ]
    },
    {
     "name": "stdout",
     "output_type": "stream",
     "text": [
      "32 32 1.0\n",
      "32 32 1.0\n",
      "32 32 1.0\n"
     ]
    },
    {
     "name": "stderr",
     "output_type": "stream",
     "text": [
      "Epoch 4:  49%|███████▎       | 85/175 [00:01<00:01, 70.54batch/s, accuracy_intent=100, accuracy_slots=100, loss=0.0198]"
     ]
    },
    {
     "name": "stdout",
     "output_type": "stream",
     "text": [
      "32 32 1.0\n",
      "32 32 1.0\n"
     ]
    },
    {
     "name": "stderr",
     "output_type": "stream",
     "text": [
      "Epoch 4:  49%|███████▎       | 85/175 [00:01<00:01, 70.54batch/s, accuracy_intent=100, accuracy_slots=100, loss=0.0191]"
     ]
    },
    {
     "name": "stdout",
     "output_type": "stream",
     "text": [
      "32 32 1.0\n",
      "32 32 1.0\n",
      "32 32 1.0\n"
     ]
    },
    {
     "name": "stderr",
     "output_type": "stream",
     "text": [
      "Epoch 4:  49%|██████▊       | 85/175 [00:01<00:01, 70.54batch/s, accuracy_intent=100, accuracy_slots=99.7, loss=0.0156]"
     ]
    },
    {
     "name": "stdout",
     "output_type": "stream",
     "text": [
      "32 32 1.0\n",
      "32 32 1.0\n"
     ]
    },
    {
     "name": "stderr",
     "output_type": "stream",
     "text": [
      "Epoch 4:  49%|███████▎       | 85/175 [00:01<00:01, 70.54batch/s, accuracy_intent=100, accuracy_slots=100, loss=0.0137]"
     ]
    },
    {
     "name": "stdout",
     "output_type": "stream",
     "text": [
      "32 32 1.0\n"
     ]
    },
    {
     "name": "stderr",
     "output_type": "stream",
     "text": [
      "Epoch 4:  53%|███████▉       | 93/175 [00:01<00:01, 65.72batch/s, accuracy_intent=100, accuracy_slots=100, loss=0.0181]"
     ]
    },
    {
     "name": "stdout",
     "output_type": "stream",
     "text": [
      "32 32 1.0\n",
      "32 32 1.0\n"
     ]
    },
    {
     "name": "stderr",
     "output_type": "stream",
     "text": [
      "Epoch 4:  53%|███████▍      | 93/175 [00:01<00:01, 65.72batch/s, accuracy_intent=100, accuracy_slots=99.7, loss=0.0273]"
     ]
    },
    {
     "name": "stdout",
     "output_type": "stream",
     "text": [
      "32 32 1.0\n",
      "32 32 1.0\n"
     ]
    },
    {
     "name": "stderr",
     "output_type": "stream",
     "text": [
      "Epoch 4:  53%|███████▉       | 93/175 [00:01<00:01, 65.72batch/s, accuracy_intent=100, accuracy_slots=100, loss=0.0149]"
     ]
    },
    {
     "name": "stdout",
     "output_type": "stream",
     "text": [
      "32 32 1.0\n",
      "32 32 1.0\n",
      "32 32 1.0\n"
     ]
    },
    {
     "name": "stderr",
     "output_type": "stream",
     "text": [
      "Epoch 4:  57%|████████      | 100/175 [00:01<00:01, 62.14batch/s, accuracy_intent=100, accuracy_slots=100, loss=0.0149]"
     ]
    },
    {
     "name": "stdout",
     "output_type": "stream",
     "text": [
      "32 32 1.0\n",
      "32 32 1.0\n",
      "32 32 1.0\n"
     ]
    },
    {
     "name": "stderr",
     "output_type": "stream",
     "text": [
      "Epoch 4:  57%|███████▍     | 100/175 [00:01<00:01, 62.14batch/s, accuracy_intent=100, accuracy_slots=99.2, loss=0.0708]"
     ]
    },
    {
     "name": "stdout",
     "output_type": "stream",
     "text": [
      "32 32 1.0\n",
      "32 32 1.0\n"
     ]
    },
    {
     "name": "stderr",
     "output_type": "stream",
     "text": [
      "Epoch 4:  57%|████████      | 100/175 [00:01<00:01, 62.14batch/s, accuracy_intent=100, accuracy_slots=100, loss=0.0186]"
     ]
    },
    {
     "name": "stdout",
     "output_type": "stream",
     "text": [
      "32 32 1.0\n",
      "32 32 1.0\n"
     ]
    },
    {
     "name": "stderr",
     "output_type": "stream",
     "text": [
      "Epoch 4:  61%|████████▌     | 107/175 [00:01<00:01, 56.73batch/s, accuracy_intent=100, accuracy_slots=100, loss=0.0159]"
     ]
    },
    {
     "name": "stdout",
     "output_type": "stream",
     "text": [
      "32 32 1.0\n",
      "32 32 1.0\n"
     ]
    },
    {
     "name": "stderr",
     "output_type": "stream",
     "text": [
      "Epoch 4:  61%|█████████▏     | 107/175 [00:01<00:01, 56.73batch/s, accuracy_intent=100, accuracy_slots=100, loss=0.015]"
     ]
    },
    {
     "name": "stdout",
     "output_type": "stream",
     "text": [
      "32 32 1.0\n",
      "32 32 1.0\n",
      "32 32 1.0\n",
      "32 32 1.0\n",
      "32 32 1.0\n"
     ]
    },
    {
     "name": "stderr",
     "output_type": "stream",
     "text": [
      "Epoch 4:  65%|█████████     | 114/175 [00:01<00:01, 59.03batch/s, accuracy_intent=100, accuracy_slots=100, loss=0.0179]"
     ]
    },
    {
     "name": "stdout",
     "output_type": "stream",
     "text": [
      "32 32 1.0\n",
      "32 32 1.0\n",
      "32 32 1.0\n"
     ]
    },
    {
     "name": "stderr",
     "output_type": "stream",
     "text": [
      "Epoch 4:  65%|████████▍    | 114/175 [00:01<00:01, 59.03batch/s, accuracy_intent=100, accuracy_slots=99.5, loss=0.0711]"
     ]
    },
    {
     "name": "stdout",
     "output_type": "stream",
     "text": [
      "32 32 1.0\n",
      "32 32 1.0\n",
      "32 32 1.0\n"
     ]
    },
    {
     "name": "stderr",
     "output_type": "stream",
     "text": [
      "Epoch 4:  65%|█████████     | 114/175 [00:01<00:01, 59.03batch/s, accuracy_intent=100, accuracy_slots=100, loss=0.0191]"
     ]
    },
    {
     "name": "stdout",
     "output_type": "stream",
     "text": [
      "32 32 1.0\n",
      "32 32 1.0\n",
      "32 32 1.0\n"
     ]
    },
    {
     "name": "stderr",
     "output_type": "stream",
     "text": [
      "Epoch 4:  70%|█████████▊    | 122/175 [00:01<00:00, 63.33batch/s, accuracy_intent=100, accuracy_slots=100, loss=0.0153]"
     ]
    },
    {
     "name": "stdout",
     "output_type": "stream",
     "text": [
      "32 32 1.0\n",
      "32 32 1.0\n",
      "32 32 1.0\n",
      "32 32 1.0\n",
      "32 32 1.0\n",
      "32 32 1.0\n"
     ]
    },
    {
     "name": "stderr",
     "output_type": "stream",
     "text": [
      "Epoch 4:  70%|█████████▊    | 122/175 [00:01<00:00, 63.33batch/s, accuracy_intent=100, accuracy_slots=100, loss=0.0151]"
     ]
    },
    {
     "name": "stdout",
     "output_type": "stream",
     "text": [
      "32 32 1.0\n",
      "32 32 1.0\n"
     ]
    },
    {
     "name": "stderr",
     "output_type": "stream",
     "text": [
      "Epoch 4:  74%|█████████▋   | 130/175 [00:02<00:00, 66.92batch/s, accuracy_intent=100, accuracy_slots=99.7, loss=0.0234]"
     ]
    },
    {
     "name": "stdout",
     "output_type": "stream",
     "text": [
      "32 32 1.0\n",
      "32 32 1.0\n",
      "32 32 1.0\n"
     ]
    },
    {
     "name": "stderr",
     "output_type": "stream",
     "text": [
      "Epoch 4:  74%|█████████▋   | 130/175 [00:02<00:00, 66.92batch/s, accuracy_intent=100, accuracy_slots=99.5, loss=0.0511]"
     ]
    },
    {
     "name": "stdout",
     "output_type": "stream",
     "text": [
      "32 32 1.0\n",
      "32 32 1.0\n",
      "32 32 1.0\n",
      "32 32 1.0\n"
     ]
    },
    {
     "name": "stderr",
     "output_type": "stream",
     "text": [
      "Epoch 4:  79%|██████████▎  | 138/175 [00:02<00:00, 68.85batch/s, accuracy_intent=100, accuracy_slots=99.7, loss=0.0245]"
     ]
    },
    {
     "name": "stdout",
     "output_type": "stream",
     "text": [
      "32 32 1.0\n",
      "32 32 1.0\n",
      "32 32 1.0\n",
      "32 32 1.0\n"
     ]
    },
    {
     "name": "stderr",
     "output_type": "stream",
     "text": [
      "Epoch 4:  79%|███████████   | 138/175 [00:02<00:00, 68.85batch/s, accuracy_intent=100, accuracy_slots=100, loss=0.0146]"
     ]
    },
    {
     "name": "stdout",
     "output_type": "stream",
     "text": [
      "32 32 1.0\n",
      "32 32 1.0\n"
     ]
    },
    {
     "name": "stderr",
     "output_type": "stream",
     "text": [
      "Epoch 4:  83%|████████████▍  | 145/175 [00:02<00:00, 69.03batch/s, accuracy_intent=100, accuracy_slots=100, loss=0.019]"
     ]
    },
    {
     "name": "stdout",
     "output_type": "stream",
     "text": [
      "32 32 1.0\n",
      "32 32 1.0\n",
      "32 32 1.0\n",
      "32 32 1.0\n"
     ]
    },
    {
     "name": "stderr",
     "output_type": "stream",
     "text": [
      "Epoch 4:  83%|███████████▌  | 145/175 [00:02<00:00, 69.03batch/s, accuracy_intent=100, accuracy_slots=100, loss=0.0256]"
     ]
    },
    {
     "name": "stdout",
     "output_type": "stream",
     "text": [
      "32 32 1.0\n",
      "32 32 1.0\n",
      "32 32 1.0\n"
     ]
    },
    {
     "name": "stderr",
     "output_type": "stream",
     "text": [
      "Epoch 4:  87%|████████████▏ | 153/175 [00:02<00:00, 69.95batch/s, accuracy_intent=100, accuracy_slots=100, loss=0.0273]"
     ]
    },
    {
     "name": "stdout",
     "output_type": "stream",
     "text": [
      "32 32 1.0\n",
      "32 32 1.0\n",
      "32 32 1.0\n",
      "32 32 1.0\n",
      "32 32 1.0\n"
     ]
    },
    {
     "name": "stderr",
     "output_type": "stream",
     "text": [
      "Epoch 4:  87%|████████████▏ | 153/175 [00:02<00:00, 69.95batch/s, accuracy_intent=100, accuracy_slots=100, loss=0.0203]"
     ]
    },
    {
     "name": "stdout",
     "output_type": "stream",
     "text": [
      "32 32 1.0\n",
      "32 32 1.0\n"
     ]
    },
    {
     "name": "stderr",
     "output_type": "stream",
     "text": [
      "Epoch 4:  87%|████████████▏ | 153/175 [00:02<00:00, 69.95batch/s, accuracy_intent=100, accuracy_slots=100, loss=0.0124]"
     ]
    },
    {
     "name": "stdout",
     "output_type": "stream",
     "text": [
      "32 32 1.0\n",
      "32 32 1.0\n",
      "32 32 1.0\n"
     ]
    },
    {
     "name": "stderr",
     "output_type": "stream",
     "text": [
      "Epoch 4:  92%|████████████▉ | 161/175 [00:02<00:00, 71.04batch/s, accuracy_intent=100, accuracy_slots=100, loss=0.0128]"
     ]
    },
    {
     "name": "stdout",
     "output_type": "stream",
     "text": [
      "32 32 1.0\n",
      "32 32 1.0\n",
      "32 32 1.0\n",
      "32 32 1.0\n"
     ]
    },
    {
     "name": "stderr",
     "output_type": "stream",
     "text": [
      "Epoch 4:  92%|████████████▉ | 161/175 [00:02<00:00, 71.04batch/s, accuracy_intent=100, accuracy_slots=100, loss=0.0137]"
     ]
    },
    {
     "name": "stdout",
     "output_type": "stream",
     "text": [
      "32 32 1.0\n",
      "32 32 1.0\n",
      "32 32 1.0\n",
      "32 32"
     ]
    },
    {
     "name": "stderr",
     "output_type": "stream",
     "text": [
      "Epoch 4:  97%|█████████████▌| 169/175 [00:02<00:00, 69.33batch/s, accuracy_intent=100, accuracy_slots=100, loss=0.0166]"
     ]
    },
    {
     "name": "stdout",
     "output_type": "stream",
     "text": [
      " 1.0\n",
      "32 32 1.0\n",
      "32 32 1.0\n"
     ]
    },
    {
     "name": "stderr",
     "output_type": "stream",
     "text": [
      "Epoch 4:  97%|█████████████▌| 169/175 [00:02<00:00, 69.33batch/s, accuracy_intent=100, accuracy_slots=100, loss=0.0223]"
     ]
    },
    {
     "name": "stdout",
     "output_type": "stream",
     "text": [
      "32 32 1.0\n",
      "32 32 1.0\n",
      "32 32 1.0\n"
     ]
    },
    {
     "name": "stderr",
     "output_type": "stream",
     "text": [
      "Epoch 4: 100%|██████████████| 175/175 [00:02<00:00, 67.43batch/s, accuracy_intent=100, accuracy_slots=100, loss=0.0167]\n"
     ]
    },
    {
     "name": "stdout",
     "output_type": "stream",
     "text": [
      "32 32 1.0\n",
      "32 32 1.0\n",
      "Epoch 4/60, train_loss = 0.016711, train_accuracy = 100.000000, val_loss = 1.314839, val_accuracy = 96.642857, val_accuracy_slots = 80.613095\n"
     ]
    },
    {
     "name": "stderr",
     "output_type": "stream",
     "text": [
      "Epoch 5:   5%|▋               | 8/175 [00:00<00:02, 78.75batch/s, accuracy_intent=100, accuracy_slots=100, loss=0.0135]"
     ]
    },
    {
     "name": "stdout",
     "output_type": "stream",
     "text": [
      "32 32 1.0\n",
      "32 32 1.0\n",
      "32 32 1.0\n",
      "32 32 1.0\n",
      "32 32 1.0\n",
      "32 32 1.0\n",
      "32 32 1.0\n",
      "32 32 1.0\n",
      "32 32 1.0\n",
      "32 32 1.0\n",
      "32 32 1.0\n",
      "32 32 1.0\n",
      "32 32 1.0\n",
      "32 32 1.0\n"
     ]
    },
    {
     "name": "stderr",
     "output_type": "stream",
     "text": [
      "Epoch 5:   5%|▋              | 8/175 [00:00<00:02, 78.75batch/s, accuracy_intent=100, accuracy_slots=99.2, loss=0.0539]"
     ]
    },
    {
     "name": "stdout",
     "output_type": "stream",
     "text": [
      "32 32"
     ]
    },
    {
     "name": "stderr",
     "output_type": "stream",
     "text": [
      "Epoch 5:  14%|██            | 25/175 [00:00<00:02, 74.32batch/s, accuracy_intent=100, accuracy_slots=99.7, loss=0.0219]"
     ]
    },
    {
     "name": "stdout",
     "output_type": "stream",
     "text": [
      " 1.0\n",
      "32 32 1.0\n",
      "32 32 1.0\n",
      "32 32 1.0\n",
      "32 32 1.0\n",
      "32 32 1.0\n",
      "32 32 1.0\n",
      "32 32 1.0\n",
      "32 32 1.0\n",
      "32 32 1.0\n",
      "32 32 1.0\n",
      "32 32 1.0\n",
      "32 32 1.0\n",
      "32 32 1.0\n"
     ]
    },
    {
     "name": "stderr",
     "output_type": "stream",
     "text": [
      "Epoch 5:  23%|███▌           | 41/175 [00:00<00:01, 72.88batch/s, accuracy_intent=100, accuracy_slots=100, loss=0.0138]"
     ]
    },
    {
     "name": "stdout",
     "output_type": "stream",
     "text": [
      "32 32 1.0\n",
      "32 32 1.0\n",
      "32 32 1.0\n",
      "32 32 1.0\n",
      "32 32 1.0\n",
      "32 32 1.0\n",
      "32 32 1.0\n",
      "32 32 1.0\n",
      "32 32 1.0\n",
      "32 32 1.0\n",
      "32 32 1.0\n",
      "32 32 1.0\n",
      "32 32 1.0\n",
      "32 32 1.0\n",
      "32 32 1.0\n"
     ]
    },
    {
     "name": "stderr",
     "output_type": "stream",
     "text": [
      "Epoch 5:  28%|████▏          | 49/175 [00:00<00:01, 73.35batch/s, accuracy_intent=100, accuracy_slots=100, loss=0.0151]"
     ]
    },
    {
     "name": "stdout",
     "output_type": "stream",
     "text": [
      "32 32 1.0\n",
      "32 32 1.0\n",
      "32 32 1.0\n",
      "32 32 1.0\n",
      "32 32 1.0\n",
      "32 32 1.0\n",
      "32 32 1.0\n",
      "32 32 1.0\n",
      "32 32 1.0\n",
      "32 32 1.0\n",
      "32 32 1.0\n",
      "32 32 1.0\n",
      "32 32 1.0\n"
     ]
    },
    {
     "name": "stderr",
     "output_type": "stream",
     "text": [
      "Epoch 5:  37%|█████▌         | 65/175 [00:00<00:01, 70.87batch/s, accuracy_intent=100, accuracy_slots=100, loss=0.0186]"
     ]
    },
    {
     "name": "stdout",
     "output_type": "stream",
     "text": [
      "32 32 1.0\n",
      "32 32 1.0\n",
      "32 32 1.0\n",
      "32 32 1.0\n",
      "32 32 1.0\n",
      "32 32 1.0\n",
      "32 32 1.0\n",
      "32 32 1.0\n",
      "32 32 1.0\n",
      "32 32 1.0\n",
      "32 32 1.0\n",
      "32 32 1.0\n",
      "32 32 1.0\n"
     ]
    },
    {
     "name": "stderr",
     "output_type": "stream",
     "text": [
      "Epoch 5:  46%|███████▍        | 81/175 [00:01<00:01, 72.53batch/s, accuracy_intent=100, accuracy_slots=100, loss=0.012]"
     ]
    },
    {
     "name": "stdout",
     "output_type": "stream",
     "text": [
      "32 32 1.0\n",
      "32 32 1.0\n",
      "32 32 1.0\n",
      "32 32 1.0\n",
      "32 32 1.0\n",
      "32 32 1.0\n",
      "32 32 1.0\n",
      "32 32 1.0\n",
      "32 32 1.0\n",
      "32 32 1.0\n",
      "32 32 1.0\n",
      "32 32 1.0\n",
      "32 32 1.0\n",
      "32 32 1.0\n"
     ]
    },
    {
     "name": "stderr",
     "output_type": "stream",
     "text": [
      "Epoch 5:  51%|███████       | 89/175 [00:01<00:01, 71.46batch/s, accuracy_intent=100, accuracy_slots=99.5, loss=0.0266]"
     ]
    },
    {
     "name": "stdout",
     "output_type": "stream",
     "text": [
      "32 32 1.0\n",
      "32 32 1.0\n",
      "32 32 1.0\n",
      "32 32 1.0\n",
      "32 32 1.0\n",
      "32 32 1.0\n",
      "32 32 1.0\n",
      "32 32 1.0\n",
      "32 32 1.0\n",
      "32 32 1.0\n",
      "32 32 1.0\n",
      "32 32 1.0\n",
      "32 32 1.0\n"
     ]
    },
    {
     "name": "stderr",
     "output_type": "stream",
     "text": [
      "Epoch 5:  60%|████████▍     | 105/175 [00:01<00:00, 71.01batch/s, accuracy_intent=100, accuracy_slots=100, loss=0.0152]"
     ]
    },
    {
     "name": "stdout",
     "output_type": "stream",
     "text": [
      "32 32 1.0\n",
      "32 32 1.0\n",
      "32 32 1.0\n",
      "32 32 1.0\n",
      "32 32 1.0\n",
      "32 32 1.0\n",
      "32 32 1.0\n",
      "32 32 1.0\n",
      "32 32 1.0\n",
      "32 32 1.0\n",
      "32 32 1.0\n",
      "32 32 1.0\n",
      "32 32 1.0\n",
      "32 32 1.0\n"
     ]
    },
    {
     "name": "stderr",
     "output_type": "stream",
     "text": [
      "Epoch 5:  69%|█████████▋    | 121/175 [00:01<00:00, 71.08batch/s, accuracy_intent=100, accuracy_slots=100, loss=0.0164]"
     ]
    },
    {
     "name": "stdout",
     "output_type": "stream",
     "text": [
      "32 32 1.0\n",
      "32 32 1.0\n",
      "32 32 1.0\n",
      "32 32 1.0\n",
      "32 32 1.0\n",
      "32 32 1.0\n",
      "32 32 1.0\n",
      "32 32 1.0\n",
      "32 32 1.0\n",
      "32 32 1.0\n",
      "32 32 1.0\n",
      "32 32 1.0\n"
     ]
    },
    {
     "name": "stderr",
     "output_type": "stream",
     "text": [
      "Epoch 5:  74%|█████████▌   | 129/175 [00:01<00:00, 68.50batch/s, accuracy_intent=100, accuracy_slots=99.7, loss=0.0236]"
     ]
    },
    {
     "name": "stdout",
     "output_type": "stream",
     "text": [
      "32 32 1.0\n",
      "32 32 1.0\n",
      "32 32 1.0\n",
      "32 32 1.0\n",
      "32 32 1.0\n",
      "32 32 1.0\n",
      "32 32 1.0\n",
      "32 32 1.0\n",
      "32 32 1.0\n",
      "32 32 1.0\n",
      "32 32 1.0\n",
      "32 32 1.0\n",
      "32 32 1.0\n"
     ]
    },
    {
     "name": "stderr",
     "output_type": "stream",
     "text": [
      "Epoch 5:  83%|██████████▊  | 145/175 [00:02<00:00, 72.49batch/s, accuracy_intent=100, accuracy_slots=99.2, loss=0.0452]"
     ]
    },
    {
     "name": "stdout",
     "output_type": "stream",
     "text": [
      "32 32 1.0\n",
      "32 32 1.0\n",
      "32 32 1.0\n",
      "32 32 1.0\n",
      "32 32 1.0\n",
      "32 32 1.0\n",
      "32 32 1.0\n",
      "32 32 1.0\n",
      "32 32 1.0\n",
      "32 32 1.0\n",
      "32 32 1.0\n",
      "32 32 1.0\n",
      "32 32 1.0\n",
      "32 32 1.0\n"
     ]
    },
    {
     "name": "stderr",
     "output_type": "stream",
     "text": [
      "Epoch 5:  92%|████████████▉ | 161/175 [00:02<00:00, 71.49batch/s, accuracy_intent=100, accuracy_slots=100, loss=0.0255]"
     ]
    },
    {
     "name": "stdout",
     "output_type": "stream",
     "text": [
      "32 32 1.0\n",
      "32 32 1.0\n",
      "32 32 1.0\n",
      "32 32 1.0\n",
      "32 32 1.0\n",
      "32 32 1.0\n",
      "32 32 1.0\n",
      "32 32 1.0\n",
      "32 32 1.0\n",
      "32 32 1.0\n",
      "32 32 1.0\n",
      "32 32 1.0\n",
      "32 32 1.0\n"
     ]
    },
    {
     "name": "stderr",
     "output_type": "stream",
     "text": [
      "Epoch 5: 100%|█████████████| 175/175 [00:02<00:00, 71.76batch/s, accuracy_intent=100, accuracy_slots=99.2, loss=0.0254]\n"
     ]
    },
    {
     "name": "stdout",
     "output_type": "stream",
     "text": [
      "32 32 1.0\n",
      "32 32 1.0\n",
      "32 32 1.0\n",
      "32 32 1.0\n",
      "32 32 1.0\n",
      "32 32 1.0\n",
      "32 32 1.0\n",
      "32 32 1.0\n",
      "32 32 1.0\n",
      "32 32 1.0\n",
      "32 32 1.0\n",
      "32 32 1.0\n",
      "32 32 1.0\n",
      "Epoch 5/60, train_loss = 0.025408, train_accuracy = 100.000000, val_loss = 1.318378, val_accuracy = 96.785714, val_accuracy_slots = 80.589286\n"
     ]
    },
    {
     "name": "stderr",
     "output_type": "stream",
     "text": [
      "Epoch 6:   5%|▋               | 8/175 [00:00<00:02, 79.42batch/s, accuracy_intent=100, accuracy_slots=100, loss=0.0161]"
     ]
    },
    {
     "name": "stdout",
     "output_type": "stream",
     "text": [
      "32 32 1.0\n",
      "32 32 1.0\n",
      "32 32 1.0\n",
      "32 32 1.0\n",
      "32 32 1.0\n",
      "32 32 1.0\n",
      "32 32 1.0\n",
      "32 32 1.0\n",
      "32 32 1.0\n",
      "32 32 1.0\n",
      "32 32 1.0\n",
      "32 32 1.0\n",
      "32 32 1.0\n"
     ]
    },
    {
     "name": "stderr",
     "output_type": "stream",
     "text": [
      "Epoch 6:   5%|▋               | 8/175 [00:00<00:02, 79.42batch/s, accuracy_intent=100, accuracy_slots=100, loss=0.0151]"
     ]
    },
    {
     "name": "stdout",
     "output_type": "stream",
     "text": [
      "32 32 1.0\n"
     ]
    },
    {
     "name": "stderr",
     "output_type": "stream",
     "text": [
      "Epoch 6:  14%|██             | 24/175 [00:00<00:02, 73.88batch/s, accuracy_intent=100, accuracy_slots=100, loss=0.0126]"
     ]
    },
    {
     "name": "stdout",
     "output_type": "stream",
     "text": [
      "32 32 1.0\n",
      "32 32 1.0\n",
      "32 32 1.0\n",
      "32 32 1.0\n",
      "32 32 1.0\n",
      "32 32 1.0\n",
      "32 32 1.0\n",
      "32 32 1.0\n",
      "32 32 1.0\n",
      "32 32 1.0\n",
      "32 32 1.0\n",
      "32 32 1.0\n",
      "32 32 1.0\n"
     ]
    },
    {
     "name": "stderr",
     "output_type": "stream",
     "text": [
      "Epoch 6:  14%|██             | 24/175 [00:00<00:02, 73.88batch/s, accuracy_intent=100, accuracy_slots=100, loss=0.0128]"
     ]
    },
    {
     "name": "stdout",
     "output_type": "stream",
     "text": [
      "32 32 1.0\n"
     ]
    },
    {
     "name": "stderr",
     "output_type": "stream",
     "text": [
      "Epoch 6:  23%|███▍           | 40/175 [00:00<00:01, 76.24batch/s, accuracy_intent=100, accuracy_slots=100, loss=0.0131]"
     ]
    },
    {
     "name": "stdout",
     "output_type": "stream",
     "text": [
      "32 32 1.0\n",
      "32 32 1.0\n",
      "32 32 1.0\n",
      "32 32 1.0\n",
      "32 32 1.0\n",
      "32 32 1.0\n",
      "32 32 1.0\n",
      "32 32 1.0\n",
      "32 32 1.0\n",
      "32 32 1.0\n",
      "32 32 1.0\n",
      "32 32 1.0\n",
      "32 32 1.0\n"
     ]
    },
    {
     "name": "stderr",
     "output_type": "stream",
     "text": [
      "Epoch 6:  23%|███▍           | 40/175 [00:00<00:01, 76.24batch/s, accuracy_intent=100, accuracy_slots=100, loss=0.0146]"
     ]
    },
    {
     "name": "stdout",
     "output_type": "stream",
     "text": [
      "32 32 1.0\n",
      "32 32 1.0\n"
     ]
    },
    {
     "name": "stderr",
     "output_type": "stream",
     "text": [
      "Epoch 6:  27%|███▊          | 48/175 [00:00<00:01, 74.38batch/s, accuracy_intent=100, accuracy_slots=99.7, loss=0.0153]"
     ]
    },
    {
     "name": "stdout",
     "output_type": "stream",
     "text": [
      "32 32 1.0\n",
      "32 32 1.0\n",
      "32 32 1.0\n",
      "32 32 1.0\n",
      "32 32 1.0\n",
      "32 32 1.0\n",
      "32 32 1.0\n",
      "32 32 1.0\n",
      "32 32 1.0\n",
      "32 32 1.0\n",
      "32 32 1.0\n",
      "32 32 1.0\n"
     ]
    },
    {
     "name": "stderr",
     "output_type": "stream",
     "text": [
      "Epoch 6:  32%|█████           | 56/175 [00:00<00:01, 75.72batch/s, accuracy_intent=100, accuracy_slots=100, loss=0.014]"
     ]
    },
    {
     "name": "stdout",
     "output_type": "stream",
     "text": [
      "32 32 1.0\n",
      "32 32 1.0\n",
      "32 32 1.0\n"
     ]
    },
    {
     "name": "stderr",
     "output_type": "stream",
     "text": [
      "Epoch 6:  37%|█████         | 64/175 [00:00<00:01, 71.21batch/s, accuracy_intent=100, accuracy_slots=99.7, loss=0.0189]"
     ]
    },
    {
     "name": "stdout",
     "output_type": "stream",
     "text": [
      "32 32 1.0\n",
      "32 32 1.0\n",
      "32 32 1.0\n",
      "32 32 1.0\n",
      "32 32 1.0\n",
      "32 32 1.0\n",
      "32 32 1.0\n",
      "32 32 1.0\n",
      "32 32 1.0\n"
     ]
    },
    {
     "name": "stderr",
     "output_type": "stream",
     "text": [
      "Epoch 6:  37%|█████▍         | 64/175 [00:00<00:01, 71.21batch/s, accuracy_intent=100, accuracy_slots=100, loss=0.0131]"
     ]
    },
    {
     "name": "stdout",
     "output_type": "stream",
     "text": [
      "32 32 1.0\n",
      "32 32 1.0\n",
      "32 32 1.0\n",
      "32 32 1.0\n"
     ]
    },
    {
     "name": "stderr",
     "output_type": "stream",
     "text": [
      "Epoch 6:  46%|██████▍       | 80/175 [00:01<00:01, 69.70batch/s, accuracy_intent=100, accuracy_slots=99.7, loss=0.0173]"
     ]
    },
    {
     "name": "stdout",
     "output_type": "stream",
     "text": [
      "32 32 1.0\n",
      "32 32 1.0\n",
      "32 32 1.0\n",
      "32 32 1.0\n",
      "32 32 1.0\n",
      "32 32 1.0\n",
      "32 32 1.0\n",
      "32 32 1.0\n",
      "32 32 1.0\n"
     ]
    },
    {
     "name": "stderr",
     "output_type": "stream",
     "text": [
      "Epoch 6:  46%|██████▊        | 80/175 [00:01<00:01, 69.70batch/s, accuracy_intent=100, accuracy_slots=100, loss=0.0114]"
     ]
    },
    {
     "name": "stdout",
     "output_type": "stream",
     "text": [
      "32 32 1.0\n",
      "32 32 1.0\n",
      "32 32 1.0\n",
      "32 32 1.0\n",
      "32 32 1.0\n"
     ]
    },
    {
     "name": "stderr",
     "output_type": "stream",
     "text": [
      "Epoch 6:  50%|███████       | 88/175 [00:01<00:01, 72.01batch/s, accuracy_intent=100, accuracy_slots=100, loss=0.00937]"
     ]
    },
    {
     "name": "stdout",
     "output_type": "stream",
     "text": [
      "32 32 1.0\n",
      "32 32 1.0\n",
      "32 32 1.0\n",
      "32 32 1.0\n",
      "32 32 1.0\n",
      "32 32 1.0\n",
      "32 32 1.0\n",
      "32 32 1.0\n",
      "32 32 1.0\n"
     ]
    },
    {
     "name": "stderr",
     "output_type": "stream",
     "text": [
      "Epoch 6:  54%|████████▏      | 95/175 [00:01<00:01, 72.27batch/s, accuracy_intent=100, accuracy_slots=100, loss=0.0116]"
     ]
    },
    {
     "name": "stdout",
     "output_type": "stream",
     "text": [
      "32 32 1.0\n"
     ]
    },
    {
     "name": "stderr",
     "output_type": "stream",
     "text": [
      "\n"
     ]
    },
    {
     "ename": "KeyboardInterrupt",
     "evalue": "",
     "output_type": "error",
     "traceback": [
      "\u001b[1;31m---------------------------------------------------------------------------\u001b[0m",
      "\u001b[1;31mKeyboardInterrupt\u001b[0m                         Traceback (most recent call last)",
      "\u001b[1;32m~\\AppData\\Local\\Temp/ipykernel_23172/1302126499.py\u001b[0m in \u001b[0;36m<module>\u001b[1;34m\u001b[0m\n\u001b[0;32m     16\u001b[0m     \u001b[1;32mwith\u001b[0m \u001b[0mtqdm\u001b[0m\u001b[1;33m(\u001b[0m\u001b[0mtrain_loader\u001b[0m\u001b[1;33m,\u001b[0m \u001b[0munit\u001b[0m\u001b[1;33m=\u001b[0m\u001b[1;34m\"batch\"\u001b[0m\u001b[1;33m)\u001b[0m \u001b[1;32mas\u001b[0m \u001b[0mtepoch\u001b[0m\u001b[1;33m:\u001b[0m\u001b[1;33m\u001b[0m\u001b[1;33m\u001b[0m\u001b[0m\n\u001b[0;32m     17\u001b[0m         \u001b[0mmodel\u001b[0m\u001b[1;33m.\u001b[0m\u001b[0mtrain\u001b[0m\u001b[1;33m(\u001b[0m\u001b[1;33m)\u001b[0m\u001b[1;33m\u001b[0m\u001b[1;33m\u001b[0m\u001b[0m\n\u001b[1;32m---> 18\u001b[1;33m         \u001b[1;32mfor\u001b[0m \u001b[0msequence\u001b[0m\u001b[1;33m,\u001b[0m \u001b[0mgt_intents\u001b[0m\u001b[1;33m,\u001b[0m \u001b[0mgt_slots\u001b[0m \u001b[1;32min\u001b[0m \u001b[0mtepoch\u001b[0m\u001b[1;33m:\u001b[0m\u001b[1;33m\u001b[0m\u001b[1;33m\u001b[0m\u001b[0m\n\u001b[0m\u001b[0;32m     19\u001b[0m             \u001b[0mtepoch\u001b[0m\u001b[1;33m.\u001b[0m\u001b[0mset_description\u001b[0m\u001b[1;33m(\u001b[0m\u001b[1;34mf\"Epoch {epoch}\"\u001b[0m\u001b[1;33m)\u001b[0m\u001b[1;33m\u001b[0m\u001b[1;33m\u001b[0m\u001b[0m\n\u001b[0;32m     20\u001b[0m \u001b[1;33m\u001b[0m\u001b[0m\n",
      "\u001b[1;32m~\\anaconda3\\lib\\site-packages\\tqdm\\std.py\u001b[0m in \u001b[0;36m__iter__\u001b[1;34m(self)\u001b[0m\n\u001b[0;32m   1178\u001b[0m \u001b[1;33m\u001b[0m\u001b[0m\n\u001b[0;32m   1179\u001b[0m         \u001b[1;32mtry\u001b[0m\u001b[1;33m:\u001b[0m\u001b[1;33m\u001b[0m\u001b[1;33m\u001b[0m\u001b[0m\n\u001b[1;32m-> 1180\u001b[1;33m             \u001b[1;32mfor\u001b[0m \u001b[0mobj\u001b[0m \u001b[1;32min\u001b[0m \u001b[0miterable\u001b[0m\u001b[1;33m:\u001b[0m\u001b[1;33m\u001b[0m\u001b[1;33m\u001b[0m\u001b[0m\n\u001b[0m\u001b[0;32m   1181\u001b[0m                 \u001b[1;32myield\u001b[0m \u001b[0mobj\u001b[0m\u001b[1;33m\u001b[0m\u001b[1;33m\u001b[0m\u001b[0m\n\u001b[0;32m   1182\u001b[0m                 \u001b[1;31m# Update and possibly print the progressbar.\u001b[0m\u001b[1;33m\u001b[0m\u001b[1;33m\u001b[0m\u001b[0m\n",
      "\u001b[1;32m~\\anaconda3\\lib\\site-packages\\torch\\utils\\data\\dataloader.py\u001b[0m in \u001b[0;36m__next__\u001b[1;34m(self)\u001b[0m\n\u001b[0;32m    519\u001b[0m             \u001b[1;32mif\u001b[0m \u001b[0mself\u001b[0m\u001b[1;33m.\u001b[0m\u001b[0m_sampler_iter\u001b[0m \u001b[1;32mis\u001b[0m \u001b[1;32mNone\u001b[0m\u001b[1;33m:\u001b[0m\u001b[1;33m\u001b[0m\u001b[1;33m\u001b[0m\u001b[0m\n\u001b[0;32m    520\u001b[0m                 \u001b[0mself\u001b[0m\u001b[1;33m.\u001b[0m\u001b[0m_reset\u001b[0m\u001b[1;33m(\u001b[0m\u001b[1;33m)\u001b[0m\u001b[1;33m\u001b[0m\u001b[1;33m\u001b[0m\u001b[0m\n\u001b[1;32m--> 521\u001b[1;33m             \u001b[0mdata\u001b[0m \u001b[1;33m=\u001b[0m \u001b[0mself\u001b[0m\u001b[1;33m.\u001b[0m\u001b[0m_next_data\u001b[0m\u001b[1;33m(\u001b[0m\u001b[1;33m)\u001b[0m\u001b[1;33m\u001b[0m\u001b[1;33m\u001b[0m\u001b[0m\n\u001b[0m\u001b[0;32m    522\u001b[0m             \u001b[0mself\u001b[0m\u001b[1;33m.\u001b[0m\u001b[0m_num_yielded\u001b[0m \u001b[1;33m+=\u001b[0m \u001b[1;36m1\u001b[0m\u001b[1;33m\u001b[0m\u001b[1;33m\u001b[0m\u001b[0m\n\u001b[0;32m    523\u001b[0m             \u001b[1;32mif\u001b[0m \u001b[0mself\u001b[0m\u001b[1;33m.\u001b[0m\u001b[0m_dataset_kind\u001b[0m \u001b[1;33m==\u001b[0m \u001b[0m_DatasetKind\u001b[0m\u001b[1;33m.\u001b[0m\u001b[0mIterable\u001b[0m \u001b[1;32mand\u001b[0m\u001b[0;31m \u001b[0m\u001b[0;31m\\\u001b[0m\u001b[1;33m\u001b[0m\u001b[1;33m\u001b[0m\u001b[0m\n",
      "\u001b[1;32m~\\anaconda3\\lib\\site-packages\\torch\\utils\\data\\dataloader.py\u001b[0m in \u001b[0;36m_next_data\u001b[1;34m(self)\u001b[0m\n\u001b[0;32m    559\u001b[0m     \u001b[1;32mdef\u001b[0m \u001b[0m_next_data\u001b[0m\u001b[1;33m(\u001b[0m\u001b[0mself\u001b[0m\u001b[1;33m)\u001b[0m\u001b[1;33m:\u001b[0m\u001b[1;33m\u001b[0m\u001b[1;33m\u001b[0m\u001b[0m\n\u001b[0;32m    560\u001b[0m         \u001b[0mindex\u001b[0m \u001b[1;33m=\u001b[0m \u001b[0mself\u001b[0m\u001b[1;33m.\u001b[0m\u001b[0m_next_index\u001b[0m\u001b[1;33m(\u001b[0m\u001b[1;33m)\u001b[0m  \u001b[1;31m# may raise StopIteration\u001b[0m\u001b[1;33m\u001b[0m\u001b[1;33m\u001b[0m\u001b[0m\n\u001b[1;32m--> 561\u001b[1;33m         \u001b[0mdata\u001b[0m \u001b[1;33m=\u001b[0m \u001b[0mself\u001b[0m\u001b[1;33m.\u001b[0m\u001b[0m_dataset_fetcher\u001b[0m\u001b[1;33m.\u001b[0m\u001b[0mfetch\u001b[0m\u001b[1;33m(\u001b[0m\u001b[0mindex\u001b[0m\u001b[1;33m)\u001b[0m  \u001b[1;31m# may raise StopIteration\u001b[0m\u001b[1;33m\u001b[0m\u001b[1;33m\u001b[0m\u001b[0m\n\u001b[0m\u001b[0;32m    562\u001b[0m         \u001b[1;32mif\u001b[0m \u001b[0mself\u001b[0m\u001b[1;33m.\u001b[0m\u001b[0m_pin_memory\u001b[0m\u001b[1;33m:\u001b[0m\u001b[1;33m\u001b[0m\u001b[1;33m\u001b[0m\u001b[0m\n\u001b[0;32m    563\u001b[0m             \u001b[0mdata\u001b[0m \u001b[1;33m=\u001b[0m \u001b[0m_utils\u001b[0m\u001b[1;33m.\u001b[0m\u001b[0mpin_memory\u001b[0m\u001b[1;33m.\u001b[0m\u001b[0mpin_memory\u001b[0m\u001b[1;33m(\u001b[0m\u001b[0mdata\u001b[0m\u001b[1;33m)\u001b[0m\u001b[1;33m\u001b[0m\u001b[1;33m\u001b[0m\u001b[0m\n",
      "\u001b[1;32m~\\anaconda3\\lib\\site-packages\\torch\\utils\\data\\_utils\\fetch.py\u001b[0m in \u001b[0;36mfetch\u001b[1;34m(self, possibly_batched_index)\u001b[0m\n\u001b[0;32m     47\u001b[0m     \u001b[1;32mdef\u001b[0m \u001b[0mfetch\u001b[0m\u001b[1;33m(\u001b[0m\u001b[0mself\u001b[0m\u001b[1;33m,\u001b[0m \u001b[0mpossibly_batched_index\u001b[0m\u001b[1;33m)\u001b[0m\u001b[1;33m:\u001b[0m\u001b[1;33m\u001b[0m\u001b[1;33m\u001b[0m\u001b[0m\n\u001b[0;32m     48\u001b[0m         \u001b[1;32mif\u001b[0m \u001b[0mself\u001b[0m\u001b[1;33m.\u001b[0m\u001b[0mauto_collation\u001b[0m\u001b[1;33m:\u001b[0m\u001b[1;33m\u001b[0m\u001b[1;33m\u001b[0m\u001b[0m\n\u001b[1;32m---> 49\u001b[1;33m             \u001b[0mdata\u001b[0m \u001b[1;33m=\u001b[0m \u001b[1;33m[\u001b[0m\u001b[0mself\u001b[0m\u001b[1;33m.\u001b[0m\u001b[0mdataset\u001b[0m\u001b[1;33m[\u001b[0m\u001b[0midx\u001b[0m\u001b[1;33m]\u001b[0m \u001b[1;32mfor\u001b[0m \u001b[0midx\u001b[0m \u001b[1;32min\u001b[0m \u001b[0mpossibly_batched_index\u001b[0m\u001b[1;33m]\u001b[0m\u001b[1;33m\u001b[0m\u001b[1;33m\u001b[0m\u001b[0m\n\u001b[0m\u001b[0;32m     50\u001b[0m         \u001b[1;32melse\u001b[0m\u001b[1;33m:\u001b[0m\u001b[1;33m\u001b[0m\u001b[1;33m\u001b[0m\u001b[0m\n\u001b[0;32m     51\u001b[0m             \u001b[0mdata\u001b[0m \u001b[1;33m=\u001b[0m \u001b[0mself\u001b[0m\u001b[1;33m.\u001b[0m\u001b[0mdataset\u001b[0m\u001b[1;33m[\u001b[0m\u001b[0mpossibly_batched_index\u001b[0m\u001b[1;33m]\u001b[0m\u001b[1;33m\u001b[0m\u001b[1;33m\u001b[0m\u001b[0m\n",
      "\u001b[1;32m~\\anaconda3\\lib\\site-packages\\torch\\utils\\data\\_utils\\fetch.py\u001b[0m in \u001b[0;36m<listcomp>\u001b[1;34m(.0)\u001b[0m\n\u001b[0;32m     47\u001b[0m     \u001b[1;32mdef\u001b[0m \u001b[0mfetch\u001b[0m\u001b[1;33m(\u001b[0m\u001b[0mself\u001b[0m\u001b[1;33m,\u001b[0m \u001b[0mpossibly_batched_index\u001b[0m\u001b[1;33m)\u001b[0m\u001b[1;33m:\u001b[0m\u001b[1;33m\u001b[0m\u001b[1;33m\u001b[0m\u001b[0m\n\u001b[0;32m     48\u001b[0m         \u001b[1;32mif\u001b[0m \u001b[0mself\u001b[0m\u001b[1;33m.\u001b[0m\u001b[0mauto_collation\u001b[0m\u001b[1;33m:\u001b[0m\u001b[1;33m\u001b[0m\u001b[1;33m\u001b[0m\u001b[0m\n\u001b[1;32m---> 49\u001b[1;33m             \u001b[0mdata\u001b[0m \u001b[1;33m=\u001b[0m \u001b[1;33m[\u001b[0m\u001b[0mself\u001b[0m\u001b[1;33m.\u001b[0m\u001b[0mdataset\u001b[0m\u001b[1;33m[\u001b[0m\u001b[0midx\u001b[0m\u001b[1;33m]\u001b[0m \u001b[1;32mfor\u001b[0m \u001b[0midx\u001b[0m \u001b[1;32min\u001b[0m \u001b[0mpossibly_batched_index\u001b[0m\u001b[1;33m]\u001b[0m\u001b[1;33m\u001b[0m\u001b[1;33m\u001b[0m\u001b[0m\n\u001b[0m\u001b[0;32m     50\u001b[0m         \u001b[1;32melse\u001b[0m\u001b[1;33m:\u001b[0m\u001b[1;33m\u001b[0m\u001b[1;33m\u001b[0m\u001b[0m\n\u001b[0;32m     51\u001b[0m             \u001b[0mdata\u001b[0m \u001b[1;33m=\u001b[0m \u001b[0mself\u001b[0m\u001b[1;33m.\u001b[0m\u001b[0mdataset\u001b[0m\u001b[1;33m[\u001b[0m\u001b[0mpossibly_batched_index\u001b[0m\u001b[1;33m]\u001b[0m\u001b[1;33m\u001b[0m\u001b[1;33m\u001b[0m\u001b[0m\n",
      "\u001b[1;32m~\\AppData\\Local\\Temp/ipykernel_23172/2477020730.py\u001b[0m in \u001b[0;36m__getitem__\u001b[1;34m(self, idx)\u001b[0m\n\u001b[0;32m     13\u001b[0m     \u001b[1;32mdef\u001b[0m \u001b[0m__getitem__\u001b[0m\u001b[1;33m(\u001b[0m\u001b[0mself\u001b[0m\u001b[1;33m,\u001b[0m \u001b[0midx\u001b[0m\u001b[1;33m)\u001b[0m\u001b[1;33m:\u001b[0m\u001b[1;33m\u001b[0m\u001b[1;33m\u001b[0m\u001b[0m\n\u001b[0;32m     14\u001b[0m \u001b[1;33m\u001b[0m\u001b[0m\n\u001b[1;32m---> 15\u001b[1;33m         return torch.IntTensor(self.x[idx]), torch.LongTensor(\n\u001b[0m\u001b[0;32m     16\u001b[0m             self.target_transform(self.intent[idx])), torch.LongTensor(self.slots_transform(self.slots[idx])).transpose(0,1)\n\u001b[0;32m     17\u001b[0m \u001b[1;33m\u001b[0m\u001b[0m\n",
      "\u001b[1;31mKeyboardInterrupt\u001b[0m: "
     ]
    }
   ],
   "source": [
    "# Train the model\n",
    "total_step = len(train_loader)\n",
    "valid_loss_min = (\n",
    "    np.Inf\n",
    ")  # Initialize a minimum loss such that, if it is lower, it is the best checkpoint and we save the model\n",
    "train_loss_epoch = []\n",
    "val_loss_epoch = []\n",
    "train_accuracy_epoch = []\n",
    "train_accuracy_slots_epoch = []\n",
    "val_accuracy_epoch = []\n",
    "val_accuracy_slots_epoch = []\n",
    "\n",
    "checkpoint_path = \"checkpoints/last.pt\"\n",
    "best_model_path = \"checkpoints/best.pt\"\n",
    "for epoch in range(num_epochs):\n",
    "    with tqdm(train_loader, unit=\"batch\") as tepoch:\n",
    "        model.train()\n",
    "        for sequence, gt_intents, gt_slots in tepoch:\n",
    "            tepoch.set_description(f\"Epoch {epoch}\")\n",
    "            \n",
    "            sequence = sequence.to(device)\n",
    "            gt_intents = gt_intents.to(device)\n",
    "            gt_slots = gt_slots.to(device)\n",
    "\n",
    "            # Forward pass\n",
    "            intent, slots = model(sequence) # slots B x L x S\n",
    "\n",
    "            \n",
    "            \n",
    "            _, predictions_intent = torch.max(intent.data, 1)\n",
    "\n",
    "            _, predictions_slots = torch.max(slots.data,1)\n",
    "\n",
    "\n",
    "            _, target_intent = torch.max(gt_intents.data, 1)\n",
    "            _, targets_slots = torch.max(gt_slots.data, 1)\n",
    "\n",
    "            \n",
    "            loss1 = criterion(intent, target_intent)\n",
    "            loss2 = criterion2(slots, targets_slots)\n",
    "            loss = loss1 + loss2\n",
    "\n",
    "            correct_intent = (predictions_intent == target_intent).sum().item()\n",
    "            accuracy_intent = correct_intent / gt_intents.size(0)\n",
    "\n",
    "            correct_slots = (predictions_slots == targets_slots).sum().item()\n",
    "            #print(correct_slots)\n",
    "            accuracy_slots = correct_slots / (gt_slots.size(0) * gt_slots.size(2))\n",
    "\n",
    "            #correct_slots = \n",
    "\n",
    "            # Backward and optimize\n",
    "            optimizer.zero_grad()\n",
    "            loss.backward()\n",
    "            optimizer.step()\n",
    "\n",
    "            tepoch.set_postfix(loss=loss.item(), accuracy_intent=100.0 * accuracy_intent, accuracy_slots = 100*accuracy_slots)\n",
    "\n",
    "        # At the end of each epoch, evaluate and store train_loss, val_loss, train_accuracy, val_accuracy\n",
    "        train_accuracy_epoch.append(100.0 * accuracy_intent)\n",
    "        train_accuracy_slots_epoch.append(100.0 * accuracy_slots)\n",
    "        train_loss_epoch.append(loss.item())\n",
    "\n",
    "        with torch.no_grad():\n",
    "            \n",
    "            model.eval()\n",
    "            correct_val_intent = 0\n",
    "            correct_val_slots = 0\n",
    "            total_val = 0\n",
    "            total_val_slots = 0\n",
    "            val_loss_inside_epoch = []\n",
    "            for seq, gt_intent, gt_slots in val_loader:\n",
    "                seq = seq.to(device)\n",
    "                gt_intent = gt_intent.to(device)\n",
    "                gt_slots = gt_slots.to(device)\n",
    "\n",
    "                \n",
    "                _, val_intent = torch.max(gt_intent.data, 1)\n",
    "\n",
    "                intent, slots = model(seq)\n",
    "\n",
    "\n",
    "                _, predictions_slots_val = torch.max(slots.data,1)\n",
    "                _, targets_slots_val = torch.max(gt_slots.data, 1)\n",
    "\n",
    "\n",
    "\n",
    "                val_loss1 = criterion(intent, val_intent)\n",
    "                val_loss2 = criterion2(slots, targets_slots_val)\n",
    "                val_loss = val_loss1 + val_loss2\n",
    "                val_loss_inside_epoch.append(val_loss.item())\n",
    "\n",
    "                _, prediction_intent = torch.max(intent.data, 1)\n",
    "\n",
    "\n",
    "                total_val += intent.size(0)\n",
    "                total_val_slots += gt_slots.size(0) * gt_slots.size(2)\n",
    "\n",
    "                correct_val_intent += (prediction_intent == val_intent).sum().item()\n",
    "                correct_val_slots += (predictions_slots_val == targets_slots_val).sum().item()\n",
    "\n",
    "\n",
    "            valid_loss = np.mean(val_loss_inside_epoch)\n",
    "\n",
    "            # Storing val loss and val accuracy\n",
    "            val_loss_epoch.append(valid_loss)\n",
    "            val_accuracy_epoch.append(100 * correct_val_intent / total_val)\n",
    "            val_accuracy_slots_epoch.append(100 * correct_val_slots / total_val_slots)\n",
    "\n",
    "            print(\n",
    "                \"Epoch {}/{}, train_loss = {:4f}, train_accuracy = {:4f}, val_loss = {:4f}, val_accuracy = {:4f}, val_accuracy_slots = {:4f}\".format(\n",
    "                    epoch,\n",
    "                    num_epochs,\n",
    "                    train_loss_epoch[-1],\n",
    "                    train_accuracy_epoch[-1],\n",
    "                    val_loss_epoch[-1],\n",
    "                    val_accuracy_epoch[-1],\n",
    "                    val_accuracy_slots_epoch[-1]\n",
    "                )\n",
    "            )\n",
    "\n",
    "        checkpoint = {\n",
    "            \"epoch\": epoch,\n",
    "            \"valid_loss_min\": valid_loss,\n",
    "            \"state_dict\": model.state_dict(),\n",
    "            \"optimizer\": optimizer.state_dict(),\n",
    "\n",
    "        save_ckp(checkpoint, False, checkpoint_path, best_model_path)\n",
    "\n",
    "        if valid_loss <= valid_loss_min:\n",
    "            print(\n",
    "                \"Validation loss decreased ({:.6f} --> {:.6f}).  Saving model ...\".format(\n",
    "                    valid_loss_min, valid_loss\n",
    "                )\n",
    "            )\n",
    "            # save checkpoint as best model\n",
    "            save_ckp(checkpoint, True, checkpoint_path, best_model_path)\n",
    "            valid_loss_min = valid_loss"
   ]
  },
  {
   "cell_type": "code",
   "execution_count": 296,
   "id": "vjwnWe21q29d",
   "metadata": {
    "colab": {
     "base_uri": "https://localhost:8080/"
    },
    "id": "vjwnWe21q29d",
    "outputId": "e0dbf7f0-8fe0-4d77-e8f5-cc3d2a2e221a"
   },
   "outputs": [
    {
     "name": "stdout",
     "output_type": "stream",
     "text": [
      "Requirement already satisfied: torch-tensorrt in /usr/local/lib/python3.7/dist-packages (0.0.0)\n"
     ]
    }
   ],
   "source": [
    "! pip install torch-tensorrt"
   ]
  },
  {
   "cell_type": "code",
   "execution_count": null,
   "id": "i1HGjUi9rDhi",
   "metadata": {
    "id": "i1HGjUi9rDhi"
   },
   "outputs": [],
   "source": [
    "!pip install tensorrt"
   ]
  },
  {
   "cell_type": "code",
   "execution_count": 45,
   "id": "af9d4b9f-afd6-44a4-a2fd-365af6d93948",
   "metadata": {
    "colab": {
     "base_uri": "https://localhost:8080/"
    },
    "id": "af9d4b9f-afd6-44a4-a2fd-365af6d93948",
    "outputId": "aefe6362-f272-469e-c9e5-9d9beedf2764"
   },
   "outputs": [
    {
     "name": "stdout",
     "output_type": "stream",
     "text": [
      "Cloning into 'GloVe'...\n",
      "remote: Enumerating objects: 606, done.\u001b[K\n",
      "remote: Counting objects: 100% (14/14), done.\u001b[K\n",
      "remote: Compressing objects: 100% (12/12), done.\u001b[K\n",
      "remote: Total 606 (delta 5), reused 7 (delta 2), pack-reused 592\u001b[K\n",
      "Receiving objects: 100% (606/606), 224.91 KiB | 3.57 MiB/s, done.\n",
      "Resolving deltas: 100% (343/343), done.\n"
     ]
    }
   ],
   "source": [
    "! git clone https://github.com/stanfordnlp/GloVe.git"
   ]
  },
  {
   "cell_type": "code",
   "execution_count": 46,
   "id": "d3v4z3Q9NL6D",
   "metadata": {
    "colab": {
     "base_uri": "https://localhost:8080/"
    },
    "id": "d3v4z3Q9NL6D",
    "outputId": "311597c4-360f-43b6-826b-965e2936a455"
   },
   "outputs": [
    {
     "name": "stdout",
     "output_type": "stream",
     "text": [
      "--2022-02-09 20:40:12--  https://nlp.stanford.edu/data/glove.6B.zip\n",
      "Resolving nlp.stanford.edu (nlp.stanford.edu)... 171.64.67.140\n",
      "Connecting to nlp.stanford.edu (nlp.stanford.edu)|171.64.67.140|:443... connected.\n",
      "HTTP request sent, awaiting response... 301 Moved Permanently\n",
      "Location: http://downloads.cs.stanford.edu/nlp/data/glove.6B.zip [following]\n",
      "--2022-02-09 20:40:12--  http://downloads.cs.stanford.edu/nlp/data/glove.6B.zip\n",
      "Resolving downloads.cs.stanford.edu (downloads.cs.stanford.edu)... 171.64.64.22\n",
      "Connecting to downloads.cs.stanford.edu (downloads.cs.stanford.edu)|171.64.64.22|:80... connected.\n",
      "HTTP request sent, awaiting response... 200 OK\n",
      "Length: 862182613 (822M) [application/zip]\n",
      "Saving to: ‘glove.6B.zip’\n",
      "\n",
      "glove.6B.zip        100%[===================>] 822.24M  5.13MB/s    in 2m 44s  \n",
      "\n",
      "2022-02-09 20:42:56 (5.01 MB/s) - ‘glove.6B.zip’ saved [862182613/862182613]\n",
      "\n"
     ]
    }
   ],
   "source": [
    "! wget https://nlp.stanford.edu/data/glove.6B.zip"
   ]
  },
  {
   "cell_type": "code",
   "execution_count": 47,
   "id": "oaZLssBTNxAt",
   "metadata": {
    "colab": {
     "base_uri": "https://localhost:8080/"
    },
    "id": "oaZLssBTNxAt",
    "outputId": "b7c2e131-eb17-4897-b916-6a49f94ecb31"
   },
   "outputs": [
    {
     "name": "stdout",
     "output_type": "stream",
     "text": [
      "Archive:  glove.6B.zip\n",
      "  inflating: glove.6B.50d.txt        \n",
      "  inflating: glove.6B.100d.txt       \n",
      "  inflating: glove.6B.200d.txt       \n",
      "  inflating: glove.6B.300d.txt       \n"
     ]
    }
   ],
   "source": [
    "!unzip glove.6B.zip"
   ]
  },
  {
   "cell_type": "code",
   "execution_count": 46,
   "id": "cc7tqveGOb0O",
   "metadata": {
    "colab": {
     "base_uri": "https://localhost:8080/"
    },
    "id": "cc7tqveGOb0O",
    "outputId": "142f76bb-12cf-4105-c968-7d36e317cae7"
   },
   "outputs": [
    {
     "name": "stdout",
     "output_type": "stream",
     "text": [
      "GloVe data loaded\n"
     ]
    }
   ],
   "source": [
    "embeddings_index = {}\n",
    "f = open('vectors.txt')\n",
    "for line in f:\n",
    "    values = line.split(' ')\n",
    "    word = values[0] ## The first entry is the word\n",
    "    coefs = np.asarray(values[1:], dtype='float32') ## These are the vecotrs representing the embedding for the word\n",
    "    embeddings_index[word] = coefs\n",
    "f.close()\n",
    "\n",
    "print('GloVe data loaded')"
   ]
  },
  {
   "cell_type": "code",
   "execution_count": 47,
   "id": "TmmTDMWQel5E",
   "metadata": {
    "id": "TmmTDMWQel5E"
   },
   "outputs": [],
   "source": [
    "vocab_glove = set(embeddings_index.keys())"
   ]
  },
  {
   "cell_type": "code",
   "execution_count": 48,
   "id": "SYA_KMCCOkfz",
   "metadata": {
    "id": "SYA_KMCCOkfz"
   },
   "outputs": [],
   "source": [
    "embedding_matrix = np.zeros((vocab_len+1,50))"
   ]
  },
  {
   "cell_type": "code",
   "execution_count": 49,
   "id": "Qfe1EuMoOosI",
   "metadata": {
    "id": "Qfe1EuMoOosI"
   },
   "outputs": [],
   "source": [
    "for word in train :\n",
    "  \n",
    "  embedding_matrix[stoi[word]] = embeddings_index[word]\n"
   ]
  },
  {
   "cell_type": "code",
   "execution_count": 50,
   "id": "LQrkwEy8iHvp",
   "metadata": {
    "id": "LQrkwEy8iHvp"
   },
   "outputs": [],
   "source": [
    "embedding_matrix[0] = .4*np.random.randn(50)"
   ]
  },
  {
   "cell_type": "code",
   "execution_count": 51,
   "id": "aSuASILYdaHI",
   "metadata": {
    "colab": {
     "base_uri": "https://localhost:8080/"
    },
    "id": "aSuASILYdaHI",
    "outputId": "7d8b8bf8-2cde-4254-f7bb-5aa2209437cc"
   },
   "outputs": [
    {
     "data": {
      "text/plain": [
       "array([ 0.14860377, -0.3205448 , -0.10122348,  0.20457418, -0.62481735,\n",
       "       -0.07888165, -0.08441581, -0.31996835, -0.13025778, -0.50723609,\n",
       "       -0.19471042, -0.52992211, -0.12108163, -0.63592513, -0.10014447,\n",
       "        0.29978822,  0.24763789,  0.68197732,  0.4261334 , -0.21387932,\n",
       "        0.5986437 , -0.27496902, -0.06646956,  0.141767  ,  0.13732184,\n",
       "        0.15387863,  0.36906884,  0.0144942 , -0.07998007,  0.03854984,\n",
       "       -0.15719927,  0.57006668, -0.28970283,  0.36676507,  0.50865208,\n",
       "       -0.00543875, -0.82230643, -0.53714002,  0.33118882, -0.20648613,\n",
       "        0.20477404, -0.24422072, -0.91259884,  0.66157089,  0.28148822,\n",
       "       -0.04048616,  0.05098793, -0.61464291,  0.80281171,  0.14227468])"
      ]
     },
     "execution_count": 51,
     "metadata": {},
     "output_type": "execute_result"
    }
   ],
   "source": [
    "embedding_matrix[0]"
   ]
  },
  {
   "cell_type": "code",
   "execution_count": 93,
   "id": "IThnt2OAO0JE",
   "metadata": {
    "colab": {
     "base_uri": "https://localhost:8080/"
    },
    "id": "IThnt2OAO0JE",
    "outputId": "44267e75-70dc-4756-f841-0811eb7f3909"
   },
   "outputs": [
    {
     "data": {
      "text/plain": [
       "True"
      ]
     },
     "execution_count": 93,
     "metadata": {},
     "output_type": "execute_result"
    }
   ],
   "source": [
    "train.issubset(vocab_glove)"
   ]
  },
  {
   "cell_type": "code",
   "execution_count": 148,
   "id": "4ap5ufoyO7SW",
   "metadata": {
    "colab": {
     "base_uri": "https://localhost:8080/"
    },
    "id": "4ap5ufoyO7SW",
    "outputId": "ebbfda1d-c80a-4dcc-b74a-867a774c8552"
   },
   "outputs": [
    {
     "data": {
      "text/plain": [
       "0"
      ]
     },
     "execution_count": 148,
     "metadata": {},
     "output_type": "execute_result"
    }
   ],
   "source": [
    "len(train - vocab_glove)"
   ]
  },
  {
   "cell_type": "code",
   "execution_count": 149,
   "id": "6p-TvhqdO-TG",
   "metadata": {
    "colab": {
     "base_uri": "https://localhost:8080/"
    },
    "id": "6p-TvhqdO-TG",
    "outputId": "dd813a6e-652d-4787-ba7e-00bcb0b1aeee"
   },
   "outputs": [
    {
     "name": "stdout",
     "output_type": "stream",
     "text": [
      "mkdir -p build\n"
     ]
    }
   ],
   "source": [
    "! cd GloVe && make"
   ]
  },
  {
   "cell_type": "code",
   "execution_count": 142,
   "id": "3rBs3BEiYFeN",
   "metadata": {
    "colab": {
     "base_uri": "https://localhost:8080/"
    },
    "id": "3rBs3BEiYFeN",
    "outputId": "2e38fb29-9fd8-4a1e-c213-00d350a20180"
   },
   "outputs": [
    {
     "name": "stdout",
     "output_type": "stream",
     "text": [
      "mkdir -p build\n",
      "\n",
      "$ build/vocab_count -min-count 1 -verbose 2 < ../my_corpus > vocab.txt\n",
      "BUILDING VOCABULARY\n",
      "Processed 0 tokens.\u001b[0GProcessed 69499 tokens.\n",
      "Counted 7390 unique words.\n",
      "Using vocabulary of size 7390.\n",
      "\n",
      "$ build/cooccur -memory 4.0 -vocab-file vocab.txt -verbose 2 -window-size 15 < ../my_corpus > cooccurrence.bin\n",
      "COUNTING COOCCURRENCES\n",
      "window size: 15\n",
      "context: symmetric\n",
      "max product: 13752509\n",
      "overflow length: 38028356\n",
      "Reading vocab from file \"vocab.txt\"...loaded 7390 words.\n",
      "Building lookup table...table contains 32712161 elements.\n",
      "Processing token: 0\u001b[0GProcessed 69499 tokens.\n",
      "Writing cooccurrences to disk.......2 files in total.\n",
      "Merging cooccurrence files: processed 0 lines.\u001b[39G100000 lines.\u001b[39G200000 lines.\u001b[0GMerging cooccurrence files: processed 214956 lines.\n",
      "\n",
      "$ build/shuffle -memory 4.0 -verbose 2 < cooccurrence.bin > cooccurrence.shuf.bin\n",
      "Using random seed 1644443054\n",
      "tcmalloc: large alloc 4080222208 bytes == 0x55e9a3750000 @  0x7fe978eae1e7 0x55e9a2367d56 0x55e9a2366ec5 0x7fe97888cbf7 0x55e9a236704a\n",
      "SHUFFLING COOCCURRENCES\n",
      "array size: 255013683\n",
      "Shuffling by chunks: processed 0 lines.\u001b[22Gprocessed 214956 lines.\n",
      "Wrote 1 temporary file(s).\n",
      "tcmalloc: large alloc 4080222208 bytes == 0x55e9a3750000 @  0x7fe978eae1e7 0x55e9a236742b 0x55e9a23683ee 0x55e9a2366ec5 0x7fe97888cbf7 0x55e9a236704a\n",
      "Merging temp files: processed 0 lines.\u001b[31G214956 lines.\u001b[0GMerging temp files: processed 214956 lines.\n",
      "\n",
      "$ build/glove -save-file vectors -threads 8 -input-file cooccurrence.shuf.bin -x-max 10 -iter 15 -vector-size 50 -binary 2 -vocab-file vocab.txt -verbose 2\n",
      "TRAINING MODEL\n",
      "Read 214956 lines.\n",
      "Initializing parameters...Using random seed 1644443054\n",
      "done.\n",
      "vector size: 50\n",
      "vocab size: 7390\n",
      "x_max: 10.000000\n",
      "alpha: 0.750000\n",
      "02/09/22 - 09:44.14PM, iter: 001, cost: 0.117816\n",
      "02/09/22 - 09:44.14PM, iter: 002, cost: 0.089854\n",
      "02/09/22 - 09:44.14PM, iter: 003, cost: 0.070943\n",
      "02/09/22 - 09:44.15PM, iter: 004, cost: 0.062378\n",
      "02/09/22 - 09:44.15PM, iter: 005, cost: 0.055207\n",
      "02/09/22 - 09:44.15PM, iter: 006, cost: 0.048497\n",
      "02/09/22 - 09:44.15PM, iter: 007, cost: 0.042930\n",
      "02/09/22 - 09:44.15PM, iter: 008, cost: 0.038665\n",
      "02/09/22 - 09:44.16PM, iter: 009, cost: 0.034996\n",
      "02/09/22 - 09:44.16PM, iter: 010, cost: 0.031806\n",
      "02/09/22 - 09:44.16PM, iter: 011, cost: 0.029050\n",
      "02/09/22 - 09:44.16PM, iter: 012, cost: 0.026641\n",
      "02/09/22 - 09:44.16PM, iter: 013, cost: 0.024514\n",
      "02/09/22 - 09:44.17PM, iter: 014, cost: 0.022630\n",
      "02/09/22 - 09:44.17PM, iter: 015, cost: 0.021063\n"
     ]
    }
   ],
   "source": [
    "! cd GloVe && ./demo.sh"
   ]
  },
  {
   "cell_type": "code",
   "execution_count": 143,
   "id": "gYhp4apmYQ7E",
   "metadata": {
    "colab": {
     "base_uri": "https://localhost:8080/"
    },
    "id": "gYhp4apmYQ7E",
    "outputId": "90b72867-f7b0-418b-a278-f6e132308e3b"
   },
   "outputs": [
    {
     "data": {
      "text/plain": [
       "7390"
      ]
     },
     "execution_count": 143,
     "metadata": {},
     "output_type": "execute_result"
    }
   ],
   "source": [
    "len(train)"
   ]
  },
  {
   "cell_type": "code",
   "execution_count": null,
   "id": "SCW9ZJHZcfC-",
   "metadata": {
    "id": "SCW9ZJHZcfC-"
   },
   "outputs": [],
   "source": []
  }
 ],
 "metadata": {
  "accelerator": "GPU",
  "colab": {
   "collapsed_sections": [],
   "name": "Untitled.ipynb",
   "provenance": []
  },
  "kernelspec": {
   "display_name": "Python 3 (ipykernel)",
   "language": "python",
   "name": "python3"
  },
  "language_info": {
   "codemirror_mode": {
    "name": "ipython",
    "version": 3
   },
   "file_extension": ".py",
   "mimetype": "text/x-python",
   "name": "python",
   "nbconvert_exporter": "python",
   "pygments_lexer": "ipython3",
   "version": "3.9.7"
  }
 },
 "nbformat": 4,
 "nbformat_minor": 5
}
