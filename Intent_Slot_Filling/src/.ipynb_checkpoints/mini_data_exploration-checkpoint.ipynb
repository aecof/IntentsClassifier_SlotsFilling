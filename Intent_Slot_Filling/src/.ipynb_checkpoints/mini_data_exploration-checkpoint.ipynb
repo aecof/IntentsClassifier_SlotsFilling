{
 "cells": [
  {
   "cell_type": "markdown",
   "id": "42f76450-2241-4394-bab3-531accd6f3e1",
   "metadata": {},
   "source": [
    "# Data Exploration"
   ]
  },
  {
   "cell_type": "code",
   "execution_count": 29,
   "id": "d5b22dbb-adb8-4953-9a0e-8a8c23f7d61d",
   "metadata": {},
   "outputs": [],
   "source": [
    "from utils import *\n",
    "import torch\n",
    "import pandas as pd\n",
    "import numpy as np\n",
    "import matplotlib.pyplot as plt\n",
    "import seaborn as sns \n",
    "%matplotlib inline"
   ]
  },
  {
   "cell_type": "code",
   "execution_count": 23,
   "id": "236ac95e-8ec2-40b7-8c5c-fc2dbdc297c9",
   "metadata": {},
   "outputs": [],
   "source": [
    "df = pd.read_csv('../data_dir/train.tsv',sep='\\t')"
   ]
  },
  {
   "cell_type": "code",
   "execution_count": 24,
   "id": "65aca95b-d57b-4041-ae68-2305be94849a",
   "metadata": {},
   "outputs": [],
   "source": [
    "df['slots'] = pd.read_csv('../data_dir/train_slots.tsv', header= None, sep = '\\t')"
   ]
  },
  {
   "cell_type": "code",
   "execution_count": 25,
   "id": "510713fe-e013-46fd-b91a-ac4452eb5981",
   "metadata": {},
   "outputs": [
    {
     "data": {
      "text/html": [
       "<div>\n",
       "<style scoped>\n",
       "    .dataframe tbody tr th:only-of-type {\n",
       "        vertical-align: middle;\n",
       "    }\n",
       "\n",
       "    .dataframe tbody tr th {\n",
       "        vertical-align: top;\n",
       "    }\n",
       "\n",
       "    .dataframe thead th {\n",
       "        text-align: right;\n",
       "    }\n",
       "</style>\n",
       "<table border=\"1\" class=\"dataframe\">\n",
       "  <thead>\n",
       "    <tr style=\"text-align: right;\">\n",
       "      <th></th>\n",
       "      <th>sentence</th>\n",
       "      <th>label</th>\n",
       "      <th>slots</th>\n",
       "    </tr>\n",
       "  </thead>\n",
       "  <tbody>\n",
       "    <tr>\n",
       "      <th>0</th>\n",
       "      <td>add blue feather to the nature noise playlist</td>\n",
       "      <td>3</td>\n",
       "      <td>53 42 42 53 53 41 41 53</td>\n",
       "    </tr>\n",
       "    <tr>\n",
       "      <th>1</th>\n",
       "      <td>add song to my pure rock &amp; roll</td>\n",
       "      <td>3</td>\n",
       "      <td>53 43 53 40 53 41 41 41 41</td>\n",
       "    </tr>\n",
       "    <tr>\n",
       "      <th>2</th>\n",
       "      <td>add track to kickass metal</td>\n",
       "      <td>3</td>\n",
       "      <td>53 43 53 41 41</td>\n",
       "    </tr>\n",
       "    <tr>\n",
       "      <th>3</th>\n",
       "      <td>add no more sorrow to ultra metal</td>\n",
       "      <td>3</td>\n",
       "      <td>53 42 42 42 53 41 41</td>\n",
       "    </tr>\n",
       "    <tr>\n",
       "      <th>4</th>\n",
       "      <td>add the trey gunn tune to my french n' heavy p...</td>\n",
       "      <td>3</td>\n",
       "      <td>53 53 39 39 53 43 53 40 53 41 41 41 53</td>\n",
       "    </tr>\n",
       "    <tr>\n",
       "      <th>...</th>\n",
       "      <td>...</td>\n",
       "      <td>...</td>\n",
       "      <td>...</td>\n",
       "    </tr>\n",
       "    <tr>\n",
       "      <th>6995</th>\n",
       "      <td>i'd like to watch in high places</td>\n",
       "      <td>5</td>\n",
       "      <td>53 53 53 53 6 6 6</td>\n",
       "    </tr>\n",
       "    <tr>\n",
       "      <th>6996</th>\n",
       "      <td>find the schedule for movies at star theatres.</td>\n",
       "      <td>5</td>\n",
       "      <td>53 53 8 53 7 53 5 5 53</td>\n",
       "    </tr>\n",
       "    <tr>\n",
       "      <th>6997</th>\n",
       "      <td>show me movie schedules for today.</td>\n",
       "      <td>5</td>\n",
       "      <td>53 53 8 8 53 53</td>\n",
       "    </tr>\n",
       "    <tr>\n",
       "      <th>6998</th>\n",
       "      <td>can i get showtimes for films in the neighborh...</td>\n",
       "      <td>5</td>\n",
       "      <td>53 53 53 53 53 7 53 3 3 3 53</td>\n",
       "    </tr>\n",
       "    <tr>\n",
       "      <th>6999</th>\n",
       "      <td>find movie schedules at loews cineplex enterta...</td>\n",
       "      <td>5</td>\n",
       "      <td>53 8 8 53 5 5 5</td>\n",
       "    </tr>\n",
       "  </tbody>\n",
       "</table>\n",
       "<p>7000 rows × 3 columns</p>\n",
       "</div>"
      ],
      "text/plain": [
       "                                               sentence  label  \\\n",
       "0         add blue feather to the nature noise playlist      3   \n",
       "1                       add song to my pure rock & roll      3   \n",
       "2                            add track to kickass metal      3   \n",
       "3                     add no more sorrow to ultra metal      3   \n",
       "4     add the trey gunn tune to my french n' heavy p...      3   \n",
       "...                                                 ...    ...   \n",
       "6995                   i'd like to watch in high places      5   \n",
       "6996     find the schedule for movies at star theatres.      5   \n",
       "6997                 show me movie schedules for today.      5   \n",
       "6998  can i get showtimes for films in the neighborh...      5   \n",
       "6999  find movie schedules at loews cineplex enterta...      5   \n",
       "\n",
       "                                       slots  \n",
       "0                    53 42 42 53 53 41 41 53  \n",
       "1                 53 43 53 40 53 41 41 41 41  \n",
       "2                             53 43 53 41 41  \n",
       "3                       53 42 42 42 53 41 41  \n",
       "4     53 53 39 39 53 43 53 40 53 41 41 41 53  \n",
       "...                                      ...  \n",
       "6995                       53 53 53 53 6 6 6  \n",
       "6996                  53 53 8 53 7 53 5 5 53  \n",
       "6997                         53 53 8 8 53 53  \n",
       "6998            53 53 53 53 53 7 53 3 3 3 53  \n",
       "6999                         53 8 8 53 5 5 5  \n",
       "\n",
       "[7000 rows x 3 columns]"
      ]
     },
     "execution_count": 25,
     "metadata": {},
     "output_type": "execute_result"
    }
   ],
   "source": [
    "df"
   ]
  },
  {
   "cell_type": "markdown",
   "id": "8e04f56c-20d2-4bf0-a899-13437f5106d5",
   "metadata": {},
   "source": [
    "### What interests us most is the distribution in sentence length "
   ]
  },
  {
   "cell_type": "code",
   "execution_count": 66,
   "id": "a4a1b189-a92a-4b4e-a8d3-011fd68a70f5",
   "metadata": {},
   "outputs": [
    {
     "name": "stderr",
     "output_type": "stream",
     "text": [
      "C:\\Users\\arthu\\anaconda3\\lib\\site-packages\\seaborn\\distributions.py:2619: FutureWarning: `distplot` is a deprecated function and will be removed in a future version. Please adapt your code to use either `displot` (a figure-level function with similar flexibility) or `histplot` (an axes-level function for histograms).\n",
      "  warnings.warn(msg, FutureWarning)\n"
     ]
    },
    {
     "data": {
      "image/png": "[encoded data removed]",
      "text/plain": [
       "<Figure size 432x288 with 1 Axes>"
      ]
     },
     "metadata": {
      "needs_background": "light"
     },
     "output_type": "display_data"
    }
   ],
   "source": [
    "df[\"sentence_length\"] = df[\"sentence\"].apply(lambda x : x.split(' ')).apply(lambda x: len(x))\n",
    "sns.distplot(df[\"sentence_length\"])\n",
    "plt.savefig('markdown_images/sentence_length_distribution.png')"
   ]
  },
  {
   "cell_type": "code",
   "execution_count": 50,
   "id": "b680f080-b7fa-414b-8c71-4ff5a150267e",
   "metadata": {},
   "outputs": [
    {
     "name": "stdout",
     "output_type": "stream",
     "text": [
      "30\n"
     ]
    }
   ],
   "source": [
    "max_sequence_length = max(df['sentence'].apply(lambda x : x.split(' ')).apply(lambda x : len(x)))\n",
    "print(max_sequence_length)"
   ]
  },
  {
   "cell_type": "markdown",
   "id": "404ef42b-ee36-4e4a-94da-c859042e5a6a",
   "metadata": {},
   "source": [
    "The max sequence length is 30, we will use this value for our LSTM max sequence length."
   ]
  },
  {
   "cell_type": "markdown",
   "id": "b2af2716-ac83-499a-a6db-d9bd50a7f34b",
   "metadata": {},
   "source": [
    "### Distribution of slots"
   ]
  },
  {
   "cell_type": "code",
   "execution_count": 58,
   "id": "2b5a0e61-f2de-4dd3-91cf-624ddb277817",
   "metadata": {},
   "outputs": [],
   "source": [
    "def count_slots(df):\n",
    "    slot_dict = {}\n",
    "    slots = df['slots'].apply(lambda x : x.split(' '))\n",
    "    for line in slots :\n",
    "        for slot in line:\n",
    "            if slot in slot_dict.keys():\n",
    "                slot_dict[slot] += 1\n",
    "            else:\n",
    "                slot_dict[slot] = 1\n",
    "    return slot_dict\n",
    "    \n",
    "slot_dict = count_slots(df)"
   ]
  },
  {
   "cell_type": "code",
   "execution_count": 59,
   "id": "8168d530-0c6f-4d83-8415-4e2f1119e156",
   "metadata": {},
   "outputs": [],
   "source": [
    "df_slot_frequencies = pd.DataFrame()\n",
    "df_slot_frequencies[\"slot\"] = slot_dict.keys()\n",
    "df_slot_frequencies[\"frequency\"] = slot_dict.values()\n",
    "df_slot_frequencies = (\n",
    "    df_slot_frequencies.sort_values(by=\"frequency\", ascending=False)\n",
    "    .reset_index()\n",
    "    .drop(\"index\", axis=1)\n",
    ")"
   ]
  },
  {
   "cell_type": "code",
   "execution_count": 67,
   "id": "8e1410da-f058-4d1a-a543-b4dcdd5c8291",
   "metadata": {},
   "outputs": [
    {
     "name": "stderr",
     "output_type": "stream",
     "text": [
      "C:\\Users\\arthu\\anaconda3\\lib\\site-packages\\seaborn\\_decorators.py:36: FutureWarning: Pass the following variables as keyword args: x, y. From version 0.12, the only valid positional argument will be `data`, and passing other arguments without an explicit keyword will result in an error or misinterpretation.\n",
      "  warnings.warn(\n"
     ]
    },
    {
     "data": {
      "image/png": "[encoded data removed]",
      "text/plain": [
       "<Figure size 864x360 with 1 Axes>"
      ]
     },
     "metadata": {
      "needs_background": "light"
     },
     "output_type": "display_data"
    }
   ],
   "source": [
    "plt.figure(figsize= (12,5))\n",
    "sns.barplot(df_slot_frequencies[\"slot\"], df_slot_frequencies[\"frequency\"])\n",
    "plt.savefig('markdown_images/slots_distribution.png')"
   ]
  },
  {
   "cell_type": "markdown",
   "id": "d3ba880c-2cb4-4a72-a3dc-5181ff421ec3",
   "metadata": {},
   "source": [
    "The slot \"53\" which corresponds to no slot is greatly predominant, we will have to try for our models not to just predict \"53\" for every slot..."
   ]
  },
  {
   "cell_type": "markdown",
   "id": "4160299d-de88-41e7-af1a-d5b2e7f6cdfb",
   "metadata": {},
   "source": [
    "No need to check the intent distribution because we know there is 1000 instances of each."
   ]
  },
  {
   "cell_type": "code",
   "execution_count": null,
   "id": "3762d397-061a-4c79-afa9-02fa9e0fefb5",
   "metadata": {},
   "outputs": [],
   "source": []
  }
 ],
 "metadata": {
  "kernelspec": {
   "display_name": "Python 3 (ipykernel)",
   "language": "python",
   "name": "python3"
  },
  "language_info": {
   "codemirror_mode": {
    "name": "ipython",
    "version": 3
   },
   "file_extension": ".py",
   "mimetype": "text/x-python",
   "name": "python",
   "nbconvert_exporter": "python",
   "pygments_lexer": "ipython3",
   "version": "3.9.7"
  }
 },
 "nbformat": 4,
 "nbformat_minor": 5
}
